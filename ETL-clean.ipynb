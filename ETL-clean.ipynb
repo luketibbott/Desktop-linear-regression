{
 "cells": [
  {
   "cell_type": "markdown",
   "metadata": {},
   "source": [
    "# Extract, transform, and load data\n",
    "\n",
    "All data has been scraped at this point. This notebook focuses on ETL."
   ]
  },
  {
   "cell_type": "code",
   "execution_count": 1,
   "metadata": {},
   "outputs": [],
   "source": [
    "import pandas as pd\n",
    "import numpy as np\n",
    "import bs4\n",
    "import requests\n",
    "import neweggutils\n",
    "import re\n",
    "\n",
    "from collections import OrderedDict\n",
    "\n",
    "%load_ext autoreload\n",
    "%autoreload 2"
   ]
  },
  {
   "cell_type": "code",
   "execution_count": 2,
   "metadata": {},
   "outputs": [],
   "source": [
    "pd.set_option('max_colwidth', 200)"
   ]
  },
  {
   "cell_type": "code",
   "execution_count": 3,
   "metadata": {},
   "outputs": [],
   "source": [
    "def extract_load(components, prices):\n",
    "    '''\n",
    "        Parses HTML of two dataframes and merges them in to a single dataframe.\n",
    "        ====Parameters====\n",
    "        components: html of individual computer pages\n",
    "        prices: html of product array page with 96 products\n",
    "        ====Returns====\n",
    "        merged: dataframe with prices corresponding to components\n",
    "    '''\n",
    "    try:\n",
    "        prices.drop(labels=['Unnamed: 0', 'component_html'], axis=1, inplace=True)\n",
    "        components.drop(labels=['Unnamed: 0', 'price_html'], axis=1, inplace=True)\n",
    "\n",
    "    except (KeyError, ValueError):\n",
    "        pass\n",
    "    \n",
    "    components = components.apply(lambda x: neweggutils.get_components(x[0]), axis=1)\n",
    "    prices = prices.apply(lambda x: neweggutils.get_prices_and_links(x[0]))# axis=1) if prices is df\n",
    "    \n",
    "    components = components.dropna()\n",
    "    prices = prices.dropna()\n",
    "    \n",
    "    components = pd.DataFrame.from_records(components.values)    \n",
    "    \n",
    "    # Concatenate all rows in to one list of prices and links\n",
    "    concat_prices = []\n",
    "    \n",
    "    for price in prices:\n",
    "        concat_prices.extend(price)\n",
    "                \n",
    "    prices = pd.DataFrame(concat_prices)\n",
    "    prices.columns = ['price', 'link']\n",
    "    \n",
    "    merged = prices.merge(components, on='link', how='left')\n",
    "    \n",
    "    return merged"
   ]
  },
  {
   "cell_type": "markdown",
   "metadata": {},
   "source": [
    "## Get all available data in to one dataframe\n",
    "\n",
    "First load the available HTML dataframes."
   ]
  },
  {
   "cell_type": "code",
   "execution_count": 4,
   "metadata": {},
   "outputs": [],
   "source": [
    "f5c = pd.read_csv('first_5_prices_backup.csv', index_col=0)\n",
    "f5p = pd.read_csv('first_5_components_backup.csv', index_col=0)"
   ]
  },
  {
   "cell_type": "code",
   "execution_count": 5,
   "metadata": {},
   "outputs": [],
   "source": [
    "f5c.reset_index(inplace=True, drop=True)"
   ]
  },
  {
   "cell_type": "code",
   "execution_count": 6,
   "metadata": {},
   "outputs": [],
   "source": [
    "f5p.reset_index(inplace=True, drop=True)"
   ]
  },
  {
   "cell_type": "code",
   "execution_count": 7,
   "metadata": {},
   "outputs": [],
   "source": [
    "s5p = pd.read_csv('6_to_11_price.csv', index_col=0)\n",
    "s5c = pd.read_csv('6_to_11_component.csv', index_col=0)"
   ]
  },
  {
   "cell_type": "code",
   "execution_count": 8,
   "metadata": {},
   "outputs": [],
   "source": [
    "t5c = pd.read_csv('16_price.csv', index_col=0)\n",
    "t5p = pd.read_csv('16_comp.csv', index_col=0)"
   ]
  },
  {
   "cell_type": "code",
   "execution_count": 12,
   "metadata": {},
   "outputs": [],
   "source": [
    "t5c.reset_index(inplace=True, drop=True)\n",
    "t5p.reset_index(inplace=True, drop=True)"
   ]
  },
  {
   "cell_type": "code",
   "execution_count": 11,
   "metadata": {},
   "outputs": [],
   "source": [
    "last_c = pd.read_csv('32-on-comp.csv', index_col=0)\n",
    "last_p = pd.read_csv('32-on-prices.csv', index_col=0)\n",
    "\n",
    "last_c.reset_index(inplace=True, drop=True)\n",
    "last_p.reset_index(inplace=True, drop=True)"
   ]
  },
  {
   "cell_type": "code",
   "execution_count": 13,
   "metadata": {},
   "outputs": [],
   "source": [
    "df1 = neweggutils.extract_load(f5c, f5p)"
   ]
  },
  {
   "cell_type": "code",
   "execution_count": 14,
   "metadata": {},
   "outputs": [],
   "source": [
    "df1.to_csv('df1_final.csv')"
   ]
  },
  {
   "cell_type": "code",
   "execution_count": 15,
   "metadata": {},
   "outputs": [],
   "source": [
    "df2 = neweggutils.extract_load(s5c, s5p)"
   ]
  },
  {
   "cell_type": "code",
   "execution_count": 16,
   "metadata": {},
   "outputs": [],
   "source": [
    "df2.to_csv('df2_final.csv')"
   ]
  },
  {
   "cell_type": "code",
   "execution_count": 17,
   "metadata": {},
   "outputs": [],
   "source": [
    "df3 = neweggutils.extract_load(t5c, t5p)"
   ]
  },
  {
   "cell_type": "code",
   "execution_count": 18,
   "metadata": {},
   "outputs": [],
   "source": [
    "df3.to_csv('df3_final.csv')"
   ]
  },
  {
   "cell_type": "code",
   "execution_count": 19,
   "metadata": {},
   "outputs": [],
   "source": [
    "df4 = neweggutils.extract_load(last_c, last_p)"
   ]
  },
  {
   "cell_type": "code",
   "execution_count": 20,
   "metadata": {},
   "outputs": [],
   "source": [
    "df4.to_csv('df4_final.csv')"
   ]
  },
  {
   "cell_type": "code",
   "execution_count": 24,
   "metadata": {},
   "outputs": [],
   "source": [
    "final = pd.concat([df1, df2, df3, df4], sort=False)"
   ]
  },
  {
   "cell_type": "code",
   "execution_count": 25,
   "metadata": {},
   "outputs": [
    {
     "name": "stdout",
     "output_type": "stream",
     "text": [
      "<class 'pandas.core.frame.DataFrame'>\n",
      "Int64Index: 4628 entries, 0 to 1275\n",
      "Data columns (total 92 columns):\n",
      "price                             4626 non-null object\n",
      "link                              4628 non-null object\n",
      "Brand                             3174 non-null object\n",
      "Series                            2781 non-null object\n",
      "Model                             4285 non-null object\n",
      "Part Number                       1536 non-null object\n",
      "Type                              1285 non-null object\n",
      "Form Factor                       3985 non-null object\n",
      "Usage                             1152 non-null object\n",
      "Colors                            3557 non-null object\n",
      "Processor                         2965 non-null object\n",
      "Processor Main Features           1281 non-null object\n",
      "Cache Per Processor               1021 non-null object\n",
      "Memory                            2851 non-null object\n",
      "Storage                           2821 non-null object\n",
      "Optical Drive                     2498 non-null object\n",
      "Graphics                          1935 non-null object\n",
      "Power Supply                      530 non-null object\n",
      "Operating System                  4475 non-null object\n",
      "CPU Type                          4418 non-null object\n",
      "CPU Speed                         4466 non-null object\n",
      "L3 Cache Per CPU                  1201 non-null object\n",
      "CPU Main Features                 1668 non-null object\n",
      "GPU/VGA Type                      3732 non-null object\n",
      "Video Memory                      31 non-null object\n",
      "Virtual Reality Ready             15 non-null object\n",
      "Memory Capacity                   4452 non-null object\n",
      "Memory Speed                      79 non-null object\n",
      "Memory Spec                       66 non-null object\n",
      "Memory Slot (Total)               75 non-null object\n",
      "Maximum Memory Supported          694 non-null object\n",
      "Optane Memory                     8 non-null object\n",
      "HDD                               4168 non-null object\n",
      "HDD RPM                           928 non-null object\n",
      "Optical Drive Type                3894 non-null object\n",
      "Screen Size                       3299 non-null object\n",
      "LAN Speed                         3641 non-null object\n",
      "WLAN                              749 non-null object\n",
      "Bluetooth                         840 non-null object\n",
      "Mouse Type                        3506 non-null object\n",
      "Keyboard Type                     3515 non-null object\n",
      "Dimensions (H x W x D)            301 non-null object\n",
      "Weight                            383 non-null object\n",
      "Graphics Interface                1968 non-null object\n",
      "SSD                               2847 non-null object\n",
      "Keyboard                          1600 non-null object\n",
      "Storage Spec                      42 non-null object\n",
      "Optical Drive Spec                55 non-null object\n",
      "Media Slots                       35 non-null object\n",
      "Display Feature                   43 non-null object\n",
      "Front USB                         3431 non-null object\n",
      "Mouse                             1502 non-null object\n",
      "Special Features                  659 non-null object\n",
      "Package Contents                  415 non-null object\n",
      "Software Included                 3286 non-null object\n",
      "Audio Chipset                     3220 non-null object\n",
      "LAN Chipset                       3313 non-null object\n",
      "Video Ports                       3419 non-null object\n",
      "Rear USB                          3445 non-null object\n",
      "RJ45                              3419 non-null object\n",
      "Rear Audio Ports                  3259 non-null object\n",
      "Speaker Configuration             2300 non-null object\n",
      "HDD Interface                     835 non-null object\n",
      "Front Audio Ports                 3193 non-null object\n",
      "Ethernet                          218 non-null object\n",
      "Chipset                           124 non-null object\n",
      "Audio Features                    10 non-null object\n",
      "Memory Slot (Available)           40 non-null object\n",
      "Graphics Card                     54 non-null object\n",
      "Screen Type                       16 non-null object\n",
      "L2 Cache Per CPU                  117 non-null object\n",
      "Memory Slots (Available/Total)    95 non-null object\n",
      "PS/2                              2612 non-null object\n",
      "PCI Slots (Available/Total)       887 non-null object\n",
      "COM                               493 non-null object\n",
      "Speaker Features                  1 non-null object\n",
      "FIR                               1 non-null object\n",
      "Card Reader                       12 non-null object\n",
      "Monitor                           137 non-null object\n",
      "Installed Qty                     20 non-null object\n",
      "Touchscreen                       10 non-null object\n",
      "LPT                               16 non-null object\n",
      "External Bays                     6 non-null object\n",
      "Internal Bays                     5 non-null object\n",
      "Audio                             74 non-null object\n",
      "Speaker                           185 non-null object\n",
      "Package Type                      9 non-null object\n",
      "Optical Drive 2                   1 non-null object\n",
      "Optical Drive 2 Type              1 non-null object\n",
      "Front IEEE 1394                   7 non-null object\n",
      "SLI / Crossfire                   1 non-null object\n",
      "Max Supported Qty                 3 non-null object\n",
      "dtypes: object(92)\n",
      "memory usage: 3.3+ MB\n"
     ]
    }
   ],
   "source": [
    "final.info()"
   ]
  },
  {
   "cell_type": "code",
   "execution_count": 26,
   "metadata": {},
   "outputs": [],
   "source": [
    "final.to_csv('final.csv')"
   ]
  },
  {
   "cell_type": "code",
   "execution_count": 28,
   "metadata": {},
   "outputs": [
    {
     "data": {
      "text/plain": [
       "0.35738980121002595"
      ]
     },
     "execution_count": 28,
     "metadata": {},
     "output_type": "execute_result"
    }
   ],
   "source": [
    "final.duplicated().mean()"
   ]
  }
 ],
 "metadata": {
  "kernelspec": {
   "display_name": "Python 3",
   "language": "python",
   "name": "python3"
  },
  "language_info": {
   "codemirror_mode": {
    "name": "ipython",
    "version": 3
   },
   "file_extension": ".py",
   "mimetype": "text/x-python",
   "name": "python",
   "nbconvert_exporter": "python",
   "pygments_lexer": "ipython3",
   "version": "3.6.5"
  }
 },
 "nbformat": 4,
 "nbformat_minor": 2
}
