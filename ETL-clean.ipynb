{
 "cells": [
  {
   "cell_type": "markdown",
   "metadata": {},
   "source": [
    "We got 16 pages of data in one scrape. We'll go ahead with this as our main dataframe. If necessary we can add another 15 pages of data, for a total of around 3,000 datapoints. "
   ]
  },
  {
   "cell_type": "code",
   "execution_count": 1,
   "metadata": {},
   "outputs": [],
   "source": [
    "import pandas as pd\n",
    "import numpy as np\n",
    "import bs4\n",
    "import requests\n",
    "import neweggutils\n",
    "import re\n",
    "\n",
    "from collections import OrderedDict\n",
    "\n",
    "%load_ext autoreload\n",
    "%autoreload 2"
   ]
  },
  {
   "cell_type": "code",
   "execution_count": 3,
   "metadata": {},
   "outputs": [
    {
     "name": "stdout",
     "output_type": "stream",
     "text": [
      "1-5_master.csv                      extract-clean-newegg.ipynb\r\n",
      "1-5comp.csv                         first_5_components.csv\r\n",
      "1-5price.csv                        first_5_components_backup.csv\r\n",
      "11_to_14_components.csv             first_5_prices.csv\r\n",
      "11_to_14_prices.csv                 first_5_prices_backup.csv\r\n",
      "16_comp.csv                         newegg-utils.py\r\n",
      "16_price.csv                        neweggutils.py\r\n",
      "6-11comp.csv                        prices.csv\r\n",
      "6-11price.csv                       scale-scrape.ipynb\r\n",
      "6_to_11_component.csv               scrape-amazon.ipynb\r\n",
      "6_to_11_components.csv              scrape-newegg.ipynb\r\n",
      "6_to_11_price.csv                   scrape-nutrition.ipynb\r\n",
      "6_to_11_prices.csv                  scrape-stocks.ipynb\r\n",
      "ETL-clean.ipynb                     test_components.csv\r\n",
      "README.md                           test_components.html\r\n",
      "\u001b[34m__pycache__\u001b[m\u001b[m                         test_prices.csv\r\n",
      "components.csv                      tibbott-project-luther-proposal.pdf\r\n"
     ]
    }
   ],
   "source": [
    "!ls"
   ]
  },
  {
   "cell_type": "code",
   "execution_count": 6,
   "metadata": {},
   "outputs": [],
   "source": [
    "first5 = pd.read_csv('1-5_master.csv', index_col=0)"
   ]
  },
  {
   "cell_type": "code",
   "execution_count": null,
   "metadata": {},
   "outputs": [],
   "source": [
    "def explode_dfs(components, prices):\n",
    "    '''\n",
    "    \n",
    "    '''\n",
    "    components.drop(labels=['Unnamed: 0', 'price_html'], axis=1, inplace=True)\n",
    "    prices.drop(labels=['Unnamed: 0', 'components_html'], axis=1, inplace=True)\n",
    "    \n",
    "    components = components.apply(lambda x: neweggutils.get_components(x[0]), axis=1)\n",
    "    prices = prices.apply(lambda x: neweggutils.get_prices_and_links(x[0]), axis=1)\n",
    "    \n",
    "    components = components.dropna()\n",
    "    prices = prices.dropna()\n",
    "    \n",
    "    components = pd.DataFrame.from_records(components.values)\n",
    "    prices = pd.DataFrame.from_records(prices.values)\n",
    "    "
   ]
  },
  {
   "cell_type": "markdown",
   "metadata": {},
   "source": [
    "Load pages 16 and on dataframe:"
   ]
  },
  {
   "cell_type": "code",
   "execution_count": 75,
   "metadata": {},
   "outputs": [],
   "source": [
    "sixteen_c = pd.read_csv('16_price.csv')\n",
    "sixteen_p = pd.read_csv('16_comp.csv')"
   ]
  },
  {
   "cell_type": "markdown",
   "metadata": {},
   "source": [
    "Drop unnecessary columns."
   ]
  },
  {
   "cell_type": "code",
   "execution_count": 76,
   "metadata": {},
   "outputs": [],
   "source": [
    "sixteen_c.drop(labels=['Unnamed: 0', 'price_html'], axis=1, inplace=True)\n",
    "sixteen_p.drop(labels=['Unnamed: 0', 'component_html'], axis=1, inplace=True)"
   ]
  },
  {
   "cell_type": "markdown",
   "metadata": {},
   "source": [
    "Parse HTML to get price and corresponding links from `sixteen_p`, and price and corresponding components from `sixteen_c`. We will use the links to join corresponding prices and components."
   ]
  },
  {
   "cell_type": "code",
   "execution_count": null,
   "metadata": {},
   "outputs": [],
   "source": [
    "sixteen_c = sixteen_c.apply(lambda x: neweggutils.get_components(x[0]), axis=1)\n",
    "sixteen_p = sixteen_p.apply(lambda x: neweggutils.get_prices_and_links(x[0]), axis=1)"
   ]
  },
  {
   "cell_type": "code",
   "execution_count": 63,
   "metadata": {},
   "outputs": [],
   "source": [
    "sixteen_c = sixteen_c.dropna()"
   ]
  },
  {
   "cell_type": "code",
   "execution_count": 53,
   "metadata": {},
   "outputs": [],
   "source": [
    "x = sixteen_c.values"
   ]
  },
  {
   "cell_type": "code",
   "execution_count": 66,
   "metadata": {},
   "outputs": [],
   "source": [
    "components = pd.DataFrame.from_records(sixteen_c.values)"
   ]
  },
  {
   "cell_type": "code",
   "execution_count": 71,
   "metadata": {},
   "outputs": [],
   "source": [
    "sixteen_p = sixteen_p[:, np.newaxis]"
   ]
  },
  {
   "cell_type": "code",
   "execution_count": 74,
   "metadata": {},
   "outputs": [
    {
     "data": {
      "text/plain": [
       "(15, 1)"
      ]
     },
     "execution_count": 74,
     "metadata": {},
     "output_type": "execute_result"
    }
   ],
   "source": [
    "sixteen_p.shape"
   ]
  }
 ],
 "metadata": {
  "kernelspec": {
   "display_name": "Python 3",
   "language": "python",
   "name": "python3"
  },
  "language_info": {
   "codemirror_mode": {
    "name": "ipython",
    "version": 3
   },
   "file_extension": ".py",
   "mimetype": "text/x-python",
   "name": "python",
   "nbconvert_exporter": "python",
   "pygments_lexer": "ipython3",
   "version": "3.6.5"
  }
 },
 "nbformat": 4,
 "nbformat_minor": 2
}
