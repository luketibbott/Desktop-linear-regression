{
 "cells": [
  {
   "cell_type": "markdown",
   "metadata": {},
   "source": [
    "We got 16 pages of data in one scrape. We'll go ahead with this as our main dataframe. If necessary we can add another 15 pages of data, for a total of around 3,000 datapoints. "
   ]
  },
  {
   "cell_type": "code",
   "execution_count": 194,
   "metadata": {},
   "outputs": [
    {
     "name": "stdout",
     "output_type": "stream",
     "text": [
      "The autoreload extension is already loaded. To reload it, use:\n",
      "  %reload_ext autoreload\n"
     ]
    }
   ],
   "source": [
    "import pandas as pd\n",
    "import numpy as np\n",
    "import bs4\n",
    "import requests\n",
    "import neweggutils\n",
    "import re\n",
    "\n",
    "from collections import OrderedDict\n",
    "\n",
    "%load_ext autoreload\n",
    "%autoreload 2"
   ]
  },
  {
   "cell_type": "code",
   "execution_count": 348,
   "metadata": {},
   "outputs": [],
   "source": [
    "pd.set_option('max_colwidth', 200)"
   ]
  },
  {
   "cell_type": "code",
   "execution_count": 155,
   "metadata": {},
   "outputs": [],
   "source": [
    "def extract_load(components, prices):\n",
    "    '''\n",
    "        Parses HTML of two dataframes and merges them in to a single dataframe.\n",
    "        ====Parameters====\n",
    "        components: html of individual computer pages\n",
    "        prices: html of product array page with 96 products\n",
    "        ====Returns====\n",
    "        merged: dataframe with prices corresponding to components\n",
    "    '''\n",
    "    try:\n",
    "        prices.drop(labels=['Unnamed: 0', 'component_html'], axis=1, inplace=True)\n",
    "        components.drop(labels=['Unnamed: 0', 'price_html'], axis=1, inplace=True)\n",
    "\n",
    "    except (KeyError, ValueError):\n",
    "        pass\n",
    "    \n",
    "    components = components.apply(lambda x: neweggutils.get_components(x[0]), axis=1)\n",
    "    prices = prices.apply(lambda x: neweggutils.get_prices_and_links(x[0]))# axis=1) if prices is df\n",
    "    \n",
    "    components = components.dropna()\n",
    "    prices = prices.dropna()\n",
    "    \n",
    "    components = pd.DataFrame.from_records(components.values)    \n",
    "    \n",
    "    # Concatenate all rows in to one list of prices and links\n",
    "    concat_prices = []\n",
    "    \n",
    "    for price in prices:\n",
    "        concat_prices.extend(price)\n",
    "                \n",
    "    prices = pd.DataFrame(concat_prices)\n",
    "    prices.columns = ['price', 'link']\n",
    "    \n",
    "    merged = prices.merge(components, on='link', how='left')\n",
    "    \n",
    "    return merged"
   ]
  },
  {
   "cell_type": "markdown",
   "metadata": {},
   "source": [
    "## Get all available data in to one dataframe\n",
    "\n",
    "First load the available HTML dataframes."
   ]
  },
  {
   "cell_type": "code",
   "execution_count": 511,
   "metadata": {},
   "outputs": [],
   "source": [
    "f5c = pd.read_csv('first_5_prices_backup.csv', index_col=0)\n",
    "f5p = pd.read_csv('first_5_components_backup.csv', index_col=0)"
   ]
  },
  {
   "cell_type": "code",
   "execution_count": 512,
   "metadata": {},
   "outputs": [],
   "source": [
    "f5c.reset_index(inplace=True, drop=True)"
   ]
  },
  {
   "cell_type": "code",
   "execution_count": 513,
   "metadata": {},
   "outputs": [],
   "source": [
    "f5p.reset_index(inplace=True, drop=True)"
   ]
  },
  {
   "cell_type": "code",
   "execution_count": 514,
   "metadata": {},
   "outputs": [],
   "source": [
    "s5p = pd.read_csv('6_to_11_price.csv', index_col=0)\n",
    "s5c = pd.read_csv('6_to_11_component.csv', index_col=0)"
   ]
  },
  {
   "cell_type": "code",
   "execution_count": 516,
   "metadata": {},
   "outputs": [],
   "source": [
    "t5c = pd.read_csv('16_price.csv', index_col=0)\n",
    "t5p = pd.read_csv('16_comp.csv', index_col=0)"
   ]
  },
  {
   "cell_type": "code",
   "execution_count": 517,
   "metadata": {},
   "outputs": [],
   "source": [
    "last_c = pd.read_csv('32-on-comp.csv', index_col=0)\n",
    "last_p = pd.read_csv('32-on-prices.csv', index_col=0)\n",
    "\n",
    "last_c.reset_index(inplace=True, drop=True)\n",
    "last_p.reset_index(inplace=True, drop=True)"
   ]
  },
  {
   "cell_type": "code",
   "execution_count": 508,
   "metadata": {},
   "outputs": [],
   "source": [
    "df1 = neweggutils.extract_load(f5c, f5p)"
   ]
  },
  {
   "cell_type": "code",
   "execution_count": 518,
   "metadata": {},
   "outputs": [],
   "source": [
    "df1.to_csv('df1_final.csv')"
   ]
  },
  {
   "cell_type": "code",
   "execution_count": 519,
   "metadata": {},
   "outputs": [],
   "source": [
    "df2 = neweggutils.extract_load(s5c, s5p)"
   ]
  },
  {
   "cell_type": "code",
   "execution_count": null,
   "metadata": {},
   "outputs": [],
   "source": []
  },
  {
   "cell_type": "code",
   "execution_count": 520,
   "metadata": {},
   "outputs": [],
   "source": [
    "df2.to_csv('df2_final.csv')"
   ]
  },
  {
   "cell_type": "code",
   "execution_count": 521,
   "metadata": {},
   "outputs": [],
   "source": [
    "t5c.reset_index(inplace=True, drop=True)\n",
    "t5p.reset_index(inplace=True, drop=True)"
   ]
  },
  {
   "cell_type": "code",
   "execution_count": null,
   "metadata": {},
   "outputs": [],
   "source": [
    "df3 = neweggutils.extract_load(t5c, t5p)"
   ]
  },
  {
   "cell_type": "code",
   "execution_count": null,
   "metadata": {},
   "outputs": [],
   "source": [
    "df3.to_csv('df3_final.csv')"
   ]
  },
  {
   "cell_type": "code",
   "execution_count": null,
   "metadata": {},
   "outputs": [],
   "source": [
    "df4 = neweggutils.extract_load(last_c, last_p)"
   ]
  },
  {
   "cell_type": "code",
   "execution_count": null,
   "metadata": {},
   "outputs": [],
   "source": [
    "df4.to_csv('master4.csv')"
   ]
  },
  {
   "cell_type": "code",
   "execution_count": null,
   "metadata": {},
   "outputs": [],
   "source": [
    "final = pd.concat([df1, df2, df3], sort=False)"
   ]
  },
  {
   "cell_type": "code",
   "execution_count": null,
   "metadata": {},
   "outputs": [],
   "source": [
    "final.info()"
   ]
  },
  {
   "cell_type": "code",
   "execution_count": null,
   "metadata": {},
   "outputs": [],
   "source": [
    "final.to_csv('final.csv')"
   ]
  }
 ],
 "metadata": {
  "kernelspec": {
   "display_name": "Python 3",
   "language": "python",
   "name": "python3"
  },
  "language_info": {
   "codemirror_mode": {
    "name": "ipython",
    "version": 3
   },
   "file_extension": ".py",
   "mimetype": "text/x-python",
   "name": "python",
   "nbconvert_exporter": "python",
   "pygments_lexer": "ipython3",
   "version": "3.6.5"
  }
 },
 "nbformat": 4,
 "nbformat_minor": 2
}
