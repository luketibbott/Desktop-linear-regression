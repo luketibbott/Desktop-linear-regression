{
 "cells": [
  {
   "cell_type": "code",
   "execution_count": 239,
   "metadata": {},
   "outputs": [],
   "source": [
    "import pandas as pd\n",
    "import numpy as np\n",
    "import matplotlib.pyplot as plt\n",
    "import requests\n",
    "import bs4\n",
    "import re\n",
    "from collections import OrderedDict\n",
    "import time\n",
    "import random\n",
    "\n",
    "%matplotlib inline"
   ]
  },
  {
   "cell_type": "markdown",
   "metadata": {},
   "source": [
    "First page's url is here: https://www.newegg.com/Product/ProductList.aspx?Submit=Property&N=100019096%2050010772%2050001186%2050010418%208000&IsNodeId=1&bop=And&Order=RELEASE&PageSize=96\n",
    "\n",
    "**Sorting parameters within this page:**\n",
    "* Seller is Newegg\n",
    "* Brand is Dell, HP, Lenovo\n",
    "* Sort by Newest to Oldest\n",
    "* 96 Products per page\n",
    "* Date is 10/3 at 10:33 PM"
   ]
  },
  {
   "cell_type": "markdown",
   "metadata": {},
   "source": [
    "## Scraping functions"
   ]
  },
  {
   "cell_type": "code",
   "execution_count": 83,
   "metadata": {},
   "outputs": [],
   "source": [
    "def get_soup(url):\n",
    "    r = requests.get(url)\n",
    "    soup = bs4.BeautifulSoup(r.text, 'lxml')\n",
    "    return soup"
   ]
  },
  {
   "cell_type": "code",
   "execution_count": 87,
   "metadata": {},
   "outputs": [],
   "source": [
    "def get_components(soup):\n",
    "    '''Grabs all available PC components from Newegg webpage. \n",
    "       ====Parameters====\n",
    "       soup: BeautifulSoup object (use get_soup() function)\n",
    "       ====Returns====\n",
    "       this_computer: OrderedDict mapping this computer's variables to values\n",
    "    '''\n",
    "    # Narrow down to specifications part of page\n",
    "    specs = soup.find('div', class_='plinks')\n",
    "    # All categories of technical specifications in dt tags\n",
    "    categories = specs.find_all('dt')\n",
    "    # All details of technical specifications in dd tags\n",
    "    details = specs.find_all('dd')\n",
    "    \n",
    "    this_computer = OrderedDict()\n",
    "    \n",
    "    for cat, det in zip(categories, details):\n",
    "        # raw detail is always located here\n",
    "        raw_det = det.contents[0]\n",
    "        \n",
    "        # in some cases, have to go one tag deeper to get category name\n",
    "        if type(cat.contents[0]) == bs4.element.Tag:\n",
    "            raw_cat = cat.contents[0].contents[0]\n",
    "        else:\n",
    "            raw_cat = cat.contents[0]\n",
    "            \n",
    "        this_computer[raw_cat] = raw_det\n",
    "    return this_computer"
   ]
  },
  {
   "cell_type": "code",
   "execution_count": 118,
   "metadata": {},
   "outputs": [],
   "source": [
    "soup = get_soup('https://www.newegg.com/Product/Product.aspx?Item=N82E16883794794&ignorebbr=1')"
   ]
  },
  {
   "cell_type": "code",
   "execution_count": 119,
   "metadata": {},
   "outputs": [
    {
     "data": {
      "text/plain": [
       "[]"
      ]
     },
     "execution_count": 119,
     "metadata": {},
     "output_type": "execute_result"
    }
   ],
   "source": [
    "soup.find_all('div', class_='subscription-price student-purchase physical-subscription multiple-selections')"
   ]
  },
  {
   "cell_type": "code",
   "execution_count": 105,
   "metadata": {},
   "outputs": [
    {
     "data": {
      "text/plain": [
       "[]"
      ]
     },
     "execution_count": 105,
     "metadata": {},
     "output_type": "execute_result"
    }
   ],
   "source": [
    "soup.find_all('ul', class_='price price-product-cells price-main-product')"
   ]
  },
  {
   "cell_type": "code",
   "execution_count": 120,
   "metadata": {},
   "outputs": [
    {
     "data": {
      "text/plain": [
       "OrderedDict([('Brand', 'Lenovo'),\n",
       "             ('Series', '720-18ASU'),\n",
       "             ('Model', '90H1000NUS'),\n",
       "             ('Type', 'Gaming & Entertainment'),\n",
       "             ('Usage', 'Consumer'),\n",
       "             ('Colors', 'Silver'),\n",
       "             ('Processor', 'AMD Ryzen 7 1700 3.0 GHz'),\n",
       "             ('Processor Main Features', '64 bit 8-Core Processor'),\n",
       "             ('Cache Per Processor', '16 MB L3 Cache'),\n",
       "             ('Memory', '16 GB DDR4'),\n",
       "             ('Storage', '1 TB HDD + 128 GB SSD'),\n",
       "             ('Optical Drive', 'DVDRW'),\n",
       "             ('Graphics', 'AMD Radeon RX 570 4 GB'),\n",
       "             ('Power Supply', '400W'),\n",
       "             ('Operating System', 'Windows 10 Home 64-Bit'),\n",
       "             ('CPU Type', 'Ryzen 7'),\n",
       "             ('CPU Speed', '1700 (3.00 GHz)'),\n",
       "             ('L3 Cache Per CPU', '16 MB'),\n",
       "             ('CPU Main Features', '64 bit 8-Core Processor'),\n",
       "             ('GPU/VGA Type', 'AMD Radeon RX 570'),\n",
       "             ('Video Memory', '4 GB'),\n",
       "             ('Memory Capacity', '16 GB DDR4'),\n",
       "             ('SSD', '128 GB M.2 PCIe'),\n",
       "             ('HDD', '1 TB'),\n",
       "             ('HDD RPM', '7200rpm'),\n",
       "             ('Optical Drive Type', 'DVD±RW'),\n",
       "             ('Screen Size', 'No Screen'),\n",
       "             ('WLAN', '802.11ac Wireless LAN'),\n",
       "             ('Bluetooth', 'Yes')])"
      ]
     },
     "execution_count": 120,
     "metadata": {},
     "output_type": "execute_result"
    }
   ],
   "source": [
    "get_components(soup)"
   ]
  },
  {
   "cell_type": "markdown",
   "metadata": {},
   "source": [
    "## Cleaning functions"
   ]
  },
  {
   "cell_type": "code",
   "execution_count": 91,
   "metadata": {},
   "outputs": [],
   "source": [
    "def processor_brand(processor):\n",
    "    # Return the first word in the processor description (usually the brand)\n",
    "    return processor.split(' ')[0]"
   ]
  },
  {
   "cell_type": "code",
   "execution_count": 92,
   "metadata": {},
   "outputs": [],
   "source": [
    "def ram_cap(memory):\n",
    "    # Returns RAM capacity\n",
    "    return memory.upper().split('GB')[0]"
   ]
  },
  {
   "cell_type": "code",
   "execution_count": 94,
   "metadata": {},
   "outputs": [],
   "source": [
    "def ram_type(memory):\n",
    "    # Returns type of RAM (DDR2, DDR3, or DDR4)\n",
    "    memory = memory.upper()\n",
    "    if 'DDR2' in memory:\n",
    "        return 'ddr2'\n",
    "    if 'DDR3' in memory:\n",
    "        return 'ddr3'\n",
    "    # DDR4 is industry standard these days, we default to it\n",
    "    else:\n",
    "        return 'ddr4'"
   ]
  },
  {
   "cell_type": "code",
   "execution_count": 95,
   "metadata": {},
   "outputs": [],
   "source": [
    "def disk_cap(storage):\n",
    "    # Returns the disk capacity of a hard disk (will also grab first letter of storage unit GB or TB)\n",
    "    storage = storage.upper()\n",
    "    stor_split = storage.split('B')\n",
    "    return stor_split[0]"
   ]
  },
  {
   "cell_type": "code",
   "execution_count": 100,
   "metadata": {},
   "outputs": [],
   "source": [
    "def ssd_or_hdd(storage):\n",
    "    # Check contents of storage for keywords indicating disk type\n",
    "    storage = storage.upper()\n",
    "    # Some systems have both SSD and HDD in \n",
    "    if ('+' in storage) or ('plus' in storage):\n",
    "        return 'both'\n",
    "    elif 'SSD' in storage:\n",
    "        return 'ssd'\n",
    "    elif 'RPM' in storage:\n",
    "        return 'hdd'\n",
    "    elif 'HDD' in storage:\n",
    "        return 'hdd'\n",
    "    else:\n",
    "        return 'hdd'"
   ]
  },
  {
   "cell_type": "code",
   "execution_count": 121,
   "metadata": {},
   "outputs": [
    {
     "ename": "SyntaxError",
     "evalue": "unexpected EOF while parsing (<ipython-input-121-a73db5ef83d3>, line 3)",
     "output_type": "error",
     "traceback": [
      "\u001b[0;36m  File \u001b[0;32m\"<ipython-input-121-a73db5ef83d3>\"\u001b[0;36m, line \u001b[0;32m3\u001b[0m\n\u001b[0;31m    # be careful not to grab from the processor speed!\u001b[0m\n\u001b[0m                                                      ^\u001b[0m\n\u001b[0;31mSyntaxError\u001b[0m\u001b[0;31m:\u001b[0m unexpected EOF while parsing\n"
     ]
    }
   ],
   "source": [
    "def num_cores(processor, processor_main_features):\n",
    "    # TODO: grab number of cores based on keywords such as 'dual', 'quad', 'six', '6'. \n",
    "    # be careful not to grab from the processor speed!"
   ]
  },
  {
   "cell_type": "markdown",
   "metadata": {},
   "source": [
    "## Scaling with Selenium"
   ]
  },
  {
   "cell_type": "code",
   "execution_count": 143,
   "metadata": {},
   "outputs": [],
   "source": [
    "from selenium import webdriver\n",
    "from selenium.webdriver.common.keys import Keys\n",
    "from selenium.webdriver.common.by import By\n",
    "import time\n",
    "\n",
    "import os"
   ]
  },
  {
   "cell_type": "code",
   "execution_count": 126,
   "metadata": {},
   "outputs": [],
   "source": [
    "chromedriver = \"/usr/local/bin/chromedriver\"\n",
    "os.environ[\"webdriver.chrome.driver\"] = chromedriver"
   ]
  },
  {
   "cell_type": "code",
   "execution_count": null,
   "metadata": {},
   "outputs": [],
   "source": [
    "driver = webdriver.Chrome(chromedriver)"
   ]
  },
  {
   "cell_type": "code",
   "execution_count": null,
   "metadata": {},
   "outputs": [],
   "source": [
    "driver.get('https://www.newegg.com/Product/ProductList.aspx?Submit=Property&N=100019096%2050010772%2050001186%2050010418%208000&IsNodeId=1')"
   ]
  },
  {
   "cell_type": "code",
   "execution_count": 170,
   "metadata": {},
   "outputs": [],
   "source": [
    "product_array = driver.find_elements_by_class_name('item-container')"
   ]
  },
  {
   "cell_type": "code",
   "execution_count": 171,
   "metadata": {},
   "outputs": [],
   "source": [
    "def get_html_from_one_page(driver, product_num, product_array):\n",
    "    '''Navigates from product main page in to product and returns raw html\n",
    "       driver: Selenium chrome driver\n",
    "       product_num: int 0-95 representing a product within the product array on a page\n",
    "    '''\n",
    "    product_array[product_num].click()\n",
    "    html = driver.page_source\n",
    "    driver.back()\n",
    "    return html"
   ]
  },
  {
   "cell_type": "markdown",
   "metadata": {},
   "source": [
    "### Proof of concept:"
   ]
  },
  {
   "cell_type": "code",
   "execution_count": 175,
   "metadata": {},
   "outputs": [],
   "source": [
    "driver.close()"
   ]
  },
  {
   "cell_type": "code",
   "execution_count": 172,
   "metadata": {},
   "outputs": [],
   "source": [
    "test_html = get_html_from_one_page(driver, 0, product_array)"
   ]
  },
  {
   "cell_type": "code",
   "execution_count": 173,
   "metadata": {},
   "outputs": [],
   "source": [
    "test_soup = BeautifulSoup(test_html, 'lxml')"
   ]
  },
  {
   "cell_type": "markdown",
   "metadata": {},
   "source": [
    "### Scrape prices"
   ]
  },
  {
   "cell_type": "code",
   "execution_count": 237,
   "metadata": {},
   "outputs": [],
   "source": [
    "def get_prices(soup):\n",
    "    # Grabs all 96 prices from the product array page\n",
    "    price_list = []\n",
    "    \n",
    "    price_spans = soup.find_all('span', class_='price-current-label')\n",
    "    for span in price_spans:\n",
    "        price_list.append(span.findNextSibling().contents[0])\n",
    "    return price_list"
   ]
  },
  {
   "cell_type": "markdown",
   "metadata": {},
   "source": [
    "## General scraping function\n",
    "\n",
    "We're just going to get the HTML for the product array page, and the html for each computer's page on that product array. We'll parse this data using BeautifulSoup later."
   ]
  },
  {
   "cell_type": "code",
   "execution_count": null,
   "metadata": {},
   "outputs": [],
   "source": [
    "def lets_scrape(url):\n",
    "    '''\n",
    "    Grabs the HTML of the product array page and the 96 computers on that page.\n",
    "    =====Parameters=====\n",
    "    Driver: Selenium Chrome driver to control Chrome browser\n",
    "    =====Returns=====\n",
    "    pandas DataFrame of two columns: price and html of page for computer of that price\n",
    "    '''\n",
    "    price_df = pd.DataFrame(columns=['array_html'])\n",
    "    \n",
    "    \n",
    "    # Instantiate Chrome window controlled by driver\n",
    "    chromedriver = \"/usr/local/bin/chromedriver\"\n",
    "    os.environ[\"webdriver.chrome.driver\"] = chromedriver\n",
    "    driver = webdriver.Chrome(chromedriver)\n",
    "    \n",
    "    # Open the product page\n",
    "    driver.get(url)\n",
    "    \n",
    "    # All computer links in this \"array\"\n",
    "    product_array = driver.find_elements_by_class_name('item-container')\n",
    "    array_html = driver.page_source\n",
    "    \n",
    "    # TODO: time.sleep() with random? For how long?\n",
    "    # Loop over product_array and grab html from each product using get_html_from_one_page"
   ]
  }
 ],
 "metadata": {
  "kernelspec": {
   "display_name": "Python 3",
   "language": "python",
   "name": "python3"
  },
  "language_info": {
   "codemirror_mode": {
    "name": "ipython",
    "version": 3
   },
   "file_extension": ".py",
   "mimetype": "text/x-python",
   "name": "python",
   "nbconvert_exporter": "python",
   "pygments_lexer": "ipython3",
   "version": "3.6.5"
  }
 },
 "nbformat": 4,
 "nbformat_minor": 2
}
