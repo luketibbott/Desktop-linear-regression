{
 "cells": [
  {
   "cell_type": "code",
   "execution_count": 463,
   "metadata": {},
   "outputs": [
    {
     "name": "stdout",
     "output_type": "stream",
     "text": [
      "The autoreload extension is already loaded. To reload it, use:\n",
      "  %reload_ext autoreload\n"
     ]
    }
   ],
   "source": [
    "import pandas as pd\n",
    "import numpy as np\n",
    "import bs4\n",
    "import requests\n",
    "import neweggutils\n",
    "import re\n",
    "\n",
    "from collections import OrderedDict\n",
    "\n",
    "%load_ext autoreload\n",
    "%autoreload 2"
   ]
  },
  {
   "cell_type": "markdown",
   "metadata": {},
   "source": [
    "## Cleaning functions"
   ]
  },
  {
   "cell_type": "code",
   "execution_count": 351,
   "metadata": {},
   "outputs": [],
   "source": [
    "first_5_p.drop(labels=['price_html'], inplace=True, axis=1)"
   ]
  },
  {
   "cell_type": "code",
   "execution_count": 353,
   "metadata": {},
   "outputs": [],
   "source": [
    "first_5_c.drop(labels=['component_html'], inplace=True, axis=1)"
   ]
  },
  {
   "cell_type": "code",
   "execution_count": 357,
   "metadata": {},
   "outputs": [],
   "source": [
    "first_5_c.rename({'price_html': 'component_html'}, axis=1, inplace=True)"
   ]
  },
  {
   "cell_type": "code",
   "execution_count": 359,
   "metadata": {},
   "outputs": [],
   "source": [
    "first_5_p.rename({'component_html': 'price_html'}, axis=1, inplace=True)"
   ]
  },
  {
   "cell_type": "code",
   "execution_count": 372,
   "metadata": {},
   "outputs": [],
   "source": [
    "six_to_eleven_c.drop(labels=['Unnamed: 0.1', 'component_html'], axis=1, inplace=True)\n",
    "six_to_eleven_c.rename({'price_html': 'component_html'}, inplace=True, axis=1)"
   ]
  },
  {
   "cell_type": "code",
   "execution_count": 378,
   "metadata": {},
   "outputs": [],
   "source": [
    "eleven_to_fourteen_p = pd.read_csv('11_to_14_prices.csv')\n",
    "eleven_to_fourteen_c = pd.read_csv('11_to_14_components.csv', index_col=0)"
   ]
  },
  {
   "cell_type": "code",
   "execution_count": 8,
   "metadata": {},
   "outputs": [],
   "source": [
    "first_5_p = first_5_p.apply(lambda x: neweggutils.get_components(x[0]), axis=1)"
   ]
  },
  {
   "cell_type": "code",
   "execution_count": 336,
   "metadata": {},
   "outputs": [],
   "source": [
    "first_5_c = first_5_c.apply(lambda x: neweggutils.get_prices(x[0]), axis=1)"
   ]
  },
  {
   "cell_type": "code",
   "execution_count": 220,
   "metadata": {},
   "outputs": [],
   "source": [
    "first_5_p.to_csv('first_5_components.csv')\n",
    "first_5_c.to_csv('first_5_prices.csv')"
   ]
  },
  {
   "cell_type": "code",
   "execution_count": 21,
   "metadata": {
    "collapsed": true
   },
   "outputs": [
    {
     "ename": "KeyError",
     "evalue": "\"labels ['Unnamed: 0' 'prices_html'] not contained in axis\"",
     "output_type": "error",
     "traceback": [
      "\u001b[0;31m---------------------------------------------------------------------------\u001b[0m",
      "\u001b[0;31mKeyError\u001b[0m                                  Traceback (most recent call last)",
      "\u001b[0;32m<ipython-input-21-6d7a55af46c8>\u001b[0m in \u001b[0;36m<module>\u001b[0;34m()\u001b[0m\n\u001b[0;32m----> 1\u001b[0;31m \u001b[0msix_to_eleven_p\u001b[0m\u001b[0;34m.\u001b[0m\u001b[0mdrop\u001b[0m\u001b[0;34m(\u001b[0m\u001b[0mlabels\u001b[0m\u001b[0;34m=\u001b[0m\u001b[0;34m[\u001b[0m\u001b[0;34m'Unnamed: 0'\u001b[0m\u001b[0;34m,\u001b[0m \u001b[0;34m'prices_html'\u001b[0m\u001b[0;34m]\u001b[0m\u001b[0;34m,\u001b[0m \u001b[0minplace\u001b[0m\u001b[0;34m=\u001b[0m\u001b[0;32mTrue\u001b[0m\u001b[0;34m,\u001b[0m \u001b[0maxis\u001b[0m\u001b[0;34m=\u001b[0m\u001b[0;36m1\u001b[0m\u001b[0;34m)\u001b[0m\u001b[0;34m\u001b[0m\u001b[0m\n\u001b[0m\u001b[1;32m      2\u001b[0m \u001b[0msix_to_eleven_c\u001b[0m\u001b[0;34m.\u001b[0m\u001b[0mdrop\u001b[0m\u001b[0;34m(\u001b[0m\u001b[0mlabels\u001b[0m\u001b[0;34m=\u001b[0m\u001b[0;34m[\u001b[0m\u001b[0;34m'Unnamed: 0'\u001b[0m\u001b[0;34m,\u001b[0m \u001b[0;34m'component_html'\u001b[0m\u001b[0;34m]\u001b[0m\u001b[0;34m,\u001b[0m \u001b[0minplace\u001b[0m\u001b[0;34m=\u001b[0m\u001b[0;32mTrue\u001b[0m\u001b[0;34m,\u001b[0m \u001b[0maxis\u001b[0m\u001b[0;34m=\u001b[0m\u001b[0;36m1\u001b[0m\u001b[0;34m)\u001b[0m\u001b[0;34m\u001b[0m\u001b[0m\n",
      "\u001b[0;32m/anaconda3/lib/python3.6/site-packages/pandas/core/frame.py\u001b[0m in \u001b[0;36mdrop\u001b[0;34m(self, labels, axis, index, columns, level, inplace, errors)\u001b[0m\n\u001b[1;32m   3692\u001b[0m                                            \u001b[0mindex\u001b[0m\u001b[0;34m=\u001b[0m\u001b[0mindex\u001b[0m\u001b[0;34m,\u001b[0m \u001b[0mcolumns\u001b[0m\u001b[0;34m=\u001b[0m\u001b[0mcolumns\u001b[0m\u001b[0;34m,\u001b[0m\u001b[0;34m\u001b[0m\u001b[0m\n\u001b[1;32m   3693\u001b[0m                                            \u001b[0mlevel\u001b[0m\u001b[0;34m=\u001b[0m\u001b[0mlevel\u001b[0m\u001b[0;34m,\u001b[0m \u001b[0minplace\u001b[0m\u001b[0;34m=\u001b[0m\u001b[0minplace\u001b[0m\u001b[0;34m,\u001b[0m\u001b[0;34m\u001b[0m\u001b[0m\n\u001b[0;32m-> 3694\u001b[0;31m                                            errors=errors)\n\u001b[0m\u001b[1;32m   3695\u001b[0m \u001b[0;34m\u001b[0m\u001b[0m\n\u001b[1;32m   3696\u001b[0m     @rewrite_axis_style_signature('mapper', [('copy', True),\n",
      "\u001b[0;32m/anaconda3/lib/python3.6/site-packages/pandas/core/generic.py\u001b[0m in \u001b[0;36mdrop\u001b[0;34m(self, labels, axis, index, columns, level, inplace, errors)\u001b[0m\n\u001b[1;32m   3106\u001b[0m         \u001b[0;32mfor\u001b[0m \u001b[0maxis\u001b[0m\u001b[0;34m,\u001b[0m \u001b[0mlabels\u001b[0m \u001b[0;32min\u001b[0m \u001b[0maxes\u001b[0m\u001b[0;34m.\u001b[0m\u001b[0mitems\u001b[0m\u001b[0;34m(\u001b[0m\u001b[0;34m)\u001b[0m\u001b[0;34m:\u001b[0m\u001b[0;34m\u001b[0m\u001b[0m\n\u001b[1;32m   3107\u001b[0m             \u001b[0;32mif\u001b[0m \u001b[0mlabels\u001b[0m \u001b[0;32mis\u001b[0m \u001b[0;32mnot\u001b[0m \u001b[0;32mNone\u001b[0m\u001b[0;34m:\u001b[0m\u001b[0;34m\u001b[0m\u001b[0m\n\u001b[0;32m-> 3108\u001b[0;31m                 \u001b[0mobj\u001b[0m \u001b[0;34m=\u001b[0m \u001b[0mobj\u001b[0m\u001b[0;34m.\u001b[0m\u001b[0m_drop_axis\u001b[0m\u001b[0;34m(\u001b[0m\u001b[0mlabels\u001b[0m\u001b[0;34m,\u001b[0m \u001b[0maxis\u001b[0m\u001b[0;34m,\u001b[0m \u001b[0mlevel\u001b[0m\u001b[0;34m=\u001b[0m\u001b[0mlevel\u001b[0m\u001b[0;34m,\u001b[0m \u001b[0merrors\u001b[0m\u001b[0;34m=\u001b[0m\u001b[0merrors\u001b[0m\u001b[0;34m)\u001b[0m\u001b[0;34m\u001b[0m\u001b[0m\n\u001b[0m\u001b[1;32m   3109\u001b[0m \u001b[0;34m\u001b[0m\u001b[0m\n\u001b[1;32m   3110\u001b[0m         \u001b[0;32mif\u001b[0m \u001b[0minplace\u001b[0m\u001b[0;34m:\u001b[0m\u001b[0;34m\u001b[0m\u001b[0m\n",
      "\u001b[0;32m/anaconda3/lib/python3.6/site-packages/pandas/core/generic.py\u001b[0m in \u001b[0;36m_drop_axis\u001b[0;34m(self, labels, axis, level, errors)\u001b[0m\n\u001b[1;32m   3138\u001b[0m                 \u001b[0mnew_axis\u001b[0m \u001b[0;34m=\u001b[0m \u001b[0maxis\u001b[0m\u001b[0;34m.\u001b[0m\u001b[0mdrop\u001b[0m\u001b[0;34m(\u001b[0m\u001b[0mlabels\u001b[0m\u001b[0;34m,\u001b[0m \u001b[0mlevel\u001b[0m\u001b[0;34m=\u001b[0m\u001b[0mlevel\u001b[0m\u001b[0;34m,\u001b[0m \u001b[0merrors\u001b[0m\u001b[0;34m=\u001b[0m\u001b[0merrors\u001b[0m\u001b[0;34m)\u001b[0m\u001b[0;34m\u001b[0m\u001b[0m\n\u001b[1;32m   3139\u001b[0m             \u001b[0;32melse\u001b[0m\u001b[0;34m:\u001b[0m\u001b[0;34m\u001b[0m\u001b[0m\n\u001b[0;32m-> 3140\u001b[0;31m                 \u001b[0mnew_axis\u001b[0m \u001b[0;34m=\u001b[0m \u001b[0maxis\u001b[0m\u001b[0;34m.\u001b[0m\u001b[0mdrop\u001b[0m\u001b[0;34m(\u001b[0m\u001b[0mlabels\u001b[0m\u001b[0;34m,\u001b[0m \u001b[0merrors\u001b[0m\u001b[0;34m=\u001b[0m\u001b[0merrors\u001b[0m\u001b[0;34m)\u001b[0m\u001b[0;34m\u001b[0m\u001b[0m\n\u001b[0m\u001b[1;32m   3141\u001b[0m             \u001b[0mdropped\u001b[0m \u001b[0;34m=\u001b[0m \u001b[0mself\u001b[0m\u001b[0;34m.\u001b[0m\u001b[0mreindex\u001b[0m\u001b[0;34m(\u001b[0m\u001b[0;34m**\u001b[0m\u001b[0;34m{\u001b[0m\u001b[0maxis_name\u001b[0m\u001b[0;34m:\u001b[0m \u001b[0mnew_axis\u001b[0m\u001b[0;34m}\u001b[0m\u001b[0;34m)\u001b[0m\u001b[0;34m\u001b[0m\u001b[0m\n\u001b[1;32m   3142\u001b[0m             \u001b[0;32mtry\u001b[0m\u001b[0;34m:\u001b[0m\u001b[0;34m\u001b[0m\u001b[0m\n",
      "\u001b[0;32m/anaconda3/lib/python3.6/site-packages/pandas/core/indexes/base.py\u001b[0m in \u001b[0;36mdrop\u001b[0;34m(self, labels, errors)\u001b[0m\n\u001b[1;32m   4385\u001b[0m             \u001b[0;32mif\u001b[0m \u001b[0merrors\u001b[0m \u001b[0;34m!=\u001b[0m \u001b[0;34m'ignore'\u001b[0m\u001b[0;34m:\u001b[0m\u001b[0;34m\u001b[0m\u001b[0m\n\u001b[1;32m   4386\u001b[0m                 raise KeyError(\n\u001b[0;32m-> 4387\u001b[0;31m                     'labels %s not contained in axis' % labels[mask])\n\u001b[0m\u001b[1;32m   4388\u001b[0m             \u001b[0mindexer\u001b[0m \u001b[0;34m=\u001b[0m \u001b[0mindexer\u001b[0m\u001b[0;34m[\u001b[0m\u001b[0;34m~\u001b[0m\u001b[0mmask\u001b[0m\u001b[0;34m]\u001b[0m\u001b[0;34m\u001b[0m\u001b[0m\n\u001b[1;32m   4389\u001b[0m         \u001b[0;32mreturn\u001b[0m \u001b[0mself\u001b[0m\u001b[0;34m.\u001b[0m\u001b[0mdelete\u001b[0m\u001b[0;34m(\u001b[0m\u001b[0mindexer\u001b[0m\u001b[0;34m)\u001b[0m\u001b[0;34m\u001b[0m\u001b[0m\n",
      "\u001b[0;31mKeyError\u001b[0m: \"labels ['Unnamed: 0' 'prices_html'] not contained in axis\""
     ]
    }
   ],
   "source": [
    "six_to_eleven_p.drop(labels=['Unnamed: 0', 'prices_html'], inplace=True, axis=1)"
   ]
  },
  {
   "cell_type": "code",
   "execution_count": 23,
   "metadata": {},
   "outputs": [],
   "source": [
    "six_to_eleven_c.drop(labels=['Unnamed: 0', 'component_html', 'Unnamed: 0.1'], inplace=True, axis=1)"
   ]
  },
  {
   "cell_type": "code",
   "execution_count": 27,
   "metadata": {},
   "outputs": [],
   "source": [
    "six_to_eleven_c.drop(labels=['Unnamed: 0.1'], inplace=True, axis=1)"
   ]
  },
  {
   "cell_type": "code",
   "execution_count": 28,
   "metadata": {},
   "outputs": [
    {
     "data": {
      "text/html": [
       "<div>\n",
       "<style scoped>\n",
       "    .dataframe tbody tr th:only-of-type {\n",
       "        vertical-align: middle;\n",
       "    }\n",
       "\n",
       "    .dataframe tbody tr th {\n",
       "        vertical-align: top;\n",
       "    }\n",
       "\n",
       "    .dataframe thead th {\n",
       "        text-align: right;\n",
       "    }\n",
       "</style>\n",
       "<table border=\"1\" class=\"dataframe\">\n",
       "  <thead>\n",
       "    <tr style=\"text-align: right;\">\n",
       "      <th></th>\n",
       "      <th>price_html</th>\n",
       "    </tr>\n",
       "  </thead>\n",
       "  <tbody>\n",
       "    <tr>\n",
       "      <th>0</th>\n",
       "      <td>&lt;!DOCTYPE HTML&gt;\\r\\n&lt;html lang=\"en\"&gt;\\r\\n&lt;head&gt;\\...</td>\n",
       "    </tr>\n",
       "    <tr>\n",
       "      <th>1</th>\n",
       "      <td>&lt;!DOCTYPE HTML&gt;\\r\\n&lt;html lang=\"en\"&gt;\\r\\n&lt;head&gt;\\...</td>\n",
       "    </tr>\n",
       "    <tr>\n",
       "      <th>2</th>\n",
       "      <td>&lt;!DOCTYPE HTML&gt;\\r\\n&lt;html lang=\"en\"&gt;\\r\\n&lt;head&gt;\\...</td>\n",
       "    </tr>\n",
       "    <tr>\n",
       "      <th>3</th>\n",
       "      <td>&lt;!DOCTYPE HTML&gt;\\r\\n&lt;html lang=\"en\"&gt;\\r\\n&lt;head&gt;\\...</td>\n",
       "    </tr>\n",
       "    <tr>\n",
       "      <th>4</th>\n",
       "      <td>&lt;!DOCTYPE HTML&gt;\\r\\n&lt;html lang=\"en\"&gt;\\r\\n&lt;head&gt;\\...</td>\n",
       "    </tr>\n",
       "  </tbody>\n",
       "</table>\n",
       "</div>"
      ],
      "text/plain": [
       "                                          price_html\n",
       "0  <!DOCTYPE HTML>\\r\\n<html lang=\"en\">\\r\\n<head>\\...\n",
       "1  <!DOCTYPE HTML>\\r\\n<html lang=\"en\">\\r\\n<head>\\...\n",
       "2  <!DOCTYPE HTML>\\r\\n<html lang=\"en\">\\r\\n<head>\\...\n",
       "3  <!DOCTYPE HTML>\\r\\n<html lang=\"en\">\\r\\n<head>\\...\n",
       "4  <!DOCTYPE HTML>\\r\\n<html lang=\"en\">\\r\\n<head>\\..."
      ]
     },
     "execution_count": 28,
     "metadata": {},
     "output_type": "execute_result"
    }
   ],
   "source": [
    "six_to_eleven_c.head()"
   ]
  },
  {
   "cell_type": "code",
   "execution_count": 32,
   "metadata": {},
   "outputs": [],
   "source": [
    "six_to_eleven_c = six_to_eleven_c.apply(lambda x: neweggutils.get_prices(x[0]), axis=1)"
   ]
  },
  {
   "cell_type": "code",
   "execution_count": 33,
   "metadata": {},
   "outputs": [],
   "source": [
    "six_to_eleven_p = six_to_eleven_p.apply(lambda x: neweggutils.get_components(x[0]), axis=1)"
   ]
  },
  {
   "cell_type": "code",
   "execution_count": 318,
   "metadata": {},
   "outputs": [
    {
     "data": {
      "text/plain": [
       "96"
      ]
     },
     "execution_count": 318,
     "metadata": {},
     "output_type": "execute_result"
    }
   ],
   "source": [
    "len(six_to_eleven_c[3])"
   ]
  },
  {
   "cell_type": "code",
   "execution_count": 41,
   "metadata": {},
   "outputs": [],
   "source": [
    "eleven_to_fourteen_p.drop(labels=['Unnamed: 0', 'Unnamed: 0.1', 'component_html'], inplace=True, axis=1)"
   ]
  },
  {
   "cell_type": "code",
   "execution_count": 42,
   "metadata": {},
   "outputs": [],
   "source": [
    "eleven_to_fourteen_c.drop(labels=['Unnamed: 0', 'Unnamed: 0.1', 'price_html'], inplace=True, axis=1)"
   ]
  },
  {
   "cell_type": "code",
   "execution_count": 222,
   "metadata": {},
   "outputs": [],
   "source": [
    "eleven_to_fourteen_p.to_csv('11_to_14_prices.csv')\n",
    "eleven_to_fourteen_c.to_csv('11_to_14_components.csv')"
   ]
  },
  {
   "cell_type": "code",
   "execution_count": 76,
   "metadata": {},
   "outputs": [],
   "source": [
    "eleven_to_fourteen_c = eleven_to_fourteen_c.apply(lambda x: neweggutils.get_components(x[0]), axis=1)"
   ]
  },
  {
   "cell_type": "code",
   "execution_count": 89,
   "metadata": {},
   "outputs": [],
   "source": [
    "eleven_to_fourteen_c = pd.DataFrame(eleven_to_fourteen_c)"
   ]
  },
  {
   "cell_type": "code",
   "execution_count": 80,
   "metadata": {},
   "outputs": [],
   "source": [
    "eleven_to_fourteen_p = eleven_to_fourteen_p.apply(lambda x: neweggutils.get_prices(x[0]), axis=1)"
   ]
  },
  {
   "cell_type": "code",
   "execution_count": 391,
   "metadata": {},
   "outputs": [],
   "source": [
    "l = ['374', '324', '356', '185', '394', '441', '386', '362', '401', '165', '339', '340', '362', '383', '235', '379', '370', '377', '406', '338', '293', '437', '268', '401', '275', '201', '427', '396', '142', '92', '356', '503', '163', '302', '332', '290', '214', '346', '182', '395', '374', '345', '182', '214', '231', '396', '234', '405', '324', '293', '332', '497', '245', '394', '280', '235', '187', '184', '279', '369', '410', '221', '490', '749', '353', '1,042', '841', '1,255', '1,195', '799', '929', '1,249', '928', '2,446', '328', '898', '886', '511', '619', '484', '568', '599', '1,373', '1,650', '2,349', '109', '695', '204', '1,623', '1,221', '950', '945', '969', '799', '275']"
   ]
  },
  {
   "cell_type": "code",
   "execution_count": 390,
   "metadata": {},
   "outputs": [
    {
     "data": {
      "text/plain": [
       "\"['374', '324', '356', '185', '394', '441', '386', '362', '401', '165', '339', '340', '362', '383', '235', '379', '370', '377', '406', '338', '293', '437', '268', '401', '275', '201', '427', '396', '142', '92', '356', '503', '163', '302', '332', '290', '214', '346', '182', '395', '374', '345', '182', '214', '231', '396', '234', '405', '324', '293', '332', '497', '245', '394', '280', '235', '187', '184', '279', '369', '410', '221', '490', '749', '353', '1,042', '841', '1,255', '1,195', '799', '929', '1,249', '928', '2,446', '328', '898', '886', '511', '619', '484', '568', '599', '1,373', '1,650', '2,349', '109', '695', '204', '1,623', '1,221', '950', '945', '969', '799', '275']\""
      ]
     },
     "execution_count": 390,
     "metadata": {},
     "output_type": "execute_result"
    }
   ],
   "source": [
    "eleven_to_fourteen_p.iloc[0, 1]"
   ]
  },
  {
   "cell_type": "code",
   "execution_count": 116,
   "metadata": {},
   "outputs": [],
   "source": [
    "fill_63 = OrderedDict()"
   ]
  },
  {
   "cell_type": "code",
   "execution_count": 123,
   "metadata": {},
   "outputs": [],
   "source": [
    "fill_63['Brand'] = 'HP'\n",
    "fill_63['Model'] = '600'\n",
    "fill_63['Operating System'] = 'Windows 10 Pro 64'\n",
    "fill_63['Memory'] = '8GB DDR4 2400'\n",
    "fill_63['Storage'] = '1 TB 7200 rpm SATA HDD'\n",
    "fill_63['Processor'] = 'Intel i5-7500 3.4 GHz'\n",
    "fill_63['Graphics'] = 'Integrated'\n",
    "fill_63['Processor speed'] = '3.4 GHz'"
   ]
  },
  {
   "cell_type": "code",
   "execution_count": 125,
   "metadata": {},
   "outputs": [],
   "source": [
    "eleven_to_fourteen_c = pd.DataFrame(eleven_to_fourteen_c)"
   ]
  },
  {
   "cell_type": "code",
   "execution_count": 140,
   "metadata": {},
   "outputs": [],
   "source": [
    "def get_keys(ordereddict):\n",
    "    try:\n",
    "        k = ordereddict.keys()\n",
    "        return k\n",
    "    except:\n",
    "        return None"
   ]
  },
  {
   "cell_type": "code",
   "execution_count": 535,
   "metadata": {},
   "outputs": [],
   "source": [
    "def unique_columns(components_df):\n",
    "    cols = set()\n",
    "    \n",
    "    for _ in range(len(components_df)):\n",
    "        features = get_keys(components_df[_])\n",
    "        if features != None:\n",
    "            for key in features:\n",
    "                cols.add(key)\n",
    "    return list(cols)"
   ]
  },
  {
   "cell_type": "code",
   "execution_count": 178,
   "metadata": {},
   "outputs": [],
   "source": [
    "uniq = unique_columns(eleven_to_fourteen_c)"
   ]
  },
  {
   "cell_type": "code",
   "execution_count": 207,
   "metadata": {},
   "outputs": [],
   "source": [
    "def create_price_df(p):\n",
    "    price_df = pd.DataFrame(columns=['Price'])\n",
    "    \n",
    "    price_df['Price'] = sum([p[_] for _ in range(len(p))])\n",
    "    \n",
    "    return price_df"
   ]
  },
  {
   "cell_type": "markdown",
   "metadata": {},
   "source": [
    "# ETL"
   ]
  },
  {
   "cell_type": "code",
   "execution_count": 513,
   "metadata": {},
   "outputs": [],
   "source": [
    "first_5_p = pd.read_csv('first_5_prices_backup.csv', index_col=0)\n",
    "first_5_c = pd.read_csv('first_5_components_backup.csv', index_col=0)"
   ]
  },
  {
   "cell_type": "code",
   "execution_count": 514,
   "metadata": {},
   "outputs": [],
   "source": [
    "six_to_eleven_p = pd.read_csv('6_to_11_price.csv', index_col=0)\n",
    "six_to_eleven_c = pd.read_csv('6_to_11_component.csv', index_col=0)"
   ]
  },
  {
   "cell_type": "code",
   "execution_count": null,
   "metadata": {},
   "outputs": [],
   "source": [
    "eleven_to_fourteen_p = pd.read_csv('11_to_14_prices.csv')\n",
    "eleven_to_fourteen_c = pd.read_csv('11_to_14_components.csv', index_col=0)"
   ]
  },
  {
   "cell_type": "code",
   "execution_count": 516,
   "metadata": {},
   "outputs": [
    {
     "data": {
      "text/html": [
       "<div>\n",
       "<style scoped>\n",
       "    .dataframe tbody tr th:only-of-type {\n",
       "        vertical-align: middle;\n",
       "    }\n",
       "\n",
       "    .dataframe tbody tr th {\n",
       "        vertical-align: top;\n",
       "    }\n",
       "\n",
       "    .dataframe thead th {\n",
       "        text-align: right;\n",
       "    }\n",
       "</style>\n",
       "<table border=\"1\" class=\"dataframe\">\n",
       "  <thead>\n",
       "    <tr style=\"text-align: right;\">\n",
       "      <th></th>\n",
       "      <th>component_html</th>\n",
       "      <th>price_html</th>\n",
       "    </tr>\n",
       "  </thead>\n",
       "  <tbody>\n",
       "    <tr>\n",
       "      <th>0</th>\n",
       "      <td>NaN</td>\n",
       "      <td>&lt;!DOCTYPE HTML&gt;\\r\\n&lt;html lang=\"en\"&gt;\\r\\n&lt;head&gt;\\...</td>\n",
       "    </tr>\n",
       "    <tr>\n",
       "      <th>0</th>\n",
       "      <td>NaN</td>\n",
       "      <td>&lt;!DOCTYPE HTML&gt;\\r\\n&lt;html lang=\"en\"&gt;\\r\\n&lt;head&gt;\\...</td>\n",
       "    </tr>\n",
       "    <tr>\n",
       "      <th>0</th>\n",
       "      <td>NaN</td>\n",
       "      <td>&lt;!DOCTYPE HTML&gt;\\r\\n&lt;html lang=\"en\"&gt;\\r\\n&lt;head&gt;\\...</td>\n",
       "    </tr>\n",
       "    <tr>\n",
       "      <th>0</th>\n",
       "      <td>NaN</td>\n",
       "      <td>&lt;!DOCTYPE HTML&gt;\\r\\n&lt;html lang=\"en\"&gt;\\r\\n&lt;head&gt;\\...</td>\n",
       "    </tr>\n",
       "    <tr>\n",
       "      <th>0</th>\n",
       "      <td>NaN</td>\n",
       "      <td>&lt;!DOCTYPE HTML&gt;\\r\\n&lt;html lang=\"en\"&gt;\\r\\n&lt;head&gt;\\...</td>\n",
       "    </tr>\n",
       "  </tbody>\n",
       "</table>\n",
       "</div>"
      ],
      "text/plain": [
       "   component_html                                         price_html\n",
       "0             NaN  <!DOCTYPE HTML>\\r\\n<html lang=\"en\">\\r\\n<head>\\...\n",
       "0             NaN  <!DOCTYPE HTML>\\r\\n<html lang=\"en\">\\r\\n<head>\\...\n",
       "0             NaN  <!DOCTYPE HTML>\\r\\n<html lang=\"en\">\\r\\n<head>\\...\n",
       "0             NaN  <!DOCTYPE HTML>\\r\\n<html lang=\"en\">\\r\\n<head>\\...\n",
       "0             NaN  <!DOCTYPE HTML>\\r\\n<html lang=\"en\">\\r\\n<head>\\..."
      ]
     },
     "execution_count": 516,
     "metadata": {},
     "output_type": "execute_result"
    }
   ],
   "source": [
    "first_5_c.head()"
   ]
  },
  {
   "cell_type": "code",
   "execution_count": null,
   "metadata": {},
   "outputs": [],
   "source": [
    "def explode_dfs(pricedf, compdf):\n",
    "    pricedf = pricedf.apply(lambda x: neweggutils.get_prices_and_links(x[0]), axis=1)\n",
    "    compdf = compdf.apply(lambda x: neweggutils.get_components(x[0]), axis=1)\n",
    "    \n",
    "    comp_cols = unique_columns(compdf.values)"
   ]
  },
  {
   "cell_type": "code",
   "execution_count": 517,
   "metadata": {},
   "outputs": [],
   "source": [
    "first_5_p.drop(labels=['price_html'], inplace=True, axis=1)\n",
    "first_5_c.drop(labels=['component_html'], inplace=True, axis=1)"
   ]
  },
  {
   "cell_type": "code",
   "execution_count": 520,
   "metadata": {},
   "outputs": [],
   "source": [
    "f5_price = first_5_c.copy()\n",
    "f5_comp = first_5_p.copy()"
   ]
  },
  {
   "cell_type": "code",
   "execution_count": 529,
   "metadata": {},
   "outputs": [],
   "source": [
    "f5_price = f5_price.apply(lambda x: neweggutils.get_prices_and_links(x[0]), axis=1)"
   ]
  },
  {
   "cell_type": "code",
   "execution_count": 531,
   "metadata": {},
   "outputs": [],
   "source": [
    "f5_comp = f5_comp.apply(lambda x: neweggutils.get_components(x[0]), axis=1)"
   ]
  },
  {
   "cell_type": "code",
   "execution_count": 545,
   "metadata": {},
   "outputs": [],
   "source": [
    "uniq_cols = unique_columns(f5_comp.values)"
   ]
  },
  {
   "cell_type": "code",
   "execution_count": 548,
   "metadata": {},
   "outputs": [],
   "source": [
    "comp_df = pd.DataFrame(columns=uniq_cols)"
   ]
  },
  {
   "cell_type": "code",
   "execution_count": 560,
   "metadata": {},
   "outputs": [],
   "source": [
    "test_df = pd.DataFrame(f5_comp.values)"
   ]
  },
  {
   "cell_type": "code",
   "execution_count": 564,
   "metadata": {},
   "outputs": [],
   "source": [
    "f5comp = pd.DataFrame.from_records(f5_comp.values)"
   ]
  },
  {
   "cell_type": "code",
   "execution_count": 573,
   "metadata": {},
   "outputs": [],
   "source": [
    "prices = f5_price.values[0] + f5_price.values[1] + f5_price.values[2] + f5_price.values[3] + f5_price.values[4]"
   ]
  },
  {
   "cell_type": "code",
   "execution_count": 575,
   "metadata": {},
   "outputs": [],
   "source": [
    "f5price = pd.DataFrame(prices)"
   ]
  },
  {
   "cell_type": "code",
   "execution_count": 578,
   "metadata": {},
   "outputs": [
    {
     "data": {
      "text/html": [
       "<div>\n",
       "<style scoped>\n",
       "    .dataframe tbody tr th:only-of-type {\n",
       "        vertical-align: middle;\n",
       "    }\n",
       "\n",
       "    .dataframe tbody tr th {\n",
       "        vertical-align: top;\n",
       "    }\n",
       "\n",
       "    .dataframe thead th {\n",
       "        text-align: right;\n",
       "    }\n",
       "</style>\n",
       "<table border=\"1\" class=\"dataframe\">\n",
       "  <thead>\n",
       "    <tr style=\"text-align: right;\">\n",
       "      <th></th>\n",
       "      <th>0</th>\n",
       "      <th>1</th>\n",
       "    </tr>\n",
       "  </thead>\n",
       "  <tbody>\n",
       "    <tr>\n",
       "      <th>0</th>\n",
       "      <td>930</td>\n",
       "      <td>https://www.newegg.com/Product/Product.aspx?It...</td>\n",
       "    </tr>\n",
       "    <tr>\n",
       "      <th>1</th>\n",
       "      <td>1,050</td>\n",
       "      <td>https://www.newegg.com/Product/Product.aspx?It...</td>\n",
       "    </tr>\n",
       "    <tr>\n",
       "      <th>2</th>\n",
       "      <td>379</td>\n",
       "      <td>https://www.newegg.com/Product/Product.aspx?It...</td>\n",
       "    </tr>\n",
       "    <tr>\n",
       "      <th>3</th>\n",
       "      <td>674</td>\n",
       "      <td>https://www.newegg.com/Product/Product.aspx?It...</td>\n",
       "    </tr>\n",
       "    <tr>\n",
       "      <th>4</th>\n",
       "      <td>935</td>\n",
       "      <td>https://www.newegg.com/Product/Product.aspx?It...</td>\n",
       "    </tr>\n",
       "  </tbody>\n",
       "</table>\n",
       "</div>"
      ],
      "text/plain": [
       "       0                                                  1\n",
       "0    930  https://www.newegg.com/Product/Product.aspx?It...\n",
       "1  1,050  https://www.newegg.com/Product/Product.aspx?It...\n",
       "2    379  https://www.newegg.com/Product/Product.aspx?It...\n",
       "3    674  https://www.newegg.com/Product/Product.aspx?It...\n",
       "4    935  https://www.newegg.com/Product/Product.aspx?It..."
      ]
     },
     "execution_count": 578,
     "metadata": {},
     "output_type": "execute_result"
    }
   ],
   "source": [
    "f5price.head()"
   ]
  },
  {
   "cell_type": "code",
   "execution_count": 579,
   "metadata": {},
   "outputs": [],
   "source": [
    "f5price.columns = ['price', 'link']"
   ]
  },
  {
   "cell_type": "code",
   "execution_count": 581,
   "metadata": {},
   "outputs": [
    {
     "data": {
      "text/html": [
       "<div>\n",
       "<style scoped>\n",
       "    .dataframe tbody tr th:only-of-type {\n",
       "        vertical-align: middle;\n",
       "    }\n",
       "\n",
       "    .dataframe tbody tr th {\n",
       "        vertical-align: top;\n",
       "    }\n",
       "\n",
       "    .dataframe thead th {\n",
       "        text-align: right;\n",
       "    }\n",
       "</style>\n",
       "<table border=\"1\" class=\"dataframe\">\n",
       "  <thead>\n",
       "    <tr style=\"text-align: right;\">\n",
       "      <th></th>\n",
       "      <th>link</th>\n",
       "      <th>Brand</th>\n",
       "      <th>Series</th>\n",
       "      <th>Model</th>\n",
       "      <th>Part Number</th>\n",
       "      <th>Type</th>\n",
       "      <th>Form Factor</th>\n",
       "      <th>Usage</th>\n",
       "      <th>Colors</th>\n",
       "      <th>Processor</th>\n",
       "      <th>...</th>\n",
       "      <th>Audio Features</th>\n",
       "      <th>Memory Slot (Available)</th>\n",
       "      <th>Graphics Card</th>\n",
       "      <th>Screen Type</th>\n",
       "      <th>L2 Cache Per CPU</th>\n",
       "      <th>Memory Slots (Available/Total)</th>\n",
       "      <th>PS/2</th>\n",
       "      <th>PCI Slots (Available/Total)</th>\n",
       "      <th>COM</th>\n",
       "      <th>Speaker Features</th>\n",
       "    </tr>\n",
       "  </thead>\n",
       "  <tbody>\n",
       "    <tr>\n",
       "      <th>0</th>\n",
       "      <td>https://www.newegg.com/Product/Product.aspx?It...</td>\n",
       "      <td>Lenovo</td>\n",
       "      <td>IdeaCentre</td>\n",
       "      <td>720-18ICB (90HT0005US)</td>\n",
       "      <td>90HT0005US</td>\n",
       "      <td>Gaming &amp; Entertainment</td>\n",
       "      <td>Tower</td>\n",
       "      <td>Consumer</td>\n",
       "      <td>Black</td>\n",
       "      <td>Intel Core i7-8700 3.20 GHz</td>\n",
       "      <td>...</td>\n",
       "      <td>NaN</td>\n",
       "      <td>NaN</td>\n",
       "      <td>NaN</td>\n",
       "      <td>NaN</td>\n",
       "      <td>NaN</td>\n",
       "      <td>NaN</td>\n",
       "      <td>NaN</td>\n",
       "      <td>NaN</td>\n",
       "      <td>NaN</td>\n",
       "      <td>NaN</td>\n",
       "    </tr>\n",
       "    <tr>\n",
       "      <th>1</th>\n",
       "      <td>https://www.newegg.com/Product/Product.aspx?It...</td>\n",
       "      <td>Lenovo</td>\n",
       "      <td>IdeaCentre</td>\n",
       "      <td>720-18ICB (90HT0004US)</td>\n",
       "      <td>90HT0004US</td>\n",
       "      <td>Gaming &amp; Entertainment</td>\n",
       "      <td>Tower</td>\n",
       "      <td>Consumer</td>\n",
       "      <td>Black</td>\n",
       "      <td>Intel Core i7-8700 3.20 GHz</td>\n",
       "      <td>...</td>\n",
       "      <td>NaN</td>\n",
       "      <td>NaN</td>\n",
       "      <td>NaN</td>\n",
       "      <td>NaN</td>\n",
       "      <td>NaN</td>\n",
       "      <td>NaN</td>\n",
       "      <td>NaN</td>\n",
       "      <td>NaN</td>\n",
       "      <td>NaN</td>\n",
       "      <td>NaN</td>\n",
       "    </tr>\n",
       "    <tr>\n",
       "      <th>2</th>\n",
       "      <td>https://www.newegg.com/Product/Product.aspx?It...</td>\n",
       "      <td>Lenovo</td>\n",
       "      <td>IdeaCentre</td>\n",
       "      <td>510A-15ICB (90HV0002US)</td>\n",
       "      <td>90HV0002US</td>\n",
       "      <td>Student / Home Office</td>\n",
       "      <td>Tower</td>\n",
       "      <td>Consumer</td>\n",
       "      <td>Black</td>\n",
       "      <td>Intel Core i3-8100 3.60 GHz</td>\n",
       "      <td>...</td>\n",
       "      <td>NaN</td>\n",
       "      <td>NaN</td>\n",
       "      <td>NaN</td>\n",
       "      <td>NaN</td>\n",
       "      <td>NaN</td>\n",
       "      <td>NaN</td>\n",
       "      <td>NaN</td>\n",
       "      <td>NaN</td>\n",
       "      <td>NaN</td>\n",
       "      <td>NaN</td>\n",
       "    </tr>\n",
       "    <tr>\n",
       "      <th>3</th>\n",
       "      <td>https://www.newegg.com/Product/Product.aspx?It...</td>\n",
       "      <td>DELL</td>\n",
       "      <td>OptiPlex</td>\n",
       "      <td>5060</td>\n",
       "      <td>NaN</td>\n",
       "      <td>Business Desktops &amp; Workstations</td>\n",
       "      <td>Slim/Small form factor</td>\n",
       "      <td>Business</td>\n",
       "      <td>NaN</td>\n",
       "      <td>Intel Core i5-8600 3.10 GHz</td>\n",
       "      <td>...</td>\n",
       "      <td>NaN</td>\n",
       "      <td>NaN</td>\n",
       "      <td>NaN</td>\n",
       "      <td>NaN</td>\n",
       "      <td>NaN</td>\n",
       "      <td>NaN</td>\n",
       "      <td>NaN</td>\n",
       "      <td>NaN</td>\n",
       "      <td>NaN</td>\n",
       "      <td>NaN</td>\n",
       "    </tr>\n",
       "    <tr>\n",
       "      <th>4</th>\n",
       "      <td>https://www.newegg.com/Product/Product.aspx?It...</td>\n",
       "      <td>NaN</td>\n",
       "      <td>NaN</td>\n",
       "      <td>NaN</td>\n",
       "      <td>NaN</td>\n",
       "      <td>NaN</td>\n",
       "      <td>NaN</td>\n",
       "      <td>NaN</td>\n",
       "      <td>Black</td>\n",
       "      <td>NaN</td>\n",
       "      <td>...</td>\n",
       "      <td>NaN</td>\n",
       "      <td>NaN</td>\n",
       "      <td>NaN</td>\n",
       "      <td>NaN</td>\n",
       "      <td>NaN</td>\n",
       "      <td>NaN</td>\n",
       "      <td>NaN</td>\n",
       "      <td>NaN</td>\n",
       "      <td>NaN</td>\n",
       "      <td>NaN</td>\n",
       "    </tr>\n",
       "  </tbody>\n",
       "</table>\n",
       "<p>5 rows × 75 columns</p>\n",
       "</div>"
      ],
      "text/plain": [
       "                                                link   Brand      Series  \\\n",
       "0  https://www.newegg.com/Product/Product.aspx?It...  Lenovo  IdeaCentre   \n",
       "1  https://www.newegg.com/Product/Product.aspx?It...  Lenovo  IdeaCentre   \n",
       "2  https://www.newegg.com/Product/Product.aspx?It...  Lenovo  IdeaCentre   \n",
       "3  https://www.newegg.com/Product/Product.aspx?It...    DELL    OptiPlex   \n",
       "4  https://www.newegg.com/Product/Product.aspx?It...     NaN         NaN   \n",
       "\n",
       "                     Model Part Number                              Type  \\\n",
       "0   720-18ICB (90HT0005US)  90HT0005US            Gaming & Entertainment   \n",
       "1   720-18ICB (90HT0004US)  90HT0004US            Gaming & Entertainment   \n",
       "2  510A-15ICB (90HV0002US)  90HV0002US             Student / Home Office   \n",
       "3                     5060         NaN  Business Desktops & Workstations   \n",
       "4                      NaN         NaN                               NaN   \n",
       "\n",
       "              Form Factor     Usage Colors                    Processor  \\\n",
       "0                   Tower  Consumer  Black  Intel Core i7-8700 3.20 GHz   \n",
       "1                   Tower  Consumer  Black  Intel Core i7-8700 3.20 GHz   \n",
       "2                   Tower  Consumer  Black  Intel Core i3-8100 3.60 GHz   \n",
       "3  Slim/Small form factor  Business    NaN  Intel Core i5-8600 3.10 GHz   \n",
       "4                     NaN       NaN  Black                          NaN   \n",
       "\n",
       "        ...        Audio Features Memory Slot (Available) Graphics Card  \\\n",
       "0       ...                   NaN                     NaN           NaN   \n",
       "1       ...                   NaN                     NaN           NaN   \n",
       "2       ...                   NaN                     NaN           NaN   \n",
       "3       ...                   NaN                     NaN           NaN   \n",
       "4       ...                   NaN                     NaN           NaN   \n",
       "\n",
       "  Screen Type L2 Cache Per CPU Memory Slots (Available/Total) PS/2  \\\n",
       "0         NaN              NaN                            NaN  NaN   \n",
       "1         NaN              NaN                            NaN  NaN   \n",
       "2         NaN              NaN                            NaN  NaN   \n",
       "3         NaN              NaN                            NaN  NaN   \n",
       "4         NaN              NaN                            NaN  NaN   \n",
       "\n",
       "  PCI Slots (Available/Total)  COM Speaker Features  \n",
       "0                         NaN  NaN              NaN  \n",
       "1                         NaN  NaN              NaN  \n",
       "2                         NaN  NaN              NaN  \n",
       "3                         NaN  NaN              NaN  \n",
       "4                         NaN  NaN              NaN  \n",
       "\n",
       "[5 rows x 75 columns]"
      ]
     },
     "execution_count": 581,
     "metadata": {},
     "output_type": "execute_result"
    }
   ],
   "source": [
    "f5comp.head()"
   ]
  },
  {
   "cell_type": "code",
   "execution_count": 585,
   "metadata": {},
   "outputs": [
    {
     "data": {
      "text/plain": [
       "(480, 2)"
      ]
     },
     "execution_count": 585,
     "metadata": {},
     "output_type": "execute_result"
    }
   ],
   "source": [
    "f5price.shape"
   ]
  },
  {
   "cell_type": "code",
   "execution_count": 582,
   "metadata": {},
   "outputs": [],
   "source": [
    "pc_df = f5price.merge(right=f5comp, on='link')"
   ]
  }
 ],
 "metadata": {
  "kernelspec": {
   "display_name": "Python 3",
   "language": "python",
   "name": "python3"
  },
  "language_info": {
   "codemirror_mode": {
    "name": "ipython",
    "version": 3
   },
   "file_extension": ".py",
   "mimetype": "text/x-python",
   "name": "python",
   "nbconvert_exporter": "python",
   "pygments_lexer": "ipython3",
   "version": "3.6.5"
  }
 },
 "nbformat": 4,
 "nbformat_minor": 2
}
