{
 "cells": [
  {
   "cell_type": "code",
   "execution_count": null,
   "metadata": {},
   "outputs": [],
   "source": [
    "import pandas as pd\n",
    "import numpy as np\n",
    "import bs4\n",
    "import requests\n",
    "import neweggutils\n",
    "import re\n",
    "\n",
    "from collections import OrderedDict\n",
    "\n",
    "%load_ext autoreload\n",
    "%autoreload 2"
   ]
  },
  {
   "cell_type": "markdown",
   "metadata": {},
   "source": [
    "## Cleaning functions\n",
    "\n",
    "This notebook is proof of concept to show that I can get all my data from dictionaries and turn it in to a dataframe in the format I need it."
   ]
  },
  {
   "cell_type": "code",
   "execution_count": null,
   "metadata": {},
   "outputs": [],
   "source": [
    "first_5_p.drop(labels=['price_html'], inplace=True, axis=1)"
   ]
  },
  {
   "cell_type": "code",
   "execution_count": null,
   "metadata": {},
   "outputs": [],
   "source": [
    "first_5_c.drop(labels=['component_html'], inplace=True, axis=1)"
   ]
  },
  {
   "cell_type": "code",
   "execution_count": null,
   "metadata": {},
   "outputs": [],
   "source": [
    "first_5_c.rename({'price_html': 'component_html'}, axis=1, inplace=True)"
   ]
  },
  {
   "cell_type": "code",
   "execution_count": null,
   "metadata": {},
   "outputs": [],
   "source": [
    "first_5_p.rename({'component_html': 'price_html'}, axis=1, inplace=True)"
   ]
  },
  {
   "cell_type": "code",
   "execution_count": null,
   "metadata": {},
   "outputs": [],
   "source": [
    "six_to_eleven_c.drop(labels=['Unnamed: 0.1', 'component_html'], axis=1, inplace=True)\n",
    "six_to_eleven_c.rename({'price_html': 'component_html'}, inplace=True, axis=1)"
   ]
  },
  {
   "cell_type": "code",
   "execution_count": null,
   "metadata": {},
   "outputs": [],
   "source": [
    "eleven_to_fourteen_p = pd.read_csv('11_to_14_prices.csv')\n",
    "eleven_to_fourteen_c = pd.read_csv('11_to_14_components.csv', index_col=0)"
   ]
  },
  {
   "cell_type": "code",
   "execution_count": null,
   "metadata": {},
   "outputs": [],
   "source": [
    "first_5_p = first_5_p.apply(lambda x: neweggutils.get_components(x[0]), axis=1)"
   ]
  },
  {
   "cell_type": "code",
   "execution_count": null,
   "metadata": {},
   "outputs": [],
   "source": [
    "first_5_c = first_5_c.apply(lambda x: neweggutils.get_prices(x[0]), axis=1)"
   ]
  },
  {
   "cell_type": "code",
   "execution_count": null,
   "metadata": {},
   "outputs": [],
   "source": [
    "first_5_p.to_csv('first_5_components.csv')\n",
    "first_5_c.to_csv('first_5_prices.csv')"
   ]
  },
  {
   "cell_type": "code",
   "execution_count": null,
   "metadata": {},
   "outputs": [],
   "source": [
    "six_to_eleven_p.drop(labels=['Unnamed: 0', 'prices_html'], inplace=True, axis=1)"
   ]
  },
  {
   "cell_type": "code",
   "execution_count": null,
   "metadata": {},
   "outputs": [],
   "source": [
    "six_to_eleven_c.drop(labels=['Unnamed: 0', 'component_html', 'Unnamed: 0.1'], inplace=True, axis=1)"
   ]
  },
  {
   "cell_type": "code",
   "execution_count": null,
   "metadata": {},
   "outputs": [],
   "source": [
    "six_to_eleven_c.drop(labels=['Unnamed: 0.1'], inplace=True, axis=1)"
   ]
  },
  {
   "cell_type": "code",
   "execution_count": null,
   "metadata": {},
   "outputs": [],
   "source": [
    "six_to_eleven_c.head()"
   ]
  },
  {
   "cell_type": "code",
   "execution_count": null,
   "metadata": {},
   "outputs": [],
   "source": [
    "six_to_eleven_c = six_to_eleven_c.apply(lambda x: neweggutils.get_prices(x[0]), axis=1)"
   ]
  },
  {
   "cell_type": "code",
   "execution_count": null,
   "metadata": {},
   "outputs": [],
   "source": [
    "six_to_eleven_p = six_to_eleven_p.apply(lambda x: neweggutils.get_components(x[0]), axis=1)"
   ]
  },
  {
   "cell_type": "code",
   "execution_count": null,
   "metadata": {},
   "outputs": [],
   "source": [
    "len(six_to_eleven_c[3])"
   ]
  },
  {
   "cell_type": "code",
   "execution_count": null,
   "metadata": {},
   "outputs": [],
   "source": [
    "eleven_to_fourteen_p.drop(labels=['Unnamed: 0', 'Unnamed: 0.1', 'component_html'], inplace=True, axis=1)"
   ]
  },
  {
   "cell_type": "code",
   "execution_count": null,
   "metadata": {},
   "outputs": [],
   "source": [
    "eleven_to_fourteen_c.drop(labels=['Unnamed: 0', 'Unnamed: 0.1', 'price_html'], inplace=True, axis=1)"
   ]
  },
  {
   "cell_type": "code",
   "execution_count": null,
   "metadata": {},
   "outputs": [],
   "source": [
    "eleven_to_fourteen_p.to_csv('11_to_14_prices.csv')\n",
    "eleven_to_fourteen_c.to_csv('11_to_14_components.csv')"
   ]
  },
  {
   "cell_type": "code",
   "execution_count": null,
   "metadata": {},
   "outputs": [],
   "source": [
    "eleven_to_fourteen_c = eleven_to_fourteen_c.apply(lambda x: neweggutils.get_components(x[0]), axis=1)"
   ]
  },
  {
   "cell_type": "code",
   "execution_count": null,
   "metadata": {},
   "outputs": [],
   "source": [
    "eleven_to_fourteen_c = pd.DataFrame(eleven_to_fourteen_c)"
   ]
  },
  {
   "cell_type": "code",
   "execution_count": null,
   "metadata": {},
   "outputs": [],
   "source": [
    "eleven_to_fourteen_p = eleven_to_fourteen_p.apply(lambda x: neweggutils.get_prices(x[0]), axis=1)"
   ]
  },
  {
   "cell_type": "code",
   "execution_count": null,
   "metadata": {},
   "outputs": [],
   "source": [
    "l = ['374', '324', '356', '185', '394', '441', '386', '362', '401', '165', '339', '340', '362', '383', '235', '379', '370', '377', '406', '338', '293', '437', '268', '401', '275', '201', '427', '396', '142', '92', '356', '503', '163', '302', '332', '290', '214', '346', '182', '395', '374', '345', '182', '214', '231', '396', '234', '405', '324', '293', '332', '497', '245', '394', '280', '235', '187', '184', '279', '369', '410', '221', '490', '749', '353', '1,042', '841', '1,255', '1,195', '799', '929', '1,249', '928', '2,446', '328', '898', '886', '511', '619', '484', '568', '599', '1,373', '1,650', '2,349', '109', '695', '204', '1,623', '1,221', '950', '945', '969', '799', '275']"
   ]
  },
  {
   "cell_type": "code",
   "execution_count": null,
   "metadata": {},
   "outputs": [],
   "source": [
    "eleven_to_fourteen_p.iloc[0, 1]"
   ]
  },
  {
   "cell_type": "code",
   "execution_count": null,
   "metadata": {},
   "outputs": [],
   "source": [
    "fill_63 = OrderedDict()"
   ]
  },
  {
   "cell_type": "code",
   "execution_count": null,
   "metadata": {},
   "outputs": [],
   "source": [
    "eleven_to_fourteen_c = pd.DataFrame(eleven_to_fourteen_c)"
   ]
  },
  {
   "cell_type": "code",
   "execution_count": null,
   "metadata": {},
   "outputs": [],
   "source": [
    "def get_keys(ordereddict):\n",
    "    # Returns all the keys in an ordered dictionary\n",
    "    try:\n",
    "        k = ordereddict.keys()\n",
    "        return k\n",
    "    except:\n",
    "        return None"
   ]
  },
  {
   "cell_type": "code",
   "execution_count": null,
   "metadata": {},
   "outputs": [],
   "source": [
    "def unique_columns(components_df):\n",
    "    # Returns the unique columns in a dataframe of ordered dictionaries\n",
    "    cols = set()\n",
    "    \n",
    "    for _ in range(len(components_df)):\n",
    "        features = get_keys(components_df[_])\n",
    "        if features != None:\n",
    "            for key in features:\n",
    "                cols.add(key)\n",
    "    return list(cols)"
   ]
  },
  {
   "cell_type": "code",
   "execution_count": null,
   "metadata": {},
   "outputs": [],
   "source": [
    "uniq = unique_columns(eleven_to_fourteen_c)"
   ]
  },
  {
   "cell_type": "code",
   "execution_count": null,
   "metadata": {},
   "outputs": [],
   "source": [
    "def create_price_df(p):\n",
    "    # Returns a single-column dataframe with prices of computers\n",
    "    price_df = pd.DataFrame(columns=['Price'])\n",
    "    \n",
    "    price_df['Price'] = sum([p[_] for _ in range(len(p))])\n",
    "    \n",
    "    return price_df"
   ]
  },
  {
   "cell_type": "markdown",
   "metadata": {},
   "source": [
    "# ETL\n",
    "\n",
    "This gets all the raw HTML from .csv, and parses it to get the prices and components from that HTML."
   ]
  },
  {
   "cell_type": "code",
   "execution_count": null,
   "metadata": {},
   "outputs": [],
   "source": [
    "first_5_p = pd.read_csv('first_5_prices_backup.csv', index_col=0)\n",
    "first_5_c = pd.read_csv('first_5_components_backup.csv', index_col=0)"
   ]
  },
  {
   "cell_type": "code",
   "execution_count": null,
   "metadata": {},
   "outputs": [],
   "source": [
    "six_to_eleven_p = pd.read_csv('6_to_11_price.csv', index_col=0)\n",
    "six_to_eleven_c = pd.read_csv('6_to_11_component.csv', index_col=0)"
   ]
  },
  {
   "cell_type": "code",
   "execution_count": null,
   "metadata": {},
   "outputs": [],
   "source": [
    "eleven_to_fourteen_p = pd.read_csv('11_to_14_prices.csv')\n",
    "eleven_to_fourteen_c = pd.read_csv('11_to_14_components.csv', index_col=0)"
   ]
  },
  {
   "cell_type": "code",
   "execution_count": null,
   "metadata": {},
   "outputs": [],
   "source": [
    "first_5_c.head()"
   ]
  },
  {
   "cell_type": "code",
   "execution_count": null,
   "metadata": {},
   "outputs": [],
   "source": [
    "first_5_p.drop(labels=['price_html'], inplace=True, axis=1)\n",
    "first_5_c.drop(labels=['component_html'], inplace=True, axis=1)"
   ]
  },
  {
   "cell_type": "code",
   "execution_count": null,
   "metadata": {},
   "outputs": [],
   "source": [
    "f5_price = first_5_c.copy()\n",
    "f5_comp = first_5_p.copy()"
   ]
  },
  {
   "cell_type": "code",
   "execution_count": null,
   "metadata": {},
   "outputs": [],
   "source": [
    "f5_price = f5_price.apply(lambda x: neweggutils.get_prices_and_links(x[0]), axis=1)"
   ]
  },
  {
   "cell_type": "code",
   "execution_count": null,
   "metadata": {},
   "outputs": [],
   "source": [
    "f5_comp = f5_comp.apply(lambda x: neweggutils.get_components(x[0]), axis=1)"
   ]
  },
  {
   "cell_type": "code",
   "execution_count": null,
   "metadata": {},
   "outputs": [],
   "source": [
    "f5_comp.values"
   ]
  },
  {
   "cell_type": "code",
   "execution_count": null,
   "metadata": {},
   "outputs": [],
   "source": [
    "f5comp = pd.DataFrame.from_records(list(f5_comp.values))"
   ]
  },
  {
   "cell_type": "code",
   "execution_count": null,
   "metadata": {},
   "outputs": [],
   "source": [
    "f5comp.head()"
   ]
  },
  {
   "cell_type": "code",
   "execution_count": null,
   "metadata": {},
   "outputs": [],
   "source": [
    "f5price = pd.DataFrame(prices)"
   ]
  },
  {
   "cell_type": "code",
   "execution_count": null,
   "metadata": {},
   "outputs": [],
   "source": [
    "f5price.head()"
   ]
  },
  {
   "cell_type": "code",
   "execution_count": null,
   "metadata": {},
   "outputs": [],
   "source": [
    "f5price.columns = ['price', 'link']"
   ]
  },
  {
   "cell_type": "code",
   "execution_count": null,
   "metadata": {},
   "outputs": [],
   "source": [
    "f5comp.head()"
   ]
  },
  {
   "cell_type": "code",
   "execution_count": null,
   "metadata": {},
   "outputs": [],
   "source": [
    "f5price.shape"
   ]
  },
  {
   "cell_type": "code",
   "execution_count": null,
   "metadata": {},
   "outputs": [],
   "source": [
    "pc_df = f5price.merge(right=f5comp, on='link')"
   ]
  },
  {
   "cell_type": "code",
   "execution_count": null,
   "metadata": {},
   "outputs": [],
   "source": [
    "pc_df.to_csv('1-5_master.csv')"
   ]
  }
 ],
 "metadata": {
  "kernelspec": {
   "display_name": "Python 3",
   "language": "python",
   "name": "python3"
  },
  "language_info": {
   "codemirror_mode": {
    "name": "ipython",
    "version": 3
   },
   "file_extension": ".py",
   "mimetype": "text/x-python",
   "name": "python",
   "nbconvert_exporter": "python",
   "pygments_lexer": "ipython3",
   "version": "3.6.5"
  }
 },
 "nbformat": 4,
 "nbformat_minor": 2
}
