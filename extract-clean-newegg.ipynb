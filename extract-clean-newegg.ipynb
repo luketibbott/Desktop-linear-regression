{
 "cells": [
  {
   "cell_type": "code",
   "execution_count": 283,
   "metadata": {},
   "outputs": [
    {
     "name": "stdout",
     "output_type": "stream",
     "text": [
      "The autoreload extension is already loaded. To reload it, use:\n",
      "  %reload_ext autoreload\n"
     ]
    }
   ],
   "source": [
    "import pandas as pd\n",
    "import numpy as np\n",
    "import bs4\n",
    "import requests\n",
    "import neweggutils\n",
    "import re\n",
    "\n",
    "from collections import OrderedDict\n",
    "\n",
    "%load_ext autoreload\n",
    "%autoreload 2"
   ]
  },
  {
   "cell_type": "markdown",
   "metadata": {},
   "source": [
    "## Cleaning functions"
   ]
  },
  {
   "cell_type": "code",
   "execution_count": 349,
   "metadata": {},
   "outputs": [],
   "source": [
    "first_5_p = pd.read_csv('first_5_prices_backup.csv', index_col=0)\n",
    "first_5_c = pd.read_csv('first_5_components_backup.csv', index_col=0)"
   ]
  },
  {
   "cell_type": "code",
   "execution_count": 351,
   "metadata": {},
   "outputs": [],
   "source": [
    "first_5_p.drop(labels=['price_html'], inplace=True, axis=1)"
   ]
  },
  {
   "cell_type": "code",
   "execution_count": 353,
   "metadata": {},
   "outputs": [],
   "source": [
    "first_5_c.drop(labels=['component_html'], inplace=True, axis=1)"
   ]
  },
  {
   "cell_type": "code",
   "execution_count": 357,
   "metadata": {},
   "outputs": [],
   "source": [
    "first_5_c.rename({'price_html': 'component_html'}, axis=1, inplace=True)"
   ]
  },
  {
   "cell_type": "code",
   "execution_count": 359,
   "metadata": {},
   "outputs": [],
   "source": [
    "first_5_p.rename({'component_html': 'price_html'}, axis=1, inplace=True)"
   ]
  },
  {
   "cell_type": "code",
   "execution_count": 362,
   "metadata": {},
   "outputs": [],
   "source": [
    "first_5_c.to_csv('1-5comp.csv')\n",
    "first_5_p.to_csv('1-5price.csv')"
   ]
  },
  {
   "cell_type": "code",
   "execution_count": 363,
   "metadata": {},
   "outputs": [],
   "source": [
    "six_to_eleven_p = pd.read_csv('6_to_11_price.csv', index_col=0)\n",
    "six_to_eleven_c = pd.read_csv('6_to_11_component.csv', index_col=0)"
   ]
  },
  {
   "cell_type": "code",
   "execution_count": 368,
   "metadata": {},
   "outputs": [],
   "source": [
    "six_to_eleven_p.drop(labels=['price_html'], inplace=True, axis=1)\n",
    "six_to_eleven_p.rename({'component_html': 'price_html'}, axis=1, inplace=True)"
   ]
  },
  {
   "cell_type": "code",
   "execution_count": 372,
   "metadata": {},
   "outputs": [],
   "source": [
    "six_to_eleven_c.drop(labels=['Unnamed: 0.1', 'component_html'], axis=1, inplace=True)\n",
    "six_to_eleven_c.rename({'price_html': 'component_html'}, inplace=True, axis=1)"
   ]
  },
  {
   "cell_type": "code",
   "execution_count": 375,
   "metadata": {},
   "outputs": [],
   "source": [
    "six_to_eleven_c.to_csv('6-11comp.csv')\n",
    "six_to_eleven_p.to_csv('6-11price.csv')"
   ]
  },
  {
   "cell_type": "code",
   "execution_count": 376,
   "metadata": {},
   "outputs": [],
   "source": [
    "eleven_to_fourteen_p = pd.read_csv('11_to_14_prices.csv', index_col=0)\n",
    "eleven_to_fourteen_c = pd.read_csv('11_to_14_components.csv', index_col=0)"
   ]
  },
  {
   "cell_type": "code",
   "execution_count": 377,
   "metadata": {},
   "outputs": [
    {
     "data": {
      "text/html": [
       "<div>\n",
       "<style scoped>\n",
       "    .dataframe tbody tr th:only-of-type {\n",
       "        vertical-align: middle;\n",
       "    }\n",
       "\n",
       "    .dataframe tbody tr th {\n",
       "        vertical-align: top;\n",
       "    }\n",
       "\n",
       "    .dataframe thead th {\n",
       "        text-align: right;\n",
       "    }\n",
       "</style>\n",
       "<table border=\"1\" class=\"dataframe\">\n",
       "  <thead>\n",
       "    <tr style=\"text-align: right;\">\n",
       "      <th></th>\n",
       "      <th>['389', '249', '309', '329', '279', '289', '229', '339', '309', '229', '228', '649', '199', '227', '439', '329', '224', '219', '175', '189', '379', '259', '269', '219', '239', '699', '239', '349', '339', '529', '319', '179', '309', '159', '195', '117', '249', '424', '234', '249', '97', '179', '104', '159', '299', '239', '224', '149', '383', '249', '234', '315', '143', '289', '1,060', '206', '1,211', '289', '888', '761', '939', '839', '515', '2,195', '121', '599', '524', '269', '349', '600', '172', '316', '197', '234', '276', '128', '125', '1,398', '539', '141', '146', '142', '136', '203', '357', '1,049', '1,048', '180', '363', '350', '339', '802', '369', '165']</th>\n",
       "    </tr>\n",
       "    <tr>\n",
       "      <th>0</th>\n",
       "      <th></th>\n",
       "    </tr>\n",
       "  </thead>\n",
       "  <tbody>\n",
       "    <tr>\n",
       "      <th>1</th>\n",
       "      <td>['374', '324', '356', '185', '394', '441', '38...</td>\n",
       "    </tr>\n",
       "    <tr>\n",
       "      <th>2</th>\n",
       "      <td>['695', '1,650', '109', '204', '1,623', '1,221...</td>\n",
       "    </tr>\n",
       "  </tbody>\n",
       "</table>\n",
       "</div>"
      ],
      "text/plain": [
       "  ['389', '249', '309', '329', '279', '289', '229', '339', '309', '229', '228', '649', '199', '227', '439', '329', '224', '219', '175', '189', '379', '259', '269', '219', '239', '699', '239', '349', '339', '529', '319', '179', '309', '159', '195', '117', '249', '424', '234', '249', '97', '179', '104', '159', '299', '239', '224', '149', '383', '249', '234', '315', '143', '289', '1,060', '206', '1,211', '289', '888', '761', '939', '839', '515', '2,195', '121', '599', '524', '269', '349', '600', '172', '316', '197', '234', '276', '128', '125', '1,398', '539', '141', '146', '142', '136', '203', '357', '1,049', '1,048', '180', '363', '350', '339', '802', '369', '165']\n",
       "0                                                                                                                                                                                                                                                                                                                                                                                                                                                                                                                                                                                                                                                                                              \n",
       "1  ['374', '324', '356', '185', '394', '441', '38...                                                                                                                                                                                                                                                                                                                                                                                                                                                                                                                                                                                                                                           \n",
       "2  ['695', '1,650', '109', '204', '1,623', '1,221...                                                                                                                                                                                                                                                                                                                                                                                                                                                                                                                                                                                                                                           "
      ]
     },
     "execution_count": 377,
     "metadata": {},
     "output_type": "execute_result"
    }
   ],
   "source": [
    "eleven_to_fourteen_p.head()"
   ]
  },
  {
   "cell_type": "code",
   "execution_count": 8,
   "metadata": {},
   "outputs": [],
   "source": [
    "first_5_p = first_5_p.apply(lambda x: neweggutils.get_components(x[0]), axis=1)"
   ]
  },
  {
   "cell_type": "code",
   "execution_count": 336,
   "metadata": {},
   "outputs": [],
   "source": [
    "first_5_c = first_5_c.apply(lambda x: neweggutils.get_prices(x[0]), axis=1)"
   ]
  },
  {
   "cell_type": "code",
   "execution_count": 344,
   "metadata": {},
   "outputs": [
    {
     "data": {
      "text/plain": [
       "95"
      ]
     },
     "execution_count": 344,
     "metadata": {},
     "output_type": "execute_result"
    }
   ],
   "source": [
    "len(first_5_c[0])"
   ]
  },
  {
   "cell_type": "code",
   "execution_count": 220,
   "metadata": {},
   "outputs": [],
   "source": [
    "first_5_p.to_csv('first_5_components.csv')\n",
    "first_5_c.to_csv('first_5_prices.csv')"
   ]
  },
  {
   "cell_type": "code",
   "execution_count": 22,
   "metadata": {},
   "outputs": [
    {
     "data": {
      "text/html": [
       "<div>\n",
       "<style scoped>\n",
       "    .dataframe tbody tr th:only-of-type {\n",
       "        vertical-align: middle;\n",
       "    }\n",
       "\n",
       "    .dataframe tbody tr th {\n",
       "        vertical-align: top;\n",
       "    }\n",
       "\n",
       "    .dataframe thead th {\n",
       "        text-align: right;\n",
       "    }\n",
       "</style>\n",
       "<table border=\"1\" class=\"dataframe\">\n",
       "  <thead>\n",
       "    <tr style=\"text-align: right;\">\n",
       "      <th></th>\n",
       "      <th>component_html</th>\n",
       "    </tr>\n",
       "  </thead>\n",
       "  <tbody>\n",
       "    <tr>\n",
       "      <th>0</th>\n",
       "      <td>&lt;!DOCTYPE HTML&gt;\\r\\n&lt;html lang=\"en\"&gt;\\r\\n&lt;head&gt;\\...</td>\n",
       "    </tr>\n",
       "    <tr>\n",
       "      <th>1</th>\n",
       "      <td>&lt;!DOCTYPE HTML&gt;\\r\\n&lt;html lang=\"en\"&gt;\\r\\n&lt;head&gt;\\...</td>\n",
       "    </tr>\n",
       "    <tr>\n",
       "      <th>2</th>\n",
       "      <td>&lt;!DOCTYPE HTML&gt;\\r\\n&lt;html lang=\"en\"&gt;\\r\\n&lt;head&gt;\\...</td>\n",
       "    </tr>\n",
       "    <tr>\n",
       "      <th>3</th>\n",
       "      <td>&lt;!DOCTYPE HTML&gt;\\r\\n&lt;html lang=\"en\"&gt;\\r\\n&lt;head&gt;\\...</td>\n",
       "    </tr>\n",
       "    <tr>\n",
       "      <th>4</th>\n",
       "      <td>&lt;!DOCTYPE HTML&gt;\\r\\n&lt;html lang=\"en\"&gt;\\r\\n&lt;head&gt;\\...</td>\n",
       "    </tr>\n",
       "  </tbody>\n",
       "</table>\n",
       "</div>"
      ],
      "text/plain": [
       "                                      component_html\n",
       "0  <!DOCTYPE HTML>\\r\\n<html lang=\"en\">\\r\\n<head>\\...\n",
       "1  <!DOCTYPE HTML>\\r\\n<html lang=\"en\">\\r\\n<head>\\...\n",
       "2  <!DOCTYPE HTML>\\r\\n<html lang=\"en\">\\r\\n<head>\\...\n",
       "3  <!DOCTYPE HTML>\\r\\n<html lang=\"en\">\\r\\n<head>\\...\n",
       "4  <!DOCTYPE HTML>\\r\\n<html lang=\"en\">\\r\\n<head>\\..."
      ]
     },
     "execution_count": 22,
     "metadata": {},
     "output_type": "execute_result"
    }
   ],
   "source": [
    "six_to_eleven_p.head()"
   ]
  },
  {
   "cell_type": "code",
   "execution_count": 21,
   "metadata": {
    "collapsed": true
   },
   "outputs": [
    {
     "ename": "KeyError",
     "evalue": "\"labels ['Unnamed: 0' 'prices_html'] not contained in axis\"",
     "output_type": "error",
     "traceback": [
      "\u001b[0;31m---------------------------------------------------------------------------\u001b[0m",
      "\u001b[0;31mKeyError\u001b[0m                                  Traceback (most recent call last)",
      "\u001b[0;32m<ipython-input-21-6d7a55af46c8>\u001b[0m in \u001b[0;36m<module>\u001b[0;34m()\u001b[0m\n\u001b[0;32m----> 1\u001b[0;31m \u001b[0msix_to_eleven_p\u001b[0m\u001b[0;34m.\u001b[0m\u001b[0mdrop\u001b[0m\u001b[0;34m(\u001b[0m\u001b[0mlabels\u001b[0m\u001b[0;34m=\u001b[0m\u001b[0;34m[\u001b[0m\u001b[0;34m'Unnamed: 0'\u001b[0m\u001b[0;34m,\u001b[0m \u001b[0;34m'prices_html'\u001b[0m\u001b[0;34m]\u001b[0m\u001b[0;34m,\u001b[0m \u001b[0minplace\u001b[0m\u001b[0;34m=\u001b[0m\u001b[0;32mTrue\u001b[0m\u001b[0;34m,\u001b[0m \u001b[0maxis\u001b[0m\u001b[0;34m=\u001b[0m\u001b[0;36m1\u001b[0m\u001b[0;34m)\u001b[0m\u001b[0;34m\u001b[0m\u001b[0m\n\u001b[0m\u001b[1;32m      2\u001b[0m \u001b[0msix_to_eleven_c\u001b[0m\u001b[0;34m.\u001b[0m\u001b[0mdrop\u001b[0m\u001b[0;34m(\u001b[0m\u001b[0mlabels\u001b[0m\u001b[0;34m=\u001b[0m\u001b[0;34m[\u001b[0m\u001b[0;34m'Unnamed: 0'\u001b[0m\u001b[0;34m,\u001b[0m \u001b[0;34m'component_html'\u001b[0m\u001b[0;34m]\u001b[0m\u001b[0;34m,\u001b[0m \u001b[0minplace\u001b[0m\u001b[0;34m=\u001b[0m\u001b[0;32mTrue\u001b[0m\u001b[0;34m,\u001b[0m \u001b[0maxis\u001b[0m\u001b[0;34m=\u001b[0m\u001b[0;36m1\u001b[0m\u001b[0;34m)\u001b[0m\u001b[0;34m\u001b[0m\u001b[0m\n",
      "\u001b[0;32m/anaconda3/lib/python3.6/site-packages/pandas/core/frame.py\u001b[0m in \u001b[0;36mdrop\u001b[0;34m(self, labels, axis, index, columns, level, inplace, errors)\u001b[0m\n\u001b[1;32m   3692\u001b[0m                                            \u001b[0mindex\u001b[0m\u001b[0;34m=\u001b[0m\u001b[0mindex\u001b[0m\u001b[0;34m,\u001b[0m \u001b[0mcolumns\u001b[0m\u001b[0;34m=\u001b[0m\u001b[0mcolumns\u001b[0m\u001b[0;34m,\u001b[0m\u001b[0;34m\u001b[0m\u001b[0m\n\u001b[1;32m   3693\u001b[0m                                            \u001b[0mlevel\u001b[0m\u001b[0;34m=\u001b[0m\u001b[0mlevel\u001b[0m\u001b[0;34m,\u001b[0m \u001b[0minplace\u001b[0m\u001b[0;34m=\u001b[0m\u001b[0minplace\u001b[0m\u001b[0;34m,\u001b[0m\u001b[0;34m\u001b[0m\u001b[0m\n\u001b[0;32m-> 3694\u001b[0;31m                                            errors=errors)\n\u001b[0m\u001b[1;32m   3695\u001b[0m \u001b[0;34m\u001b[0m\u001b[0m\n\u001b[1;32m   3696\u001b[0m     @rewrite_axis_style_signature('mapper', [('copy', True),\n",
      "\u001b[0;32m/anaconda3/lib/python3.6/site-packages/pandas/core/generic.py\u001b[0m in \u001b[0;36mdrop\u001b[0;34m(self, labels, axis, index, columns, level, inplace, errors)\u001b[0m\n\u001b[1;32m   3106\u001b[0m         \u001b[0;32mfor\u001b[0m \u001b[0maxis\u001b[0m\u001b[0;34m,\u001b[0m \u001b[0mlabels\u001b[0m \u001b[0;32min\u001b[0m \u001b[0maxes\u001b[0m\u001b[0;34m.\u001b[0m\u001b[0mitems\u001b[0m\u001b[0;34m(\u001b[0m\u001b[0;34m)\u001b[0m\u001b[0;34m:\u001b[0m\u001b[0;34m\u001b[0m\u001b[0m\n\u001b[1;32m   3107\u001b[0m             \u001b[0;32mif\u001b[0m \u001b[0mlabels\u001b[0m \u001b[0;32mis\u001b[0m \u001b[0;32mnot\u001b[0m \u001b[0;32mNone\u001b[0m\u001b[0;34m:\u001b[0m\u001b[0;34m\u001b[0m\u001b[0m\n\u001b[0;32m-> 3108\u001b[0;31m                 \u001b[0mobj\u001b[0m \u001b[0;34m=\u001b[0m \u001b[0mobj\u001b[0m\u001b[0;34m.\u001b[0m\u001b[0m_drop_axis\u001b[0m\u001b[0;34m(\u001b[0m\u001b[0mlabels\u001b[0m\u001b[0;34m,\u001b[0m \u001b[0maxis\u001b[0m\u001b[0;34m,\u001b[0m \u001b[0mlevel\u001b[0m\u001b[0;34m=\u001b[0m\u001b[0mlevel\u001b[0m\u001b[0;34m,\u001b[0m \u001b[0merrors\u001b[0m\u001b[0;34m=\u001b[0m\u001b[0merrors\u001b[0m\u001b[0;34m)\u001b[0m\u001b[0;34m\u001b[0m\u001b[0m\n\u001b[0m\u001b[1;32m   3109\u001b[0m \u001b[0;34m\u001b[0m\u001b[0m\n\u001b[1;32m   3110\u001b[0m         \u001b[0;32mif\u001b[0m \u001b[0minplace\u001b[0m\u001b[0;34m:\u001b[0m\u001b[0;34m\u001b[0m\u001b[0m\n",
      "\u001b[0;32m/anaconda3/lib/python3.6/site-packages/pandas/core/generic.py\u001b[0m in \u001b[0;36m_drop_axis\u001b[0;34m(self, labels, axis, level, errors)\u001b[0m\n\u001b[1;32m   3138\u001b[0m                 \u001b[0mnew_axis\u001b[0m \u001b[0;34m=\u001b[0m \u001b[0maxis\u001b[0m\u001b[0;34m.\u001b[0m\u001b[0mdrop\u001b[0m\u001b[0;34m(\u001b[0m\u001b[0mlabels\u001b[0m\u001b[0;34m,\u001b[0m \u001b[0mlevel\u001b[0m\u001b[0;34m=\u001b[0m\u001b[0mlevel\u001b[0m\u001b[0;34m,\u001b[0m \u001b[0merrors\u001b[0m\u001b[0;34m=\u001b[0m\u001b[0merrors\u001b[0m\u001b[0;34m)\u001b[0m\u001b[0;34m\u001b[0m\u001b[0m\n\u001b[1;32m   3139\u001b[0m             \u001b[0;32melse\u001b[0m\u001b[0;34m:\u001b[0m\u001b[0;34m\u001b[0m\u001b[0m\n\u001b[0;32m-> 3140\u001b[0;31m                 \u001b[0mnew_axis\u001b[0m \u001b[0;34m=\u001b[0m \u001b[0maxis\u001b[0m\u001b[0;34m.\u001b[0m\u001b[0mdrop\u001b[0m\u001b[0;34m(\u001b[0m\u001b[0mlabels\u001b[0m\u001b[0;34m,\u001b[0m \u001b[0merrors\u001b[0m\u001b[0;34m=\u001b[0m\u001b[0merrors\u001b[0m\u001b[0;34m)\u001b[0m\u001b[0;34m\u001b[0m\u001b[0m\n\u001b[0m\u001b[1;32m   3141\u001b[0m             \u001b[0mdropped\u001b[0m \u001b[0;34m=\u001b[0m \u001b[0mself\u001b[0m\u001b[0;34m.\u001b[0m\u001b[0mreindex\u001b[0m\u001b[0;34m(\u001b[0m\u001b[0;34m**\u001b[0m\u001b[0;34m{\u001b[0m\u001b[0maxis_name\u001b[0m\u001b[0;34m:\u001b[0m \u001b[0mnew_axis\u001b[0m\u001b[0;34m}\u001b[0m\u001b[0;34m)\u001b[0m\u001b[0;34m\u001b[0m\u001b[0m\n\u001b[1;32m   3142\u001b[0m             \u001b[0;32mtry\u001b[0m\u001b[0;34m:\u001b[0m\u001b[0;34m\u001b[0m\u001b[0m\n",
      "\u001b[0;32m/anaconda3/lib/python3.6/site-packages/pandas/core/indexes/base.py\u001b[0m in \u001b[0;36mdrop\u001b[0;34m(self, labels, errors)\u001b[0m\n\u001b[1;32m   4385\u001b[0m             \u001b[0;32mif\u001b[0m \u001b[0merrors\u001b[0m \u001b[0;34m!=\u001b[0m \u001b[0;34m'ignore'\u001b[0m\u001b[0;34m:\u001b[0m\u001b[0;34m\u001b[0m\u001b[0m\n\u001b[1;32m   4386\u001b[0m                 raise KeyError(\n\u001b[0;32m-> 4387\u001b[0;31m                     'labels %s not contained in axis' % labels[mask])\n\u001b[0m\u001b[1;32m   4388\u001b[0m             \u001b[0mindexer\u001b[0m \u001b[0;34m=\u001b[0m \u001b[0mindexer\u001b[0m\u001b[0;34m[\u001b[0m\u001b[0;34m~\u001b[0m\u001b[0mmask\u001b[0m\u001b[0;34m]\u001b[0m\u001b[0;34m\u001b[0m\u001b[0m\n\u001b[1;32m   4389\u001b[0m         \u001b[0;32mreturn\u001b[0m \u001b[0mself\u001b[0m\u001b[0;34m.\u001b[0m\u001b[0mdelete\u001b[0m\u001b[0;34m(\u001b[0m\u001b[0mindexer\u001b[0m\u001b[0;34m)\u001b[0m\u001b[0;34m\u001b[0m\u001b[0m\n",
      "\u001b[0;31mKeyError\u001b[0m: \"labels ['Unnamed: 0' 'prices_html'] not contained in axis\""
     ]
    }
   ],
   "source": [
    "six_to_eleven_p.drop(labels=['Unnamed: 0', 'prices_html'], inplace=True, axis=1)"
   ]
  },
  {
   "cell_type": "code",
   "execution_count": 23,
   "metadata": {},
   "outputs": [],
   "source": [
    "six_to_eleven_c.drop(labels=['Unnamed: 0', 'component_html', 'Unnamed: 0.1'], inplace=True, axis=1)"
   ]
  },
  {
   "cell_type": "code",
   "execution_count": 221,
   "metadata": {},
   "outputs": [],
   "source": [
    "six_to_eleven_p.to_csv('6_to_11_prices.csv')\n",
    "six_to_eleven_c.to_csv('6_to_11_components.csv')"
   ]
  },
  {
   "cell_type": "code",
   "execution_count": 27,
   "metadata": {},
   "outputs": [],
   "source": [
    "six_to_eleven_c.drop(labels=['Unnamed: 0.1'], inplace=True, axis=1)"
   ]
  },
  {
   "cell_type": "code",
   "execution_count": 28,
   "metadata": {},
   "outputs": [
    {
     "data": {
      "text/html": [
       "<div>\n",
       "<style scoped>\n",
       "    .dataframe tbody tr th:only-of-type {\n",
       "        vertical-align: middle;\n",
       "    }\n",
       "\n",
       "    .dataframe tbody tr th {\n",
       "        vertical-align: top;\n",
       "    }\n",
       "\n",
       "    .dataframe thead th {\n",
       "        text-align: right;\n",
       "    }\n",
       "</style>\n",
       "<table border=\"1\" class=\"dataframe\">\n",
       "  <thead>\n",
       "    <tr style=\"text-align: right;\">\n",
       "      <th></th>\n",
       "      <th>price_html</th>\n",
       "    </tr>\n",
       "  </thead>\n",
       "  <tbody>\n",
       "    <tr>\n",
       "      <th>0</th>\n",
       "      <td>&lt;!DOCTYPE HTML&gt;\\r\\n&lt;html lang=\"en\"&gt;\\r\\n&lt;head&gt;\\...</td>\n",
       "    </tr>\n",
       "    <tr>\n",
       "      <th>1</th>\n",
       "      <td>&lt;!DOCTYPE HTML&gt;\\r\\n&lt;html lang=\"en\"&gt;\\r\\n&lt;head&gt;\\...</td>\n",
       "    </tr>\n",
       "    <tr>\n",
       "      <th>2</th>\n",
       "      <td>&lt;!DOCTYPE HTML&gt;\\r\\n&lt;html lang=\"en\"&gt;\\r\\n&lt;head&gt;\\...</td>\n",
       "    </tr>\n",
       "    <tr>\n",
       "      <th>3</th>\n",
       "      <td>&lt;!DOCTYPE HTML&gt;\\r\\n&lt;html lang=\"en\"&gt;\\r\\n&lt;head&gt;\\...</td>\n",
       "    </tr>\n",
       "    <tr>\n",
       "      <th>4</th>\n",
       "      <td>&lt;!DOCTYPE HTML&gt;\\r\\n&lt;html lang=\"en\"&gt;\\r\\n&lt;head&gt;\\...</td>\n",
       "    </tr>\n",
       "  </tbody>\n",
       "</table>\n",
       "</div>"
      ],
      "text/plain": [
       "                                          price_html\n",
       "0  <!DOCTYPE HTML>\\r\\n<html lang=\"en\">\\r\\n<head>\\...\n",
       "1  <!DOCTYPE HTML>\\r\\n<html lang=\"en\">\\r\\n<head>\\...\n",
       "2  <!DOCTYPE HTML>\\r\\n<html lang=\"en\">\\r\\n<head>\\...\n",
       "3  <!DOCTYPE HTML>\\r\\n<html lang=\"en\">\\r\\n<head>\\...\n",
       "4  <!DOCTYPE HTML>\\r\\n<html lang=\"en\">\\r\\n<head>\\..."
      ]
     },
     "execution_count": 28,
     "metadata": {},
     "output_type": "execute_result"
    }
   ],
   "source": [
    "six_to_eleven_c.head()"
   ]
  },
  {
   "cell_type": "code",
   "execution_count": 31,
   "metadata": {},
   "outputs": [
    {
     "name": "stdout",
     "output_type": "stream",
     "text": [
      "<class 'pandas.core.frame.DataFrame'>\n",
      "RangeIndex: 6 entries, 0 to 5\n",
      "Data columns (total 1 columns):\n",
      "price_html    6 non-null object\n",
      "dtypes: object(1)\n",
      "memory usage: 128.0+ bytes\n"
     ]
    }
   ],
   "source": [
    "six_to_eleven_c.info()"
   ]
  },
  {
   "cell_type": "code",
   "execution_count": 32,
   "metadata": {},
   "outputs": [],
   "source": [
    "six_to_eleven_c = six_to_eleven_c.apply(lambda x: neweggutils.get_prices(x[0]), axis=1)"
   ]
  },
  {
   "cell_type": "code",
   "execution_count": 33,
   "metadata": {},
   "outputs": [],
   "source": [
    "six_to_eleven_p = six_to_eleven_p.apply(lambda x: neweggutils.get_components(x[0]), axis=1)"
   ]
  },
  {
   "cell_type": "code",
   "execution_count": 318,
   "metadata": {},
   "outputs": [
    {
     "data": {
      "text/plain": [
       "96"
      ]
     },
     "execution_count": 318,
     "metadata": {},
     "output_type": "execute_result"
    }
   ],
   "source": [
    "len(six_to_eleven_c[3])"
   ]
  },
  {
   "cell_type": "code",
   "execution_count": 41,
   "metadata": {},
   "outputs": [],
   "source": [
    "eleven_to_fourteen_p.drop(labels=['Unnamed: 0', 'Unnamed: 0.1', 'component_html'], inplace=True, axis=1)"
   ]
  },
  {
   "cell_type": "code",
   "execution_count": 42,
   "metadata": {},
   "outputs": [],
   "source": [
    "eleven_to_fourteen_c.drop(labels=['Unnamed: 0', 'Unnamed: 0.1', 'price_html'], inplace=True, axis=1)"
   ]
  },
  {
   "cell_type": "code",
   "execution_count": 222,
   "metadata": {},
   "outputs": [],
   "source": [
    "eleven_to_fourteen_p.to_csv('11_to_14_prices.csv')\n",
    "eleven_to_fourteen_c.to_csv('11_to_14_components.csv')"
   ]
  },
  {
   "cell_type": "code",
   "execution_count": 76,
   "metadata": {},
   "outputs": [],
   "source": [
    "eleven_to_fourteen_c = eleven_to_fourteen_c.apply(lambda x: neweggutils.get_components(x[0]), axis=1)"
   ]
  },
  {
   "cell_type": "code",
   "execution_count": 89,
   "metadata": {},
   "outputs": [],
   "source": [
    "eleven_to_fourteen_c = pd.DataFrame(eleven_to_fourteen_c)"
   ]
  },
  {
   "cell_type": "code",
   "execution_count": 80,
   "metadata": {},
   "outputs": [],
   "source": [
    "eleven_to_fourteen_p = eleven_to_fourteen_p.apply(lambda x: neweggutils.get_prices(x[0]), axis=1)"
   ]
  },
  {
   "cell_type": "code",
   "execution_count": 323,
   "metadata": {},
   "outputs": [
    {
     "data": {
      "text/plain": [
       "96"
      ]
     },
     "execution_count": 323,
     "metadata": {},
     "output_type": "execute_result"
    }
   ],
   "source": [
    "len(eleven_to_fourteen_p[2])"
   ]
  },
  {
   "cell_type": "code",
   "execution_count": 116,
   "metadata": {},
   "outputs": [],
   "source": [
    "fill_63 = OrderedDict()"
   ]
  },
  {
   "cell_type": "code",
   "execution_count": 123,
   "metadata": {},
   "outputs": [],
   "source": [
    "fill_63['Brand'] = 'HP'\n",
    "fill_63['Model'] = '600'\n",
    "fill_63['Operating System'] = 'Windows 10 Pro 64'\n",
    "fill_63['Memory'] = '8GB DDR4 2400'\n",
    "fill_63['Storage'] = '1 TB 7200 rpm SATA HDD'\n",
    "fill_63['Processor'] = 'Intel i5-7500 3.4 GHz'\n",
    "fill_63['Graphics'] = 'Integrated'\n",
    "fill_63['Processor speed'] = '3.4 GHz'"
   ]
  },
  {
   "cell_type": "code",
   "execution_count": 125,
   "metadata": {},
   "outputs": [],
   "source": [
    "eleven_to_fourteen_c = pd.DataFrame(eleven_to_fourteen_c)"
   ]
  },
  {
   "cell_type": "code",
   "execution_count": 140,
   "metadata": {},
   "outputs": [],
   "source": [
    "def get_keys(ordereddict):\n",
    "    try:\n",
    "        k = ordereddict.keys()\n",
    "        return k\n",
    "    except:\n",
    "        return None"
   ]
  },
  {
   "cell_type": "code",
   "execution_count": 177,
   "metadata": {},
   "outputs": [],
   "source": [
    "def unique_columns(components_df):\n",
    "    cols = set()\n",
    "    \n",
    "    for _ in range(len(components_df)):\n",
    "        features = get_keys(components_df.iloc[_][0])\n",
    "        if features != None:\n",
    "            for key in features:\n",
    "                cols.add(key)\n",
    "    return list(cols)"
   ]
  },
  {
   "cell_type": "code",
   "execution_count": 178,
   "metadata": {},
   "outputs": [],
   "source": [
    "uniq = unique_columns(eleven_to_fourteen_c)"
   ]
  },
  {
   "cell_type": "code",
   "execution_count": 207,
   "metadata": {},
   "outputs": [],
   "source": [
    "def create_price_df(p):\n",
    "    price_df = pd.DataFrame(columns=['Price'])\n",
    "    \n",
    "    price_df['Price'] = sum([p[_] for _ in range(len(p))])\n",
    "    \n",
    "    return price_df"
   ]
  },
  {
   "cell_type": "markdown",
   "metadata": {},
   "source": [
    "## Grab price directly from HTML"
   ]
  },
  {
   "cell_type": "code",
   "execution_count": 244,
   "metadata": {},
   "outputs": [],
   "source": [
    "fc = pd.read_csv('first_5_prices_backup.csv')"
   ]
  },
  {
   "cell_type": "code",
   "execution_count": 245,
   "metadata": {},
   "outputs": [
    {
     "data": {
      "text/html": [
       "<div>\n",
       "<style scoped>\n",
       "    .dataframe tbody tr th:only-of-type {\n",
       "        vertical-align: middle;\n",
       "    }\n",
       "\n",
       "    .dataframe tbody tr th {\n",
       "        vertical-align: top;\n",
       "    }\n",
       "\n",
       "    .dataframe thead th {\n",
       "        text-align: right;\n",
       "    }\n",
       "</style>\n",
       "<table border=\"1\" class=\"dataframe\">\n",
       "  <thead>\n",
       "    <tr style=\"text-align: right;\">\n",
       "      <th></th>\n",
       "      <th>Unnamed: 0</th>\n",
       "      <th>component_html</th>\n",
       "      <th>price_html</th>\n",
       "    </tr>\n",
       "  </thead>\n",
       "  <tbody>\n",
       "    <tr>\n",
       "      <th>0</th>\n",
       "      <td>0</td>\n",
       "      <td>&lt;!DOCTYPE HTML&gt;\\r\\n&lt;html lang=\"en\"&gt;\\r\\n&lt;head&gt;\\...</td>\n",
       "      <td>NaN</td>\n",
       "    </tr>\n",
       "    <tr>\n",
       "      <th>1</th>\n",
       "      <td>0</td>\n",
       "      <td>&lt;!DOCTYPE HTML&gt;\\r\\n&lt;html lang=\"en\"&gt;\\r\\n&lt;head&gt;\\...</td>\n",
       "      <td>NaN</td>\n",
       "    </tr>\n",
       "    <tr>\n",
       "      <th>2</th>\n",
       "      <td>0</td>\n",
       "      <td>&lt;!DOCTYPE HTML&gt;\\r\\n&lt;html lang=\"en\"&gt;\\r\\n&lt;head&gt;\\...</td>\n",
       "      <td>NaN</td>\n",
       "    </tr>\n",
       "    <tr>\n",
       "      <th>3</th>\n",
       "      <td>0</td>\n",
       "      <td>&lt;!DOCTYPE HTML&gt;\\r\\n&lt;html lang=\"en\"&gt;\\r\\n&lt;head&gt;\\...</td>\n",
       "      <td>NaN</td>\n",
       "    </tr>\n",
       "    <tr>\n",
       "      <th>4</th>\n",
       "      <td>0</td>\n",
       "      <td>&lt;!DOCTYPE HTML&gt;\\r\\n&lt;html lang=\"en\"&gt;\\r\\n&lt;head&gt;\\...</td>\n",
       "      <td>NaN</td>\n",
       "    </tr>\n",
       "  </tbody>\n",
       "</table>\n",
       "</div>"
      ],
      "text/plain": [
       "   Unnamed: 0                                     component_html  price_html\n",
       "0           0  <!DOCTYPE HTML>\\r\\n<html lang=\"en\">\\r\\n<head>\\...         NaN\n",
       "1           0  <!DOCTYPE HTML>\\r\\n<html lang=\"en\">\\r\\n<head>\\...         NaN\n",
       "2           0  <!DOCTYPE HTML>\\r\\n<html lang=\"en\">\\r\\n<head>\\...         NaN\n",
       "3           0  <!DOCTYPE HTML>\\r\\n<html lang=\"en\">\\r\\n<head>\\...         NaN\n",
       "4           0  <!DOCTYPE HTML>\\r\\n<html lang=\"en\">\\r\\n<head>\\...         NaN"
      ]
     },
     "execution_count": 245,
     "metadata": {},
     "output_type": "execute_result"
    }
   ],
   "source": [
    "fc.head()"
   ]
  },
  {
   "cell_type": "code",
   "execution_count": 310,
   "metadata": {},
   "outputs": [],
   "source": [
    "page = fc['component_html'][1]"
   ]
  },
  {
   "cell_type": "code",
   "execution_count": 311,
   "metadata": {},
   "outputs": [],
   "source": [
    "soup = bs4.BeautifulSoup(page, 'lxml')"
   ]
  },
  {
   "cell_type": "code",
   "execution_count": 312,
   "metadata": {},
   "outputs": [
    {
     "data": {
      "text/plain": [
       "OrderedDict([('Brand', 'Lenovo'),\n",
       "             ('Series', 'IdeaCentre'),\n",
       "             ('Model', '720-18ICB (90HT0004US)'),\n",
       "             ('Part Number', '90HT0004US'),\n",
       "             ('Type', 'Gaming & Entertainment'),\n",
       "             ('Form Factor', 'Tower'),\n",
       "             ('Usage', 'Consumer'),\n",
       "             ('Colors', 'Black'),\n",
       "             ('Processor', 'Intel Core i7-8700 3.20 GHz'),\n",
       "             ('Processor Main Features', '64 bit 6-Core Processor'),\n",
       "             ('Cache Per Processor', '12 MB L3 Cache'),\n",
       "             ('Memory', '16 GB DDR4 2666 + 16 GB Optane Memory'),\n",
       "             ('Storage', '2 TB 7200 RPM HDD'),\n",
       "             ('Optical Drive', 'DVDRW'),\n",
       "             ('Graphics', 'NVIDIA GeForce GTX 1060 6 GB GDDR5'),\n",
       "             ('Power Supply', '400W'),\n",
       "             ('Operating System', 'Windows 10 Home 64-Bit'),\n",
       "             ('CPU Type', 'Intel Core i7 8th Gen'),\n",
       "             ('CPU Speed', '8700 (3.20 GHz)'),\n",
       "             ('L3 Cache Per CPU', '12 MB'),\n",
       "             ('CPU Main Features', '64 bit 6-Core Processor'),\n",
       "             ('GPU/VGA Type', 'NVIDIA GeForce GTX 1060'),\n",
       "             ('Video Memory', '6 GB GDDR5'),\n",
       "             ('Virtual Reality Ready', 'Yes'),\n",
       "             ('Memory Capacity', '16 GB DDR4'),\n",
       "             ('Memory Speed', 'DDR4 2666'),\n",
       "             ('Memory Spec', '8 GB x 2'),\n",
       "             ('Memory Slot (Total)', '2'),\n",
       "             ('Maximum Memory Supported', '32 GB'),\n",
       "             ('Optane Memory', '16 GB'),\n",
       "             ('HDD', '2 TB'),\n",
       "             ('HDD RPM', '7200rpm'),\n",
       "             ('Optical Drive Type', 'DVD±RW'),\n",
       "             ('LAN Speed', '10/100/1000Mbps'),\n",
       "             ('WLAN', '802.11ac Wireless LAN'),\n",
       "             ('Bluetooth', 'Bluetooth 4.1'),\n",
       "             ('Mouse Type', 'Wired Mouse'),\n",
       "             ('Keyboard Type', 'Wired Keyboard'),\n",
       "             ('Dimensions (H x W x D)', '12.78\" x 6.50\" x 14.80\"'),\n",
       "             ('Weight', '19.84 lbs.')])"
      ]
     },
     "execution_count": 312,
     "metadata": {},
     "output_type": "execute_result"
    }
   ],
   "source": [
    "neweggutils.get_components(page)"
   ]
  },
  {
   "cell_type": "code",
   "execution_count": 313,
   "metadata": {},
   "outputs": [
    {
     "data": {
      "text/plain": [
       "[]"
      ]
     },
     "execution_count": 313,
     "metadata": {},
     "output_type": "execute_result"
    }
   ],
   "source": [
    "soup.find_all(class_=re.compile('price-current'))"
   ]
  },
  {
   "cell_type": "code",
   "execution_count": 297,
   "metadata": {},
   "outputs": [],
   "source": [
    "p = soup.find_all(class_=re.compile('price-current'))"
   ]
  },
  {
   "cell_type": "code",
   "execution_count": 281,
   "metadata": {},
   "outputs": [
    {
     "data": {
      "text/plain": [
       "<li class=\"price-current\">\n",
       "<span class=\"price-current-label\">\n",
       "<a aria-label=\"Premier Price Explaination\" class=\"membership-info membership-popup\" data-neg-popid=\"MembershipPopup\" href=\"javascript:void(0);\" name=\"membership\" style=\"display: inline\"><span class=\"membership-icon\"></span><span style=\"display: none\">|</span></a>\n",
       "</span>$<strong>1,050</strong><sup>.00</sup> \n",
       "            <span class=\"price-current-range\">\n",
       "<abbr title=\"to\">–</abbr>\n",
       "</span>\n",
       "</li>"
      ]
     },
     "execution_count": 281,
     "metadata": {},
     "output_type": "execute_result"
    }
   ],
   "source": [
    "p[0].parent.parent"
   ]
  },
  {
   "cell_type": "code",
   "execution_count": null,
   "metadata": {},
   "outputs": [],
   "source": []
  }
 ],
 "metadata": {
  "kernelspec": {
   "display_name": "Python 3",
   "language": "python",
   "name": "python3"
  },
  "language_info": {
   "codemirror_mode": {
    "name": "ipython",
    "version": 3
   },
   "file_extension": ".py",
   "mimetype": "text/x-python",
   "name": "python",
   "nbconvert_exporter": "python",
   "pygments_lexer": "ipython3",
   "version": "3.6.5"
  }
 },
 "nbformat": 4,
 "nbformat_minor": 2
}
