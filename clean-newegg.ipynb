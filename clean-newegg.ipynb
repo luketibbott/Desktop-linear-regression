{
 "cells": [
  {
   "cell_type": "code",
   "execution_count": 29,
   "metadata": {},
   "outputs": [
    {
     "name": "stdout",
     "output_type": "stream",
     "text": [
      "The autoreload extension is already loaded. To reload it, use:\n",
      "  %reload_ext autoreload\n"
     ]
    }
   ],
   "source": [
    "import pandas as pd\n",
    "import numpy as np\n",
    "import matplotlib.pyplot as plt\n",
    "import neweggutils as nu\n",
    "import re\n",
    "\n",
    "%matplotlib inline\n",
    "%load_ext autoreload\n",
    "%autoreload 2"
   ]
  },
  {
   "cell_type": "code",
   "execution_count": 2,
   "metadata": {},
   "outputs": [],
   "source": [
    "df = pd.read_csv('final.csv')"
   ]
  },
  {
   "cell_type": "code",
   "execution_count": 4,
   "metadata": {},
   "outputs": [],
   "source": [
    "df.drop(labels=['Unnamed: 0'], inplace=True, axis=1)"
   ]
  },
  {
   "cell_type": "code",
   "execution_count": 6,
   "metadata": {},
   "outputs": [],
   "source": [
    "df_clean = df.copy()"
   ]
  },
  {
   "cell_type": "markdown",
   "metadata": {},
   "source": [
    "# Drop duplicates and unnecessary columns"
   ]
  },
  {
   "cell_type": "code",
   "execution_count": 9,
   "metadata": {},
   "outputs": [],
   "source": [
    "df_clean = df_clean[~df_clean.duplicated()]"
   ]
  },
  {
   "cell_type": "code",
   "execution_count": 12,
   "metadata": {},
   "outputs": [
    {
     "data": {
      "text/plain": [
       "array(['price', 'link', 'Brand', 'Series', 'Model', 'Part Number', 'Type',\n",
       "       'Form Factor', 'Usage', 'Colors', 'Processor',\n",
       "       'Processor Main Features', 'Cache Per Processor', 'Memory',\n",
       "       'Storage', 'Optical Drive', 'Graphics', 'Power Supply',\n",
       "       'Operating System', 'CPU Type', 'CPU Speed', 'L3 Cache Per CPU',\n",
       "       'CPU Main Features', 'GPU/VGA Type', 'Video Memory',\n",
       "       'Virtual Reality Ready', 'Memory Capacity', 'Memory Speed',\n",
       "       'Memory Spec', 'Memory Slot (Total)', 'Maximum Memory Supported',\n",
       "       'Optane Memory', 'HDD', 'HDD RPM', 'Optical Drive Type',\n",
       "       'Screen Size', 'LAN Speed', 'WLAN', 'Bluetooth', 'Mouse Type',\n",
       "       'Keyboard Type', 'Dimensions (H x W x D)', 'Weight',\n",
       "       'Graphics Interface', 'SSD', 'Keyboard', 'Storage Spec',\n",
       "       'Optical Drive Spec', 'Media Slots', 'Display Feature',\n",
       "       'Front USB', 'Mouse', 'Special Features', 'Package Contents',\n",
       "       'Software Included', 'Audio Chipset', 'LAN Chipset', 'Video Ports',\n",
       "       'Rear USB', 'RJ45', 'Rear Audio Ports', 'Speaker Configuration',\n",
       "       'HDD Interface', 'Front Audio Ports', 'Ethernet', 'Chipset',\n",
       "       'Audio Features', 'Memory Slot (Available)', 'Graphics Card',\n",
       "       'Screen Type', 'L2 Cache Per CPU',\n",
       "       'Memory Slots (Available/Total)', 'PS/2',\n",
       "       'PCI Slots (Available/Total)', 'COM', 'Speaker Features', 'FIR',\n",
       "       'Card Reader', 'Monitor', 'Installed Qty', 'Touchscreen', 'LPT',\n",
       "       'External Bays', 'Internal Bays', 'Audio', 'Speaker',\n",
       "       'Package Type', 'Optical Drive 2', 'Optical Drive 2 Type',\n",
       "       'Front IEEE 1394', 'SLI / Crossfire', 'Max Supported Qty'],\n",
       "      dtype=object)"
      ]
     },
     "execution_count": 12,
     "metadata": {},
     "output_type": "execute_result"
    }
   ],
   "source": [
    "df_clean.columns.values"
   ]
  },
  {
   "cell_type": "code",
   "execution_count": 15,
   "metadata": {},
   "outputs": [],
   "source": [
    "df_clean = df_clean.drop(labels=['Series', 'Model', 'Part Number', 'Model', 'Colors', 'Cache Per Processor',\n",
    "                                 'Optical Drive', 'L3 Cache Per CPU', 'Virtual Reality Ready', 'Optane Memory',\n",
    "                                 'LAN Speed', 'WLAN', 'Bluetooth', 'Mouse Type', 'Keyboard Type',\n",
    "                                 'Dimensions (H x W x D)', 'Keyboard', 'Mouse', 'Special Features',\n",
    "                                 'Package Contents', 'Software Included', 'Audio Chipset', 'LAN Chipset',\n",
    "                                 'Speaker Configuration', 'Front Audio Ports', 'L2 Cache Per CPU', \n",
    "                                 'COM', 'Speaker Features', 'FIR', 'Card Reader', 'Installed Qty', 'Touchscreen',\n",
    "                                 'LPT', 'External Bays', 'Internal Bays', 'Package Type', 'Optical Drive 2',\n",
    "                                 'Optical Drive 2 Type', 'Front IEEE 1394'], axis=1)"
   ]
  },
  {
   "cell_type": "code",
   "execution_count": 17,
   "metadata": {},
   "outputs": [],
   "source": [
    "df_clean = df_clean.drop(labels=['Power Supply', 'Memory Speed', 'Memory Spec', 'Memory Slot (Total)',\n",
    "                                 'Maximum Memory Supported', 'HDD RPM', 'Weight', 'Media Slots', 'Display Feature',\n",
    "                                 'HDD Interface', 'Ethernet', 'Chipset', 'Audio Features', 'Memory Slot (Available)',\n",
    "                                 'Graphics Card', 'Screen Type', 'PCI Slots (Available/Total)', 'Monitor',\n",
    "                                 'Audio', 'Speaker', 'SLI / Crossfire', 'Max Supported Qty'], axis=1)"
   ]
  },
  {
   "cell_type": "code",
   "execution_count": 26,
   "metadata": {},
   "outputs": [],
   "source": [
    "df_clean.to_csv('final_pared.csv')"
   ]
  },
  {
   "cell_type": "code",
   "execution_count": 42,
   "metadata": {},
   "outputs": [],
   "source": [
    "df_clean.reset_index(inplace=True, drop=True)"
   ]
  },
  {
   "cell_type": "markdown",
   "metadata": {},
   "source": [
    "## Grab processor brand, cores, and speed"
   ]
  },
  {
   "cell_type": "code",
   "execution_count": 44,
   "metadata": {},
   "outputs": [],
   "source": [
    "df_clean['proc_brand'] = df_clean['Processor'].str.extract(r'^(INTEL|AMD)', flags=re.IGNORECASE)"
   ]
  },
  {
   "cell_type": "code",
   "execution_count": 74,
   "metadata": {},
   "outputs": [],
   "source": [
    "df_clean.drop(labels=['Type', 'Usage'], axis=1, inplace=True)"
   ]
  },
  {
   "cell_type": "code",
   "execution_count": 88,
   "metadata": {},
   "outputs": [
    {
     "data": {
      "text/plain": [
       "0    0.252858\n",
       "dtype: float64"
      ]
     },
     "execution_count": 88,
     "metadata": {},
     "output_type": "execute_result"
    }
   ],
   "source": [
    "df_clean['Processor Main Features'].str.extract(r'(-Core|Core)', flags=re.IGNORECASE)"
   ]
  },
  {
   "cell_type": "code",
   "execution_count": 141,
   "metadata": {},
   "outputs": [],
   "source": [
    "df_clean['proc_cores'] = df_clean['Processor'].apply(lambda x: nu.num_cores(str(x)))"
   ]
  },
  {
   "cell_type": "code",
   "execution_count": 211,
   "metadata": {},
   "outputs": [],
   "source": [
    "pat = re.compile('([0-9]\\.[0-9]?)')\n",
    "df_clean['proc_speed'] = df_clean['CPU Speed'].str.extract(pat)"
   ]
  },
  {
   "cell_type": "code",
   "execution_count": 159,
   "metadata": {},
   "outputs": [],
   "source": [
    "df = df_clean.copy()"
   ]
  },
  {
   "cell_type": "code",
   "execution_count": 161,
   "metadata": {},
   "outputs": [],
   "source": [
    "df.to_csv('grab_procs.csv')"
   ]
  },
  {
   "cell_type": "markdown",
   "metadata": {},
   "source": [
    "## Grab RAM capacity and type (ddr2 vs ddr3 vs ddr4)"
   ]
  },
  {
   "cell_type": "code",
   "execution_count": 219,
   "metadata": {},
   "outputs": [],
   "source": [
    "df_clean['mem_type'] = df_clean['Memory Capacity'].apply(lambda x: nu.ram_type(str(x)))"
   ]
  },
  {
   "cell_type": "code",
   "execution_count": 220,
   "metadata": {},
   "outputs": [
    {
     "data": {
      "text/plain": [
       "2500"
      ]
     },
     "execution_count": 220,
     "metadata": {},
     "output_type": "execute_result"
    }
   ],
   "source": [
    "df_clean['mem_type'].notna().sum()"
   ]
  },
  {
   "cell_type": "code",
   "execution_count": 221,
   "metadata": {},
   "outputs": [],
   "source": [
    "df_clean['mem_cap'] = df_clean['Memory Capacity'].apply(lambda x: nu.ram_cap(str(x)))"
   ]
  },
  {
   "cell_type": "code",
   "execution_count": 222,
   "metadata": {},
   "outputs": [],
   "source": [
    "df_clean.to_csv('final_dirty1.csv')"
   ]
  },
  {
   "cell_type": "markdown",
   "metadata": {},
   "source": [
    "## Get storage capacity and type"
   ]
  },
  {
   "cell_type": "code",
   "execution_count": 247,
   "metadata": {},
   "outputs": [
    {
     "data": {
      "text/plain": [
       "1553                     2 TB\n",
       "2188                   750 GB\n",
       "1513               250 GB HDD\n",
       "376                       NaN\n",
       "2881                     2 TB\n",
       "2479          250 GB 7200 rpm\n",
       "498                       NaN\n",
       "2420     250 GB SATA 7200 RPM\n",
       "188                       NaN\n",
       "360                       NaN\n",
       "98                        NaN\n",
       "2023                      NaN\n",
       "500                       NaN\n",
       "1761                     1 TB\n",
       "511                360 GB SSD\n",
       "868                    500 GB\n",
       "581                       NaN\n",
       "1979                 1 TB HDD\n",
       "1351                      NaN\n",
       "763                       NaN\n",
       "2171       2 TB SATA 7200 RPM\n",
       "1856     250 GB SATA 7200 RPM\n",
       "2894       1 TB SATA 7200 RPM\n",
       "2936       1 TB SATA 7200 RPM\n",
       "2223                      NaN\n",
       "1895       1 TB SATA 7200 RPM\n",
       "1739                     2 TB\n",
       "522                  2 TB HDD\n",
       "2068       1 TB SATA 7200 RPM\n",
       "1932                      NaN\n",
       "793             2 TB 7200 RPM\n",
       "329     3 TB HDD + 120 GB SSD\n",
       "2231                      NaN\n",
       "2377                      NaN\n",
       "526                       NaN\n",
       "1468                     2 TB\n",
       "728                       NaN\n",
       "1274                      NaN\n",
       "1148                   250 GB\n",
       "83                        NaN\n",
       "1783                     1 TB\n",
       "1699                   320 GB\n",
       "2175       1 TB SATA 7200 RPM\n",
       "2581     320 GB SATA 7200 RPM\n",
       "711                       NaN\n",
       "383                       NaN\n",
       "1447                      NaN\n",
       "2130       2 TB SATA 7200 RPM\n",
       "507                512 GB SSD\n",
       "827                    500 GB\n",
       "Name: Storage, dtype: object"
      ]
     },
     "execution_count": 247,
     "metadata": {},
     "output_type": "execute_result"
    }
   ],
   "source": [
    "df['Storage'].sample(50)"
   ]
  },
  {
   "cell_type": "code",
   "execution_count": 242,
   "metadata": {},
   "outputs": [
    {
     "data": {
      "text/plain": [
       "2306       NaN\n",
       "215     128 GB\n",
       "1230       NaN\n",
       "1096    240 GB\n",
       "1453        No\n",
       "1025       NaN\n",
       "2639        No\n",
       "945        NaN\n",
       "1516        No\n",
       "994         No\n",
       "1771       NaN\n",
       "898        NaN\n",
       "1558        No\n",
       "2473       NaN\n",
       "167         No\n",
       "2091        No\n",
       "2717        No\n",
       "2917       NaN\n",
       "1752       NaN\n",
       "857        NaN\n",
       "859        NaN\n",
       "1978        No\n",
       "351     120 GB\n",
       "48      512 GB\n",
       "2392        No\n",
       "2032        No\n",
       "2943    128 GB\n",
       "2625        No\n",
       "1724        No\n",
       "2178        No\n",
       "1214       NaN\n",
       "765     120 GB\n",
       "2754        No\n",
       "922        NaN\n",
       "2511        No\n",
       "1228       NaN\n",
       "1319        No\n",
       "2324       NaN\n",
       "1537        No\n",
       "1312        No\n",
       "1667        No\n",
       "1631       NaN\n",
       "487        NaN\n",
       "2346       NaN\n",
       "2270       NaN\n",
       "910        NaN\n",
       "2769       NaN\n",
       "140        NaN\n",
       "2017        No\n",
       "1083    240 GB\n",
       "Name: SSD, dtype: object"
      ]
     },
     "execution_count": 242,
     "metadata": {},
     "output_type": "execute_result"
    }
   ],
   "source": [
    "df['SSD'].sample(50)"
   ]
  }
 ],
 "metadata": {
  "kernelspec": {
   "display_name": "Python 3",
   "language": "python",
   "name": "python3"
  },
  "language_info": {
   "codemirror_mode": {
    "name": "ipython",
    "version": 3
   },
   "file_extension": ".py",
   "mimetype": "text/x-python",
   "name": "python",
   "nbconvert_exporter": "python",
   "pygments_lexer": "ipython3",
   "version": "3.6.5"
  }
 },
 "nbformat": 4,
 "nbformat_minor": 2
}
