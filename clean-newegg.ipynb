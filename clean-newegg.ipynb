{
 "cells": [
  {
   "cell_type": "code",
   "execution_count": 29,
   "metadata": {},
   "outputs": [
    {
     "name": "stdout",
     "output_type": "stream",
     "text": [
      "The autoreload extension is already loaded. To reload it, use:\n",
      "  %reload_ext autoreload\n"
     ]
    }
   ],
   "source": [
    "import pandas as pd\n",
    "import numpy as np\n",
    "import matplotlib.pyplot as plt\n",
    "import neweggutils as nu\n",
    "import re\n",
    "\n",
    "%matplotlib inline\n",
    "%load_ext autoreload\n",
    "%autoreload 2"
   ]
  },
  {
   "cell_type": "code",
   "execution_count": 2,
   "metadata": {},
   "outputs": [],
   "source": [
    "df = pd.read_csv('final.csv')"
   ]
  },
  {
   "cell_type": "code",
   "execution_count": 4,
   "metadata": {},
   "outputs": [],
   "source": [
    "df.drop(labels=['Unnamed: 0'], inplace=True, axis=1)"
   ]
  },
  {
   "cell_type": "code",
   "execution_count": 6,
   "metadata": {},
   "outputs": [],
   "source": [
    "df_clean = df.copy()"
   ]
  },
  {
   "cell_type": "markdown",
   "metadata": {},
   "source": [
    "# Drop duplicates and unnecessary columns"
   ]
  },
  {
   "cell_type": "code",
   "execution_count": 9,
   "metadata": {},
   "outputs": [],
   "source": [
    "df_clean = df_clean[~df_clean.duplicated()]"
   ]
  },
  {
   "cell_type": "code",
   "execution_count": 12,
   "metadata": {},
   "outputs": [
    {
     "data": {
      "text/plain": [
       "array(['price', 'link', 'Brand', 'Series', 'Model', 'Part Number', 'Type',\n",
       "       'Form Factor', 'Usage', 'Colors', 'Processor',\n",
       "       'Processor Main Features', 'Cache Per Processor', 'Memory',\n",
       "       'Storage', 'Optical Drive', 'Graphics', 'Power Supply',\n",
       "       'Operating System', 'CPU Type', 'CPU Speed', 'L3 Cache Per CPU',\n",
       "       'CPU Main Features', 'GPU/VGA Type', 'Video Memory',\n",
       "       'Virtual Reality Ready', 'Memory Capacity', 'Memory Speed',\n",
       "       'Memory Spec', 'Memory Slot (Total)', 'Maximum Memory Supported',\n",
       "       'Optane Memory', 'HDD', 'HDD RPM', 'Optical Drive Type',\n",
       "       'Screen Size', 'LAN Speed', 'WLAN', 'Bluetooth', 'Mouse Type',\n",
       "       'Keyboard Type', 'Dimensions (H x W x D)', 'Weight',\n",
       "       'Graphics Interface', 'SSD', 'Keyboard', 'Storage Spec',\n",
       "       'Optical Drive Spec', 'Media Slots', 'Display Feature',\n",
       "       'Front USB', 'Mouse', 'Special Features', 'Package Contents',\n",
       "       'Software Included', 'Audio Chipset', 'LAN Chipset', 'Video Ports',\n",
       "       'Rear USB', 'RJ45', 'Rear Audio Ports', 'Speaker Configuration',\n",
       "       'HDD Interface', 'Front Audio Ports', 'Ethernet', 'Chipset',\n",
       "       'Audio Features', 'Memory Slot (Available)', 'Graphics Card',\n",
       "       'Screen Type', 'L2 Cache Per CPU',\n",
       "       'Memory Slots (Available/Total)', 'PS/2',\n",
       "       'PCI Slots (Available/Total)', 'COM', 'Speaker Features', 'FIR',\n",
       "       'Card Reader', 'Monitor', 'Installed Qty', 'Touchscreen', 'LPT',\n",
       "       'External Bays', 'Internal Bays', 'Audio', 'Speaker',\n",
       "       'Package Type', 'Optical Drive 2', 'Optical Drive 2 Type',\n",
       "       'Front IEEE 1394', 'SLI / Crossfire', 'Max Supported Qty'],\n",
       "      dtype=object)"
      ]
     },
     "execution_count": 12,
     "metadata": {},
     "output_type": "execute_result"
    }
   ],
   "source": [
    "df_clean.columns.values"
   ]
  },
  {
   "cell_type": "code",
   "execution_count": 15,
   "metadata": {},
   "outputs": [],
   "source": [
    "df_clean = df_clean.drop(labels=['Series', 'Model', 'Part Number', 'Model', 'Colors', 'Cache Per Processor',\n",
    "                                 'Optical Drive', 'L3 Cache Per CPU', 'Virtual Reality Ready', 'Optane Memory',\n",
    "                                 'LAN Speed', 'WLAN', 'Bluetooth', 'Mouse Type', 'Keyboard Type',\n",
    "                                 'Dimensions (H x W x D)', 'Keyboard', 'Mouse', 'Special Features',\n",
    "                                 'Package Contents', 'Software Included', 'Audio Chipset', 'LAN Chipset',\n",
    "                                 'Speaker Configuration', 'Front Audio Ports', 'L2 Cache Per CPU', \n",
    "                                 'COM', 'Speaker Features', 'FIR', 'Card Reader', 'Installed Qty', 'Touchscreen',\n",
    "                                 'LPT', 'External Bays', 'Internal Bays', 'Package Type', 'Optical Drive 2',\n",
    "                                 'Optical Drive 2 Type', 'Front IEEE 1394'], axis=1)"
   ]
  },
  {
   "cell_type": "code",
   "execution_count": 17,
   "metadata": {},
   "outputs": [],
   "source": [
    "df_clean = df_clean.drop(labels=['Power Supply', 'Memory Speed', 'Memory Spec', 'Memory Slot (Total)',\n",
    "                                 'Maximum Memory Supported', 'HDD RPM', 'Weight', 'Media Slots', 'Display Feature',\n",
    "                                 'HDD Interface', 'Ethernet', 'Chipset', 'Audio Features', 'Memory Slot (Available)',\n",
    "                                 'Graphics Card', 'Screen Type', 'PCI Slots (Available/Total)', 'Monitor',\n",
    "                                 'Audio', 'Speaker', 'SLI / Crossfire', 'Max Supported Qty'], axis=1)"
   ]
  },
  {
   "cell_type": "code",
   "execution_count": 26,
   "metadata": {},
   "outputs": [],
   "source": [
    "df_clean.to_csv('final_pared.csv')"
   ]
  },
  {
   "cell_type": "code",
   "execution_count": 42,
   "metadata": {},
   "outputs": [],
   "source": [
    "df_clean.reset_index(inplace=True, drop=True)"
   ]
  },
  {
   "cell_type": "markdown",
   "metadata": {},
   "source": [
    "## Grab processor brand, cores, and speed"
   ]
  },
  {
   "cell_type": "code",
   "execution_count": 44,
   "metadata": {},
   "outputs": [],
   "source": [
    "df_clean['proc_brand'] = df_clean['Processor'].str.extract(r'^(INTEL|AMD)', flags=re.IGNORECASE)"
   ]
  },
  {
   "cell_type": "code",
   "execution_count": 74,
   "metadata": {},
   "outputs": [],
   "source": [
    "df_clean.drop(labels=['Type', 'Usage'], axis=1, inplace=True)"
   ]
  },
  {
   "cell_type": "code",
   "execution_count": 88,
   "metadata": {},
   "outputs": [
    {
     "data": {
      "text/plain": [
       "0    0.252858\n",
       "dtype: float64"
      ]
     },
     "execution_count": 88,
     "metadata": {},
     "output_type": "execute_result"
    }
   ],
   "source": [
    "df_clean['Processor Main Features'].str.extract(r'(-Core|Core)', flags=re.IGNORECASE)"
   ]
  },
  {
   "cell_type": "code",
   "execution_count": 141,
   "metadata": {},
   "outputs": [],
   "source": [
    "df_clean['proc_cores'] = df_clean['Processor'].apply(lambda x: nu.num_cores(str(x)))"
   ]
  },
  {
   "cell_type": "code",
   "execution_count": 211,
   "metadata": {},
   "outputs": [],
   "source": [
    "pat = re.compile('([0-9]\\.[0-9]?)')\n",
    "df_clean['proc_speed'] = df_clean['CPU Speed'].str.extract(pat)"
   ]
  },
  {
   "cell_type": "code",
   "execution_count": 159,
   "metadata": {},
   "outputs": [],
   "source": [
    "df = df_clean.copy()"
   ]
  },
  {
   "cell_type": "code",
   "execution_count": 161,
   "metadata": {},
   "outputs": [],
   "source": [
    "df.to_csv('grab_procs.csv')"
   ]
  },
  {
   "cell_type": "markdown",
   "metadata": {},
   "source": [
    "## Grab RAM capacity and type (ddr2 vs ddr3 vs ddr4)"
   ]
  },
  {
   "cell_type": "code",
   "execution_count": 290,
   "metadata": {},
   "outputs": [],
   "source": [
    "df_clean = df.copy()"
   ]
  },
  {
   "cell_type": "code",
   "execution_count": 291,
   "metadata": {},
   "outputs": [],
   "source": [
    "df_clean['mem_type'] = df_clean['Memory Capacity'].apply(lambda x: nu.ram_type(str(x)))"
   ]
  },
  {
   "cell_type": "code",
   "execution_count": 292,
   "metadata": {},
   "outputs": [
    {
     "data": {
      "text/plain": [
       "2500"
      ]
     },
     "execution_count": 292,
     "metadata": {},
     "output_type": "execute_result"
    }
   ],
   "source": [
    "df_clean['mem_type'].notna().sum()"
   ]
  },
  {
   "cell_type": "code",
   "execution_count": 293,
   "metadata": {},
   "outputs": [],
   "source": [
    "df_clean['mem_cap'] = df_clean['Memory Capacity'].apply(lambda x: nu.ram_cap(str(x)))"
   ]
  },
  {
   "cell_type": "code",
   "execution_count": 294,
   "metadata": {},
   "outputs": [],
   "source": [
    "df_clean.to_csv('final_dirty1.csv')"
   ]
  },
  {
   "cell_type": "markdown",
   "metadata": {},
   "source": [
    "## Get number of USB ports"
   ]
  },
  {
   "cell_type": "code",
   "execution_count": 295,
   "metadata": {
    "collapsed": true
   },
   "outputs": [
    {
     "ename": "AttributeError",
     "evalue": "Can only use .str accessor with string values, which use np.object_ dtype in pandas",
     "output_type": "error",
     "traceback": [
      "\u001b[0;31m---------------------------------------------------------------------------\u001b[0m",
      "\u001b[0;31mAttributeError\u001b[0m                            Traceback (most recent call last)",
      "\u001b[0;32m<ipython-input-295-bce7fe294d62>\u001b[0m in \u001b[0;36m<module>\u001b[0;34m()\u001b[0m\n\u001b[0;32m----> 1\u001b[0;31m \u001b[0mdf_clean\u001b[0m\u001b[0;34m[\u001b[0m\u001b[0;34m'Front USB'\u001b[0m\u001b[0;34m]\u001b[0m \u001b[0;34m=\u001b[0m \u001b[0mdf_clean\u001b[0m\u001b[0;34m[\u001b[0m\u001b[0;34m'Front USB'\u001b[0m\u001b[0;34m]\u001b[0m\u001b[0;34m.\u001b[0m\u001b[0mstr\u001b[0m\u001b[0;34m.\u001b[0m\u001b[0mextract\u001b[0m\u001b[0;34m(\u001b[0m\u001b[0;34mr'(\\d)'\u001b[0m\u001b[0;34m)\u001b[0m\u001b[0;34m\u001b[0m\u001b[0m\n\u001b[0m\u001b[1;32m      2\u001b[0m \u001b[0mdf_clean\u001b[0m\u001b[0;34m[\u001b[0m\u001b[0;34m'Rear USB'\u001b[0m\u001b[0;34m]\u001b[0m \u001b[0;34m=\u001b[0m \u001b[0mdf_clean\u001b[0m\u001b[0;34m[\u001b[0m\u001b[0;34m'Rear USB'\u001b[0m\u001b[0;34m]\u001b[0m\u001b[0;34m.\u001b[0m\u001b[0mstr\u001b[0m\u001b[0;34m.\u001b[0m\u001b[0mextract\u001b[0m\u001b[0;34m(\u001b[0m\u001b[0;34mr'(\\d)'\u001b[0m\u001b[0;34m)\u001b[0m\u001b[0;34m\u001b[0m\u001b[0m\n",
      "\u001b[0;32m/anaconda3/lib/python3.6/site-packages/pandas/core/generic.py\u001b[0m in \u001b[0;36m__getattr__\u001b[0;34m(self, name)\u001b[0m\n\u001b[1;32m   4366\u001b[0m         if (name in self._internal_names_set or name in self._metadata or\n\u001b[1;32m   4367\u001b[0m                 name in self._accessors):\n\u001b[0;32m-> 4368\u001b[0;31m             \u001b[0;32mreturn\u001b[0m \u001b[0mobject\u001b[0m\u001b[0;34m.\u001b[0m\u001b[0m__getattribute__\u001b[0m\u001b[0;34m(\u001b[0m\u001b[0mself\u001b[0m\u001b[0;34m,\u001b[0m \u001b[0mname\u001b[0m\u001b[0;34m)\u001b[0m\u001b[0;34m\u001b[0m\u001b[0m\n\u001b[0m\u001b[1;32m   4369\u001b[0m         \u001b[0;32melse\u001b[0m\u001b[0;34m:\u001b[0m\u001b[0;34m\u001b[0m\u001b[0m\n\u001b[1;32m   4370\u001b[0m             \u001b[0;32mif\u001b[0m \u001b[0mself\u001b[0m\u001b[0;34m.\u001b[0m\u001b[0m_info_axis\u001b[0m\u001b[0;34m.\u001b[0m\u001b[0m_can_hold_identifiers_and_holds_name\u001b[0m\u001b[0;34m(\u001b[0m\u001b[0mname\u001b[0m\u001b[0;34m)\u001b[0m\u001b[0;34m:\u001b[0m\u001b[0;34m\u001b[0m\u001b[0m\n",
      "\u001b[0;32m/anaconda3/lib/python3.6/site-packages/pandas/core/accessor.py\u001b[0m in \u001b[0;36m__get__\u001b[0;34m(self, obj, cls)\u001b[0m\n\u001b[1;32m    130\u001b[0m             \u001b[0;31m# we're accessing the attribute of the class, i.e., Dataset.geo\u001b[0m\u001b[0;34m\u001b[0m\u001b[0;34m\u001b[0m\u001b[0m\n\u001b[1;32m    131\u001b[0m             \u001b[0;32mreturn\u001b[0m \u001b[0mself\u001b[0m\u001b[0;34m.\u001b[0m\u001b[0m_accessor\u001b[0m\u001b[0;34m\u001b[0m\u001b[0m\n\u001b[0;32m--> 132\u001b[0;31m         \u001b[0maccessor_obj\u001b[0m \u001b[0;34m=\u001b[0m \u001b[0mself\u001b[0m\u001b[0;34m.\u001b[0m\u001b[0m_accessor\u001b[0m\u001b[0;34m(\u001b[0m\u001b[0mobj\u001b[0m\u001b[0;34m)\u001b[0m\u001b[0;34m\u001b[0m\u001b[0m\n\u001b[0m\u001b[1;32m    133\u001b[0m         \u001b[0;31m# Replace the property with the accessor object. Inspired by:\u001b[0m\u001b[0;34m\u001b[0m\u001b[0;34m\u001b[0m\u001b[0m\n\u001b[1;32m    134\u001b[0m         \u001b[0;31m# http://www.pydanny.com/cached-property.html\u001b[0m\u001b[0;34m\u001b[0m\u001b[0;34m\u001b[0m\u001b[0m\n",
      "\u001b[0;32m/anaconda3/lib/python3.6/site-packages/pandas/core/strings.py\u001b[0m in \u001b[0;36m__init__\u001b[0;34m(self, data)\u001b[0m\n\u001b[1;32m   1893\u001b[0m \u001b[0;34m\u001b[0m\u001b[0m\n\u001b[1;32m   1894\u001b[0m     \u001b[0;32mdef\u001b[0m \u001b[0m__init__\u001b[0m\u001b[0;34m(\u001b[0m\u001b[0mself\u001b[0m\u001b[0;34m,\u001b[0m \u001b[0mdata\u001b[0m\u001b[0;34m)\u001b[0m\u001b[0;34m:\u001b[0m\u001b[0;34m\u001b[0m\u001b[0m\n\u001b[0;32m-> 1895\u001b[0;31m         \u001b[0mself\u001b[0m\u001b[0;34m.\u001b[0m\u001b[0m_validate\u001b[0m\u001b[0;34m(\u001b[0m\u001b[0mdata\u001b[0m\u001b[0;34m)\u001b[0m\u001b[0;34m\u001b[0m\u001b[0m\n\u001b[0m\u001b[1;32m   1896\u001b[0m         \u001b[0mself\u001b[0m\u001b[0;34m.\u001b[0m\u001b[0m_is_categorical\u001b[0m \u001b[0;34m=\u001b[0m \u001b[0mis_categorical_dtype\u001b[0m\u001b[0;34m(\u001b[0m\u001b[0mdata\u001b[0m\u001b[0;34m)\u001b[0m\u001b[0;34m\u001b[0m\u001b[0m\n\u001b[1;32m   1897\u001b[0m \u001b[0;34m\u001b[0m\u001b[0m\n",
      "\u001b[0;32m/anaconda3/lib/python3.6/site-packages/pandas/core/strings.py\u001b[0m in \u001b[0;36m_validate\u001b[0;34m(data)\u001b[0m\n\u001b[1;32m   1915\u001b[0m             \u001b[0;31m# (instead of test for object dtype), but that isn't practical for\u001b[0m\u001b[0;34m\u001b[0m\u001b[0;34m\u001b[0m\u001b[0m\n\u001b[1;32m   1916\u001b[0m             \u001b[0;31m# performance reasons until we have a str dtype (GH 9343)\u001b[0m\u001b[0;34m\u001b[0m\u001b[0;34m\u001b[0m\u001b[0m\n\u001b[0;32m-> 1917\u001b[0;31m             raise AttributeError(\"Can only use .str accessor with string \"\n\u001b[0m\u001b[1;32m   1918\u001b[0m                                  \u001b[0;34m\"values, which use np.object_ dtype in \"\u001b[0m\u001b[0;34m\u001b[0m\u001b[0m\n\u001b[1;32m   1919\u001b[0m                                  \"pandas\")\n",
      "\u001b[0;31mAttributeError\u001b[0m: Can only use .str accessor with string values, which use np.object_ dtype in pandas"
     ]
    }
   ],
   "source": [
    "df_clean['Front USB'] = df_clean['Front USB'].str.extract(r'(\\d)')\n",
    "df_clean['Rear USB'] = df_clean['Rear USB'].str.extract(r'(\\d)')"
   ]
  },
  {
   "cell_type": "code",
   "execution_count": 296,
   "metadata": {},
   "outputs": [],
   "source": [
    "df_clean['Front USB'].fillna(0, inplace=True)\n",
    "df_clean['Rear USB'].fillna(0, inplace=True)"
   ]
  },
  {
   "cell_type": "code",
   "execution_count": 297,
   "metadata": {},
   "outputs": [],
   "source": [
    "df_clean['Front USB'] = df_clean['Front USB'].astype(int)\n",
    "df_clean['Rear USB'] = df_clean['Rear USB'].astype(int)"
   ]
  },
  {
   "cell_type": "code",
   "execution_count": 298,
   "metadata": {},
   "outputs": [],
   "source": [
    "df_clean['num_USB'] = df_clean['Front USB'] + df_clean['Rear USB']"
   ]
  },
  {
   "cell_type": "code",
   "execution_count": 299,
   "metadata": {},
   "outputs": [],
   "source": [
    "df_clean['num_USB'] = df_clean['num_USB'].replace(0, np.nan)"
   ]
  },
  {
   "cell_type": "code",
   "execution_count": 303,
   "metadata": {},
   "outputs": [],
   "source": [
    "df_clean['num_USB'].fillna(df_clean['num_USB'].median(), inplace=True)"
   ]
  },
  {
   "cell_type": "code",
   "execution_count": 304,
   "metadata": {},
   "outputs": [
    {
     "data": {
      "text/plain": [
       "count    2974.000000\n",
       "mean        7.888702\n",
       "std         1.624129\n",
       "min         1.000000\n",
       "25%         8.000000\n",
       "50%         8.000000\n",
       "75%         8.000000\n",
       "max        10.000000\n",
       "Name: num_USB, dtype: float64"
      ]
     },
     "execution_count": 304,
     "metadata": {},
     "output_type": "execute_result"
    }
   ],
   "source": [
    "df_clean['num_USB'].describe()"
   ]
  },
  {
   "cell_type": "code",
   "execution_count": 307,
   "metadata": {},
   "outputs": [],
   "source": [
    "df_clean.to_csv('cleaning.csv')"
   ]
  },
  {
   "cell_type": "markdown",
   "metadata": {},
   "source": [
    "## Get operating system"
   ]
  },
  {
   "cell_type": "code",
   "execution_count": 509,
   "metadata": {},
   "outputs": [],
   "source": [
    "df_clean = pd.read_csv('cleaning.csv')"
   ]
  },
  {
   "cell_type": "code",
   "execution_count": 510,
   "metadata": {},
   "outputs": [],
   "source": [
    "df_clean['Operating System'] = df_clean['Operating System'].str.extract(r'(Windows \\d*)')"
   ]
  },
  {
   "cell_type": "code",
   "execution_count": 511,
   "metadata": {},
   "outputs": [
    {
     "data": {
      "text/plain": [
       "array(['Windows 10', nan, 'Windows 8', 'Windows 7'], dtype=object)"
      ]
     },
     "execution_count": 511,
     "metadata": {},
     "output_type": "execute_result"
    }
   ],
   "source": [
    "df_clean['Operating System'].unique()"
   ]
  },
  {
   "cell_type": "markdown",
   "metadata": {},
   "source": [
    "## Get storage capacity and type"
   ]
  },
  {
   "cell_type": "code",
   "execution_count": 578,
   "metadata": {},
   "outputs": [],
   "source": [
    "df_clean['storage_type'] = df_clean['SSD'].apply(lambda x: nu.ssd_or_hdd(str(x)))"
   ]
  },
  {
   "cell_type": "code",
   "execution_count": 583,
   "metadata": {},
   "outputs": [
    {
     "data": {
      "text/html": [
       "<div>\n",
       "<style scoped>\n",
       "    .dataframe tbody tr th:only-of-type {\n",
       "        vertical-align: middle;\n",
       "    }\n",
       "\n",
       "    .dataframe tbody tr th {\n",
       "        vertical-align: top;\n",
       "    }\n",
       "\n",
       "    .dataframe thead th {\n",
       "        text-align: right;\n",
       "    }\n",
       "</style>\n",
       "<table border=\"1\" class=\"dataframe\">\n",
       "  <thead>\n",
       "    <tr style=\"text-align: right;\">\n",
       "      <th></th>\n",
       "      <th>Storage</th>\n",
       "      <th>storage_type</th>\n",
       "      <th>storage_cap</th>\n",
       "      <th>SSD</th>\n",
       "    </tr>\n",
       "  </thead>\n",
       "  <tbody>\n",
       "    <tr>\n",
       "      <th>1769</th>\n",
       "      <td>1 TB</td>\n",
       "      <td>hdd</td>\n",
       "      <td>1024.0</td>\n",
       "      <td>No</td>\n",
       "    </tr>\n",
       "    <tr>\n",
       "      <th>2195</th>\n",
       "      <td>320 GB SATA 7200 RPM</td>\n",
       "      <td>hdd</td>\n",
       "      <td>320.0</td>\n",
       "      <td>No</td>\n",
       "    </tr>\n",
       "    <tr>\n",
       "      <th>1738</th>\n",
       "      <td>320 GB</td>\n",
       "      <td>hdd</td>\n",
       "      <td>320.0</td>\n",
       "      <td>No</td>\n",
       "    </tr>\n",
       "    <tr>\n",
       "      <th>622</th>\n",
       "      <td>250 GB HDD</td>\n",
       "      <td>hdd</td>\n",
       "      <td>250.0</td>\n",
       "      <td>NaN</td>\n",
       "    </tr>\n",
       "    <tr>\n",
       "      <th>342</th>\n",
       "      <td>360 GB SSD</td>\n",
       "      <td>ssd</td>\n",
       "      <td>360.0</td>\n",
       "      <td>Brand New 360 GB</td>\n",
       "    </tr>\n",
       "    <tr>\n",
       "      <th>2187</th>\n",
       "      <td>160 GB SATA 7200 RPM</td>\n",
       "      <td>hdd</td>\n",
       "      <td>160.0</td>\n",
       "      <td>No</td>\n",
       "    </tr>\n",
       "    <tr>\n",
       "      <th>1208</th>\n",
       "      <td>250 GB</td>\n",
       "      <td>hdd</td>\n",
       "      <td>250.0</td>\n",
       "      <td>NaN</td>\n",
       "    </tr>\n",
       "    <tr>\n",
       "      <th>211</th>\n",
       "      <td>256 GB SSD M.2 PCIe NVMe Opal</td>\n",
       "      <td>ssd</td>\n",
       "      <td>256.0</td>\n",
       "      <td>256 GB</td>\n",
       "    </tr>\n",
       "    <tr>\n",
       "      <th>984</th>\n",
       "      <td>NaN</td>\n",
       "      <td>hdd</td>\n",
       "      <td>1024.0</td>\n",
       "      <td>No</td>\n",
       "    </tr>\n",
       "    <tr>\n",
       "      <th>1308</th>\n",
       "      <td>NaN</td>\n",
       "      <td>hdd</td>\n",
       "      <td>1024.0</td>\n",
       "      <td>No</td>\n",
       "    </tr>\n",
       "    <tr>\n",
       "      <th>214</th>\n",
       "      <td>500 GB</td>\n",
       "      <td>hdd</td>\n",
       "      <td>500.0</td>\n",
       "      <td>NaN</td>\n",
       "    </tr>\n",
       "    <tr>\n",
       "      <th>45</th>\n",
       "      <td>NaN</td>\n",
       "      <td>ssd</td>\n",
       "      <td>512.0</td>\n",
       "      <td>512 GB</td>\n",
       "    </tr>\n",
       "    <tr>\n",
       "      <th>1623</th>\n",
       "      <td>2 TB HDD</td>\n",
       "      <td>hdd</td>\n",
       "      <td>2048.0</td>\n",
       "      <td>No</td>\n",
       "    </tr>\n",
       "    <tr>\n",
       "      <th>1166</th>\n",
       "      <td>250 GB</td>\n",
       "      <td>hdd</td>\n",
       "      <td>250.0</td>\n",
       "      <td>NaN</td>\n",
       "    </tr>\n",
       "    <tr>\n",
       "      <th>1863</th>\n",
       "      <td>NaN</td>\n",
       "      <td>hdd</td>\n",
       "      <td>1024.0</td>\n",
       "      <td>No</td>\n",
       "    </tr>\n",
       "    <tr>\n",
       "      <th>971</th>\n",
       "      <td>NaN</td>\n",
       "      <td>hdd</td>\n",
       "      <td>1024.0</td>\n",
       "      <td>No</td>\n",
       "    </tr>\n",
       "    <tr>\n",
       "      <th>2694</th>\n",
       "      <td>1 TB SATA 7200 RPM</td>\n",
       "      <td>hdd</td>\n",
       "      <td>1024.0</td>\n",
       "      <td>NaN</td>\n",
       "    </tr>\n",
       "    <tr>\n",
       "      <th>2197</th>\n",
       "      <td>500 GB SATA 7200 RPM</td>\n",
       "      <td>hdd</td>\n",
       "      <td>500.0</td>\n",
       "      <td>No</td>\n",
       "    </tr>\n",
       "    <tr>\n",
       "      <th>2855</th>\n",
       "      <td>2 TB SATA 7200 RPM</td>\n",
       "      <td>hdd</td>\n",
       "      <td>2048.0</td>\n",
       "      <td>NaN</td>\n",
       "    </tr>\n",
       "    <tr>\n",
       "      <th>755</th>\n",
       "      <td>NaN</td>\n",
       "      <td>hdd</td>\n",
       "      <td>NaN</td>\n",
       "      <td>NaN</td>\n",
       "    </tr>\n",
       "    <tr>\n",
       "      <th>2452</th>\n",
       "      <td>1 TB</td>\n",
       "      <td>hdd</td>\n",
       "      <td>1024.0</td>\n",
       "      <td>No</td>\n",
       "    </tr>\n",
       "    <tr>\n",
       "      <th>2364</th>\n",
       "      <td>2 TB</td>\n",
       "      <td>hdd</td>\n",
       "      <td>2048.0</td>\n",
       "      <td>NaN</td>\n",
       "    </tr>\n",
       "    <tr>\n",
       "      <th>1086</th>\n",
       "      <td>NaN</td>\n",
       "      <td>ssd</td>\n",
       "      <td>240.0</td>\n",
       "      <td>240 GB</td>\n",
       "    </tr>\n",
       "    <tr>\n",
       "      <th>2748</th>\n",
       "      <td>1 TB</td>\n",
       "      <td>hdd</td>\n",
       "      <td>1024.0</td>\n",
       "      <td>NaN</td>\n",
       "    </tr>\n",
       "    <tr>\n",
       "      <th>2419</th>\n",
       "      <td>250 GB 7200 rpm</td>\n",
       "      <td>hdd</td>\n",
       "      <td>250.0</td>\n",
       "      <td>NaN</td>\n",
       "    </tr>\n",
       "    <tr>\n",
       "      <th>674</th>\n",
       "      <td>NaN</td>\n",
       "      <td>hdd</td>\n",
       "      <td>NaN</td>\n",
       "      <td>No</td>\n",
       "    </tr>\n",
       "    <tr>\n",
       "      <th>2593</th>\n",
       "      <td>1 TB SATA 7200 RPM</td>\n",
       "      <td>hdd</td>\n",
       "      <td>1024.0</td>\n",
       "      <td>No</td>\n",
       "    </tr>\n",
       "    <tr>\n",
       "      <th>1868</th>\n",
       "      <td>NaN</td>\n",
       "      <td>hdd</td>\n",
       "      <td>320.0</td>\n",
       "      <td>No</td>\n",
       "    </tr>\n",
       "    <tr>\n",
       "      <th>1592</th>\n",
       "      <td>1 TB</td>\n",
       "      <td>hdd</td>\n",
       "      <td>1024.0</td>\n",
       "      <td>No</td>\n",
       "    </tr>\n",
       "    <tr>\n",
       "      <th>644</th>\n",
       "      <td>NaN</td>\n",
       "      <td>ssd</td>\n",
       "      <td>120.0</td>\n",
       "      <td>120 GB</td>\n",
       "    </tr>\n",
       "    <tr>\n",
       "      <th>1938</th>\n",
       "      <td>NaN</td>\n",
       "      <td>hdd</td>\n",
       "      <td>2048.0</td>\n",
       "      <td>No</td>\n",
       "    </tr>\n",
       "    <tr>\n",
       "      <th>1878</th>\n",
       "      <td>NaN</td>\n",
       "      <td>hdd</td>\n",
       "      <td>1024.0</td>\n",
       "      <td>No</td>\n",
       "    </tr>\n",
       "    <tr>\n",
       "      <th>487</th>\n",
       "      <td>NaN</td>\n",
       "      <td>ssd</td>\n",
       "      <td>NaN</td>\n",
       "      <td>120GB</td>\n",
       "    </tr>\n",
       "    <tr>\n",
       "      <th>1762</th>\n",
       "      <td>2 TB</td>\n",
       "      <td>hdd</td>\n",
       "      <td>2048.0</td>\n",
       "      <td>No</td>\n",
       "    </tr>\n",
       "    <tr>\n",
       "      <th>903</th>\n",
       "      <td>1 TB 7200 RPM</td>\n",
       "      <td>hdd</td>\n",
       "      <td>1024.0</td>\n",
       "      <td>NaN</td>\n",
       "    </tr>\n",
       "    <tr>\n",
       "      <th>758</th>\n",
       "      <td>250 GB HDD</td>\n",
       "      <td>hdd</td>\n",
       "      <td>250.0</td>\n",
       "      <td>NaN</td>\n",
       "    </tr>\n",
       "    <tr>\n",
       "      <th>474</th>\n",
       "      <td>NaN</td>\n",
       "      <td>ssd</td>\n",
       "      <td>NaN</td>\n",
       "      <td>360GB</td>\n",
       "    </tr>\n",
       "    <tr>\n",
       "      <th>1221</th>\n",
       "      <td>1 TB</td>\n",
       "      <td>hdd</td>\n",
       "      <td>1024.0</td>\n",
       "      <td>NaN</td>\n",
       "    </tr>\n",
       "    <tr>\n",
       "      <th>1427</th>\n",
       "      <td>2 TB</td>\n",
       "      <td>hdd</td>\n",
       "      <td>2048.0</td>\n",
       "      <td>NaN</td>\n",
       "    </tr>\n",
       "    <tr>\n",
       "      <th>1158</th>\n",
       "      <td>500 GB</td>\n",
       "      <td>hdd</td>\n",
       "      <td>500.0</td>\n",
       "      <td>NaN</td>\n",
       "    </tr>\n",
       "    <tr>\n",
       "      <th>2010</th>\n",
       "      <td>250 GB SATA 7200 RPM</td>\n",
       "      <td>hdd</td>\n",
       "      <td>250.0</td>\n",
       "      <td>No</td>\n",
       "    </tr>\n",
       "    <tr>\n",
       "      <th>2013</th>\n",
       "      <td>2 TB SATA 7200 RPM</td>\n",
       "      <td>hdd</td>\n",
       "      <td>2048.0</td>\n",
       "      <td>NaN</td>\n",
       "    </tr>\n",
       "    <tr>\n",
       "      <th>448</th>\n",
       "      <td>NaN</td>\n",
       "      <td>hdd</td>\n",
       "      <td>NaN</td>\n",
       "      <td>No</td>\n",
       "    </tr>\n",
       "    <tr>\n",
       "      <th>1987</th>\n",
       "      <td>1 TB SATA 7200 RPM</td>\n",
       "      <td>hdd</td>\n",
       "      <td>1024.0</td>\n",
       "      <td>No</td>\n",
       "    </tr>\n",
       "    <tr>\n",
       "      <th>37</th>\n",
       "      <td>NaN</td>\n",
       "      <td>ssd</td>\n",
       "      <td>1024.0</td>\n",
       "      <td>1 TB</td>\n",
       "    </tr>\n",
       "    <tr>\n",
       "      <th>1408</th>\n",
       "      <td>2 TB</td>\n",
       "      <td>hdd</td>\n",
       "      <td>2048.0</td>\n",
       "      <td>NaN</td>\n",
       "    </tr>\n",
       "    <tr>\n",
       "      <th>2098</th>\n",
       "      <td>320 GB</td>\n",
       "      <td>hdd</td>\n",
       "      <td>320.0</td>\n",
       "      <td>No</td>\n",
       "    </tr>\n",
       "    <tr>\n",
       "      <th>1905</th>\n",
       "      <td>NaN</td>\n",
       "      <td>hdd</td>\n",
       "      <td>2048.0</td>\n",
       "      <td>No</td>\n",
       "    </tr>\n",
       "    <tr>\n",
       "      <th>1847</th>\n",
       "      <td>NaN</td>\n",
       "      <td>hdd</td>\n",
       "      <td>320.0</td>\n",
       "      <td>No</td>\n",
       "    </tr>\n",
       "    <tr>\n",
       "      <th>1239</th>\n",
       "      <td>NaN</td>\n",
       "      <td>hdd</td>\n",
       "      <td>320.0</td>\n",
       "      <td>No</td>\n",
       "    </tr>\n",
       "  </tbody>\n",
       "</table>\n",
       "</div>"
      ],
      "text/plain": [
       "                            Storage storage_type  storage_cap  \\\n",
       "1769                           1 TB          hdd       1024.0   \n",
       "2195           320 GB SATA 7200 RPM          hdd        320.0   \n",
       "1738                         320 GB          hdd        320.0   \n",
       "622                      250 GB HDD          hdd        250.0   \n",
       "342                      360 GB SSD          ssd        360.0   \n",
       "2187           160 GB SATA 7200 RPM          hdd        160.0   \n",
       "1208                         250 GB          hdd        250.0   \n",
       "211   256 GB SSD M.2 PCIe NVMe Opal          ssd        256.0   \n",
       "984                             NaN          hdd       1024.0   \n",
       "1308                            NaN          hdd       1024.0   \n",
       "214                          500 GB          hdd        500.0   \n",
       "45                              NaN          ssd        512.0   \n",
       "1623                       2 TB HDD          hdd       2048.0   \n",
       "1166                         250 GB          hdd        250.0   \n",
       "1863                            NaN          hdd       1024.0   \n",
       "971                             NaN          hdd       1024.0   \n",
       "2694             1 TB SATA 7200 RPM          hdd       1024.0   \n",
       "2197           500 GB SATA 7200 RPM          hdd        500.0   \n",
       "2855             2 TB SATA 7200 RPM          hdd       2048.0   \n",
       "755                             NaN          hdd          NaN   \n",
       "2452                           1 TB          hdd       1024.0   \n",
       "2364                           2 TB          hdd       2048.0   \n",
       "1086                            NaN          ssd        240.0   \n",
       "2748                           1 TB          hdd       1024.0   \n",
       "2419                250 GB 7200 rpm          hdd        250.0   \n",
       "674                             NaN          hdd          NaN   \n",
       "2593             1 TB SATA 7200 RPM          hdd       1024.0   \n",
       "1868                            NaN          hdd        320.0   \n",
       "1592                           1 TB          hdd       1024.0   \n",
       "644                             NaN          ssd        120.0   \n",
       "1938                            NaN          hdd       2048.0   \n",
       "1878                            NaN          hdd       1024.0   \n",
       "487                             NaN          ssd          NaN   \n",
       "1762                           2 TB          hdd       2048.0   \n",
       "903                   1 TB 7200 RPM          hdd       1024.0   \n",
       "758                      250 GB HDD          hdd        250.0   \n",
       "474                             NaN          ssd          NaN   \n",
       "1221                           1 TB          hdd       1024.0   \n",
       "1427                           2 TB          hdd       2048.0   \n",
       "1158                         500 GB          hdd        500.0   \n",
       "2010           250 GB SATA 7200 RPM          hdd        250.0   \n",
       "2013             2 TB SATA 7200 RPM          hdd       2048.0   \n",
       "448                             NaN          hdd          NaN   \n",
       "1987             1 TB SATA 7200 RPM          hdd       1024.0   \n",
       "37                              NaN          ssd       1024.0   \n",
       "1408                           2 TB          hdd       2048.0   \n",
       "2098                         320 GB          hdd        320.0   \n",
       "1905                            NaN          hdd       2048.0   \n",
       "1847                            NaN          hdd        320.0   \n",
       "1239                            NaN          hdd        320.0   \n",
       "\n",
       "                   SSD  \n",
       "1769                No  \n",
       "2195                No  \n",
       "1738                No  \n",
       "622                NaN  \n",
       "342   Brand New 360 GB  \n",
       "2187                No  \n",
       "1208               NaN  \n",
       "211             256 GB  \n",
       "984                 No  \n",
       "1308                No  \n",
       "214                NaN  \n",
       "45              512 GB  \n",
       "1623                No  \n",
       "1166               NaN  \n",
       "1863                No  \n",
       "971                 No  \n",
       "2694               NaN  \n",
       "2197                No  \n",
       "2855               NaN  \n",
       "755                NaN  \n",
       "2452                No  \n",
       "2364               NaN  \n",
       "1086            240 GB  \n",
       "2748               NaN  \n",
       "2419               NaN  \n",
       "674                 No  \n",
       "2593                No  \n",
       "1868                No  \n",
       "1592                No  \n",
       "644             120 GB  \n",
       "1938                No  \n",
       "1878                No  \n",
       "487              120GB  \n",
       "1762                No  \n",
       "903                NaN  \n",
       "758                NaN  \n",
       "474              360GB  \n",
       "1221               NaN  \n",
       "1427               NaN  \n",
       "1158               NaN  \n",
       "2010                No  \n",
       "2013               NaN  \n",
       "448                 No  \n",
       "1987                No  \n",
       "37                1 TB  \n",
       "1408               NaN  \n",
       "2098                No  \n",
       "1905                No  \n",
       "1847                No  \n",
       "1239                No  "
      ]
     },
     "execution_count": 583,
     "metadata": {},
     "output_type": "execute_result"
    }
   ],
   "source": [
    "df_clean[['Storage', 'storage_type', 'storage_cap', 'SSD']].sample(50)"
   ]
  },
  {
   "cell_type": "code",
   "execution_count": 513,
   "metadata": {},
   "outputs": [],
   "source": [
    "df_clean['storage_cap'] = df_clean['Storage'].apply(lambda x: nu.storage_cap(str(x)))"
   ]
  },
  {
   "cell_type": "code",
   "execution_count": 582,
   "metadata": {},
   "outputs": [],
   "source": [
    "df_clean['storage_cap'].fillna(df_clean['SSD'].apply(lambda x: nu.storage_cap(str(x))), inplace=True)"
   ]
  },
  {
   "cell_type": "code",
   "execution_count": 514,
   "metadata": {},
   "outputs": [
    {
     "data": {
      "text/plain": [
       "array(['2 TB', '1 TB', nan, '500 GB', '250 GB', 'No', '320 GB', '3 TB',\n",
       "       '2TB', '500G', '3TB', '250G', '750 GB', '160 GB', '1TB', '500GB',\n",
       "       '80 GB', '320G', '1.5 TB'], dtype=object)"
      ]
     },
     "execution_count": 514,
     "metadata": {},
     "output_type": "execute_result"
    }
   ],
   "source": [
    "df_clean['HDD'].unique()"
   ]
  },
  {
   "cell_type": "code",
   "execution_count": 515,
   "metadata": {},
   "outputs": [],
   "source": [
    "df_clean['HDD'] = df_clean['HDD'].apply(lambda x: nu.storage_cap(str(x)))"
   ]
  },
  {
   "cell_type": "code",
   "execution_count": 516,
   "metadata": {},
   "outputs": [],
   "source": [
    "df_clean['storage_cap'].fillna(df_clean['HDD'], inplace=True)"
   ]
  },
  {
   "cell_type": "markdown",
   "metadata": {},
   "source": [
    "## Get graphics type"
   ]
  },
  {
   "cell_type": "code",
   "execution_count": 529,
   "metadata": {},
   "outputs": [],
   "source": [
    "df_clean['graphics'] = df_clean['GPU/VGA Type'].apply(lambda x: nu.graphics_type(str(x)))"
   ]
  },
  {
   "cell_type": "code",
   "execution_count": 518,
   "metadata": {},
   "outputs": [],
   "source": [
    "df_clean['Graphics Interface'] = df_clean['Graphics Interface'].apply(lambda x: nu.graphics_type(str(x)))"
   ]
  },
  {
   "cell_type": "code",
   "execution_count": 531,
   "metadata": {},
   "outputs": [],
   "source": [
    "df_clean['graphics'] = df_clean['graphics'].fillna(df_clean['Graphics Interface'])"
   ]
  },
  {
   "cell_type": "markdown",
   "metadata": {},
   "source": [
    "## Clean up brand column"
   ]
  },
  {
   "cell_type": "code",
   "execution_count": 520,
   "metadata": {},
   "outputs": [],
   "source": [
    "df_clean['Brand'] = df_clean['Brand'].apply(lambda x: nu.get_brand(str(x)))"
   ]
  },
  {
   "cell_type": "markdown",
   "metadata": {},
   "source": [
    "## Exclude computers that come with a monitor"
   ]
  },
  {
   "cell_type": "code",
   "execution_count": 526,
   "metadata": {},
   "outputs": [],
   "source": [
    "df_clean = df_clean[(df_clean['Screen Size'] == 'No Screen') | df_clean['Screen Size'].isna()]"
   ]
  },
  {
   "cell_type": "code",
   "execution_count": 527,
   "metadata": {},
   "outputs": [],
   "source": [
    "df_clean.reset_index(inplace=True, drop=True)"
   ]
  },
  {
   "cell_type": "code",
   "execution_count": 548,
   "metadata": {},
   "outputs": [],
   "source": [
    "df_clean['Form Factor'] = df_clean['Form Factor'].apply(lambda x: nu.form_factor(str(x)))"
   ]
  },
  {
   "cell_type": "code",
   "execution_count": 551,
   "metadata": {},
   "outputs": [],
   "source": [
    "df_clean['form'] = df_clean['Form Factor']"
   ]
  },
  {
   "cell_type": "code",
   "execution_count": 553,
   "metadata": {},
   "outputs": [],
   "source": [
    "df_clean['brand'] = df_clean['Brand']"
   ]
  },
  {
   "cell_type": "code",
   "execution_count": 584,
   "metadata": {},
   "outputs": [],
   "source": [
    "df_clean.to_csv('cleaning.csv')"
   ]
  },
  {
   "cell_type": "code",
   "execution_count": 687,
   "metadata": {},
   "outputs": [
    {
     "data": {
      "text/html": [
       "<div>\n",
       "<style scoped>\n",
       "    .dataframe tbody tr th:only-of-type {\n",
       "        vertical-align: middle;\n",
       "    }\n",
       "\n",
       "    .dataframe tbody tr th {\n",
       "        vertical-align: top;\n",
       "    }\n",
       "\n",
       "    .dataframe thead th {\n",
       "        text-align: right;\n",
       "    }\n",
       "</style>\n",
       "<table border=\"1\" class=\"dataframe\">\n",
       "  <thead>\n",
       "    <tr style=\"text-align: right;\">\n",
       "      <th></th>\n",
       "      <th>price</th>\n",
       "      <th>link</th>\n",
       "      <th>Brand</th>\n",
       "      <th>Form Factor</th>\n",
       "      <th>Processor</th>\n",
       "      <th>Processor Main Features</th>\n",
       "      <th>Memory</th>\n",
       "      <th>Storage</th>\n",
       "      <th>Graphics</th>\n",
       "      <th>Operating System</th>\n",
       "      <th>...</th>\n",
       "      <th>proc_cores</th>\n",
       "      <th>proc_speed</th>\n",
       "      <th>mem_type</th>\n",
       "      <th>mem_cap</th>\n",
       "      <th>num_USB</th>\n",
       "      <th>storage_type</th>\n",
       "      <th>storage_cap</th>\n",
       "      <th>graphics</th>\n",
       "      <th>form</th>\n",
       "      <th>brand</th>\n",
       "    </tr>\n",
       "  </thead>\n",
       "  <tbody>\n",
       "    <tr>\n",
       "      <th>0</th>\n",
       "      <td>930</td>\n",
       "      <td>https://www.newegg.com/Product/Product.aspx?Item=N82E16883794893R&amp;ignorebbr=1</td>\n",
       "      <td>LENOVO</td>\n",
       "      <td>TOWER</td>\n",
       "      <td>Intel Core i7-8700 3.20 GHz</td>\n",
       "      <td>64 bit 6-Core Processor</td>\n",
       "      <td>16 GB DDR4 2666 + 16 GB Optane Memory</td>\n",
       "      <td>2 TB 7200 RPM HDD</td>\n",
       "      <td>NVIDIA GeForce GTX 1050 Ti 4 GB GDDR5</td>\n",
       "      <td>Windows 10</td>\n",
       "      <td>...</td>\n",
       "      <td>6.0</td>\n",
       "      <td>3.2</td>\n",
       "      <td>ddr4</td>\n",
       "      <td>16.0</td>\n",
       "      <td>8.0</td>\n",
       "      <td>hdd</td>\n",
       "      <td>2048.0</td>\n",
       "      <td>NVIDIA</td>\n",
       "      <td>TOWER</td>\n",
       "      <td>LENOVO</td>\n",
       "    </tr>\n",
       "    <tr>\n",
       "      <th>1</th>\n",
       "      <td>1050</td>\n",
       "      <td>https://www.newegg.com/Product/Product.aspx?Item=N82E16883794892R&amp;ignorebbr=1</td>\n",
       "      <td>LENOVO</td>\n",
       "      <td>TOWER</td>\n",
       "      <td>Intel Core i7-8700 3.20 GHz</td>\n",
       "      <td>64 bit 6-Core Processor</td>\n",
       "      <td>16 GB DDR4 2666 + 16 GB Optane Memory</td>\n",
       "      <td>2 TB 7200 RPM HDD</td>\n",
       "      <td>NVIDIA GeForce GTX 1060 6 GB GDDR5</td>\n",
       "      <td>Windows 10</td>\n",
       "      <td>...</td>\n",
       "      <td>6.0</td>\n",
       "      <td>3.2</td>\n",
       "      <td>ddr4</td>\n",
       "      <td>16.0</td>\n",
       "      <td>8.0</td>\n",
       "      <td>hdd</td>\n",
       "      <td>2048.0</td>\n",
       "      <td>NVIDIA</td>\n",
       "      <td>TOWER</td>\n",
       "      <td>LENOVO</td>\n",
       "    </tr>\n",
       "    <tr>\n",
       "      <th>2</th>\n",
       "      <td>379</td>\n",
       "      <td>https://www.newegg.com/Product/Product.aspx?Item=N82E16883794897R&amp;ignorebbr=1</td>\n",
       "      <td>LENOVO</td>\n",
       "      <td>TOWER</td>\n",
       "      <td>Intel Core i3-8100 3.60 GHz</td>\n",
       "      <td>64 bit Quad-Core Processor</td>\n",
       "      <td>4 GB DDR4 2666</td>\n",
       "      <td>1 TB 7200 RPM HDD</td>\n",
       "      <td>Intel UHD Graphics 630</td>\n",
       "      <td>Windows 10</td>\n",
       "      <td>...</td>\n",
       "      <td>2.0</td>\n",
       "      <td>3.6</td>\n",
       "      <td>ddr4</td>\n",
       "      <td>4.0</td>\n",
       "      <td>8.0</td>\n",
       "      <td>hdd</td>\n",
       "      <td>1024.0</td>\n",
       "      <td>INTEGRATED</td>\n",
       "      <td>TOWER</td>\n",
       "      <td>LENOVO</td>\n",
       "    </tr>\n",
       "    <tr>\n",
       "      <th>3</th>\n",
       "      <td>674</td>\n",
       "      <td>https://www.newegg.com/Product/Product.aspx?Item=N82E16883165597&amp;ignorebbr=1</td>\n",
       "      <td>DELL</td>\n",
       "      <td>SMALL</td>\n",
       "      <td>Intel Core i5-8600 3.10 GHz</td>\n",
       "      <td>64 bit 6-Core Processor</td>\n",
       "      <td>8 GB</td>\n",
       "      <td>256 GB SSD</td>\n",
       "      <td>Intel UHD Graphics 630</td>\n",
       "      <td>Windows 10</td>\n",
       "      <td>...</td>\n",
       "      <td>4.0</td>\n",
       "      <td>3.1</td>\n",
       "      <td>ddr4</td>\n",
       "      <td>8.0</td>\n",
       "      <td>8.0</td>\n",
       "      <td>ssd</td>\n",
       "      <td>256.0</td>\n",
       "      <td>INTEGRATED</td>\n",
       "      <td>SMALL</td>\n",
       "      <td>DELL</td>\n",
       "    </tr>\n",
       "    <tr>\n",
       "      <th>4</th>\n",
       "      <td>935</td>\n",
       "      <td>https://www.newegg.com/Product/Product.aspx?Item=1VK-001E-18MT6&amp;ignorebbr=1</td>\n",
       "      <td>NaN</td>\n",
       "      <td>NaN</td>\n",
       "      <td>NaN</td>\n",
       "      <td>NaN</td>\n",
       "      <td>NaN</td>\n",
       "      <td>NaN</td>\n",
       "      <td>NaN</td>\n",
       "      <td>NaN</td>\n",
       "      <td>...</td>\n",
       "      <td>NaN</td>\n",
       "      <td>NaN</td>\n",
       "      <td>NaN</td>\n",
       "      <td>NaN</td>\n",
       "      <td>8.0</td>\n",
       "      <td>hdd</td>\n",
       "      <td>NaN</td>\n",
       "      <td>NaN</td>\n",
       "      <td>NaN</td>\n",
       "      <td>NaN</td>\n",
       "    </tr>\n",
       "  </tbody>\n",
       "</table>\n",
       "<p>5 rows × 33 columns</p>\n",
       "</div>"
      ],
      "text/plain": [
       "  price  \\\n",
       "0   930   \n",
       "1  1050   \n",
       "2   379   \n",
       "3   674   \n",
       "4   935   \n",
       "\n",
       "                                                                            link  \\\n",
       "0  https://www.newegg.com/Product/Product.aspx?Item=N82E16883794893R&ignorebbr=1   \n",
       "1  https://www.newegg.com/Product/Product.aspx?Item=N82E16883794892R&ignorebbr=1   \n",
       "2  https://www.newegg.com/Product/Product.aspx?Item=N82E16883794897R&ignorebbr=1   \n",
       "3   https://www.newegg.com/Product/Product.aspx?Item=N82E16883165597&ignorebbr=1   \n",
       "4    https://www.newegg.com/Product/Product.aspx?Item=1VK-001E-18MT6&ignorebbr=1   \n",
       "\n",
       "    Brand Form Factor                    Processor  \\\n",
       "0  LENOVO       TOWER  Intel Core i7-8700 3.20 GHz   \n",
       "1  LENOVO       TOWER  Intel Core i7-8700 3.20 GHz   \n",
       "2  LENOVO       TOWER  Intel Core i3-8100 3.60 GHz   \n",
       "3    DELL       SMALL  Intel Core i5-8600 3.10 GHz   \n",
       "4     NaN         NaN                          NaN   \n",
       "\n",
       "      Processor Main Features                                 Memory  \\\n",
       "0     64 bit 6-Core Processor  16 GB DDR4 2666 + 16 GB Optane Memory   \n",
       "1     64 bit 6-Core Processor  16 GB DDR4 2666 + 16 GB Optane Memory   \n",
       "2  64 bit Quad-Core Processor                         4 GB DDR4 2666   \n",
       "3     64 bit 6-Core Processor                                   8 GB   \n",
       "4                         NaN                                    NaN   \n",
       "\n",
       "             Storage                               Graphics Operating System  \\\n",
       "0  2 TB 7200 RPM HDD  NVIDIA GeForce GTX 1050 Ti 4 GB GDDR5       Windows 10   \n",
       "1  2 TB 7200 RPM HDD     NVIDIA GeForce GTX 1060 6 GB GDDR5       Windows 10   \n",
       "2  1 TB 7200 RPM HDD                 Intel UHD Graphics 630       Windows 10   \n",
       "3         256 GB SSD                 Intel UHD Graphics 630       Windows 10   \n",
       "4                NaN                                    NaN              NaN   \n",
       "\n",
       "    ...   proc_cores proc_speed mem_type mem_cap num_USB  storage_type  \\\n",
       "0   ...          6.0        3.2     ddr4    16.0     8.0           hdd   \n",
       "1   ...          6.0        3.2     ddr4    16.0     8.0           hdd   \n",
       "2   ...          2.0        3.6     ddr4     4.0     8.0           hdd   \n",
       "3   ...          4.0        3.1     ddr4     8.0     8.0           ssd   \n",
       "4   ...          NaN        NaN      NaN     NaN     8.0           hdd   \n",
       "\n",
       "  storage_cap    graphics   form   brand  \n",
       "0      2048.0      NVIDIA  TOWER  LENOVO  \n",
       "1      2048.0      NVIDIA  TOWER  LENOVO  \n",
       "2      1024.0  INTEGRATED  TOWER  LENOVO  \n",
       "3       256.0  INTEGRATED  SMALL    DELL  \n",
       "4         NaN         NaN    NaN     NaN  \n",
       "\n",
       "[5 rows x 33 columns]"
      ]
     },
     "execution_count": 687,
     "metadata": {},
     "output_type": "execute_result"
    }
   ],
   "source": [
    "df_clean.head()"
   ]
  },
  {
   "cell_type": "code",
   "execution_count": 688,
   "metadata": {},
   "outputs": [
    {
     "data": {
      "text/plain": [
       "array(['price', 'link', 'Brand', 'Form Factor', 'Processor',\n",
       "       'Processor Main Features', 'Memory', 'Storage', 'Graphics',\n",
       "       'Operating System', 'CPU Type', 'CPU Speed', 'CPU Main Features',\n",
       "       'GPU/VGA Type', 'Memory Capacity', 'HDD', 'Screen Size',\n",
       "       'Graphics Interface', 'SSD', 'Front USB', 'Video Ports',\n",
       "       'Rear USB', 'proc_brand', 'proc_cores', 'proc_speed', 'mem_type',\n",
       "       'mem_cap', 'num_USB', 'storage_type', 'storage_cap', 'graphics',\n",
       "       'form', 'brand'], dtype=object)"
      ]
     },
     "execution_count": 688,
     "metadata": {},
     "output_type": "execute_result"
    }
   ],
   "source": [
    "df_clean.columns.values"
   ]
  },
  {
   "cell_type": "markdown",
   "metadata": {},
   "source": [
    "## Get dataframe ready for modeling\n",
    "\n",
    "Note: I'm excluding processor brand because there are only 7 AMD processors."
   ]
  },
  {
   "cell_type": "code",
   "execution_count": 696,
   "metadata": {},
   "outputs": [],
   "source": [
    "df_mod = df_clean[['price', 'proc_cores', 'proc_speed', 'mem_type', 'mem_cap',\n",
    "                   'num_USB', 'storage_type', 'storage_cap', 'graphics', 'form', 'brand']]"
   ]
  },
  {
   "cell_type": "code",
   "execution_count": 698,
   "metadata": {},
   "outputs": [],
   "source": [
    "df_mod = df_mod[df_mod['proc_cores'].notna()]"
   ]
  },
  {
   "cell_type": "code",
   "execution_count": 701,
   "metadata": {},
   "outputs": [],
   "source": [
    "df_mod = df_mod[df_mod['price'].notna()]"
   ]
  },
  {
   "cell_type": "markdown",
   "metadata": {},
   "source": [
    "## Fill nulls\n",
    "\n",
    "General strategy is going to be to fill categorical nulls with the mode of that category, and to fill continuous nulls with the median."
   ]
  },
  {
   "cell_type": "code",
   "execution_count": 705,
   "metadata": {},
   "outputs": [],
   "source": [
    "df_mod['proc_speed'] = df_mod['proc_speed'].fillna(df_mod['proc_speed'].median())"
   ]
  },
  {
   "cell_type": "code",
   "execution_count": 709,
   "metadata": {},
   "outputs": [],
   "source": [
    "df_mod['mem_type'] = df_mod['mem_type'].fillna('ddr3')"
   ]
  },
  {
   "cell_type": "code",
   "execution_count": 712,
   "metadata": {},
   "outputs": [],
   "source": [
    "df_mod['storage_cap'] = df_mod['storage_cap'].fillna(df_mod['storage_cap'].median())"
   ]
  },
  {
   "cell_type": "code",
   "execution_count": 718,
   "metadata": {},
   "outputs": [],
   "source": [
    "df_mod['graphics'] = df_mod['graphics'].fillna('INTEGRATED')"
   ]
  },
  {
   "cell_type": "code",
   "execution_count": 721,
   "metadata": {},
   "outputs": [],
   "source": [
    "df_mod['form'] = df_mod['form'].fillna('SMALL')"
   ]
  },
  {
   "cell_type": "code",
   "execution_count": 724,
   "metadata": {},
   "outputs": [],
   "source": [
    "df_mod['brand'] = df_mod['brand'].fillna('DELL')"
   ]
  },
  {
   "cell_type": "markdown",
   "metadata": {},
   "source": [
    "## Fix data types\n",
    "\n",
    "Make price an int.\n",
    "\n",
    "All other columns are in their correct form."
   ]
  },
  {
   "cell_type": "code",
   "execution_count": 728,
   "metadata": {},
   "outputs": [],
   "source": [
    "df_mod['price'] = df_mod['price'].str.replace(',', '')\n",
    "df_mod['price'] = df_mod['price'].astype(int)"
   ]
  },
  {
   "cell_type": "code",
   "execution_count": 731,
   "metadata": {},
   "outputs": [],
   "source": [
    "df_mod.to_csv('model.csv')"
   ]
  }
 ],
 "metadata": {
  "kernelspec": {
   "display_name": "Python 3",
   "language": "python",
   "name": "python3"
  },
  "language_info": {
   "codemirror_mode": {
    "name": "ipython",
    "version": 3
   },
   "file_extension": ".py",
   "mimetype": "text/x-python",
   "name": "python",
   "nbconvert_exporter": "python",
   "pygments_lexer": "ipython3",
   "version": "3.6.5"
  }
 },
 "nbformat": 4,
 "nbformat_minor": 2
}
